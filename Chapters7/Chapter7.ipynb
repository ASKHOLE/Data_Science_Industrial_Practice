{
 "cells": [
  {
   "cell_type": "code",
   "execution_count": 1,
   "metadata": {},
   "outputs": [
    {
     "name": "stdout",
     "output_type": "stream",
     "text": [
      "1.16.2\n",
      "1.2.1\n"
     ]
    }
   ],
   "source": [
    "import numpy\n",
    "import scipy\n",
    "from scipy.stats import norm\n",
    "print(numpy.__version__) #1.16.2\n",
    "print(scipy.__version__) #1.2.1"
   ]
  },
  {
   "cell_type": "code",
   "execution_count": 2,
   "metadata": {},
   "outputs": [
    {
     "name": "stdout",
     "output_type": "stream",
     "text": [
      "2495.5129770921467\n"
     ]
    }
   ],
   "source": [
    "#最小样本量计算\n",
    "#a为对照组 b为实验组\n",
    "\n",
    "sigma2=0.05*(1-0.05) #样本方差（率指标）\n",
    "alph=0.05 #第一类错误概率，一般取值为0.05\n",
    "beta=0.1 #第二类错误概率，一般取值为0.1或0.2\n",
    "mde=0.02 #样本均值预期最大提升（MDE）\n",
    "z1=norm.ppf(1-alph/2)\n",
    "z2=norm.ppf(1-beta)\n",
    "n=(2*((sigma2))*((z1+z2)**2))/mde**2 #最小样本量公式\n",
    "print(n)"
   ]
  },
  {
   "cell_type": "code",
   "execution_count": 3,
   "metadata": {},
   "outputs": [
    {
     "name": "stdout",
     "output_type": "stream",
     "text": [
      "1.046086215650277e-06\n"
     ]
    }
   ],
   "source": [
    "#实验评估\n",
    "x_a=0.061 #对照组样本均值\n",
    "x_b=0.097 #实验组样本均值\n",
    "s_a2=0.061*(1-0.061) #对照组样本方差\n",
    "s_b2=0.097*(1-0.097) #实验组样本方差\n",
    "n_a=2498 #对照组样本数\n",
    "n_b=2528 #实验组样本数\n",
    "z=(x_b-x_a)/(s_b2/n_b+s_a2/n_a)**0.5 #z值公式\n",
    "p=norm.cdf(z) \n",
    "print(1-p) #p值小于0.01 拒绝原假设"
   ]
  }
 ],
 "metadata": {
  "kernelspec": {
   "display_name": "Python 3",
   "language": "python",
   "name": "python3"
  },
  "language_info": {
   "codemirror_mode": {
    "name": "ipython",
    "version": 3
   },
   "file_extension": ".py",
   "mimetype": "text/x-python",
   "name": "python",
   "nbconvert_exporter": "python",
   "pygments_lexer": "ipython3",
   "version": "3.7.3"
  }
 },
 "nbformat": 4,
 "nbformat_minor": 2
}
