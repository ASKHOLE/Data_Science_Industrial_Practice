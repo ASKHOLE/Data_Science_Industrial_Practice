{
 "cells": [
  {
   "cell_type": "markdown",
   "metadata": {},
   "source": [
    "## 一、数据的加载和预处理"
   ]
  },
  {
   "cell_type": "markdown",
   "metadata": {},
   "source": [
    "### 加载库"
   ]
  },
  {
   "cell_type": "code",
   "execution_count": 1,
   "metadata": {},
   "outputs": [],
   "source": [
    "import numpy as np\n",
    "import pandas as pd"
   ]
  },
  {
   "cell_type": "markdown",
   "metadata": {},
   "source": [
    "### 读入数据"
   ]
  },
  {
   "cell_type": "code",
   "execution_count": 5,
   "metadata": {},
   "outputs": [],
   "source": [
    "OnlRt=pd.read_csv('./Data/data/OnlineRetail.csv',\n",
    "                  usecols=['CustomerID','InvoiceDate','UnitPrice','Quantity','Country'],\n",
    "                  encoding = \"ISO-8859-1\",\n",
    "                  parse_dates=['InvoiceDate'],\n",
    "                  dtype={'CustomerID':str,'UnitPrice':np.float32,'Quantity':np.int32,'Country':str})"
   ]
  },
  {
   "cell_type": "code",
   "execution_count": 6,
   "metadata": {},
   "outputs": [
    {
     "data": {
      "text/html": [
       "<div>\n",
       "<style scoped>\n",
       "    .dataframe tbody tr th:only-of-type {\n",
       "        vertical-align: middle;\n",
       "    }\n",
       "\n",
       "    .dataframe tbody tr th {\n",
       "        vertical-align: top;\n",
       "    }\n",
       "\n",
       "    .dataframe thead th {\n",
       "        text-align: right;\n",
       "    }\n",
       "</style>\n",
       "<table border=\"1\" class=\"dataframe\">\n",
       "  <thead>\n",
       "    <tr style=\"text-align: right;\">\n",
       "      <th></th>\n",
       "      <th>Quantity</th>\n",
       "      <th>InvoiceDate</th>\n",
       "      <th>UnitPrice</th>\n",
       "      <th>CustomerID</th>\n",
       "      <th>Country</th>\n",
       "    </tr>\n",
       "  </thead>\n",
       "  <tbody>\n",
       "    <tr>\n",
       "      <th>0</th>\n",
       "      <td>6</td>\n",
       "      <td>2010-12-01 08:26:00</td>\n",
       "      <td>2.55</td>\n",
       "      <td>17850</td>\n",
       "      <td>United Kingdom</td>\n",
       "    </tr>\n",
       "    <tr>\n",
       "      <th>1</th>\n",
       "      <td>6</td>\n",
       "      <td>2010-12-01 08:26:00</td>\n",
       "      <td>3.39</td>\n",
       "      <td>17850</td>\n",
       "      <td>United Kingdom</td>\n",
       "    </tr>\n",
       "    <tr>\n",
       "      <th>2</th>\n",
       "      <td>8</td>\n",
       "      <td>2010-12-01 08:26:00</td>\n",
       "      <td>2.75</td>\n",
       "      <td>17850</td>\n",
       "      <td>United Kingdom</td>\n",
       "    </tr>\n",
       "    <tr>\n",
       "      <th>3</th>\n",
       "      <td>6</td>\n",
       "      <td>2010-12-01 08:26:00</td>\n",
       "      <td>3.39</td>\n",
       "      <td>17850</td>\n",
       "      <td>United Kingdom</td>\n",
       "    </tr>\n",
       "    <tr>\n",
       "      <th>4</th>\n",
       "      <td>6</td>\n",
       "      <td>2010-12-01 08:26:00</td>\n",
       "      <td>3.39</td>\n",
       "      <td>17850</td>\n",
       "      <td>United Kingdom</td>\n",
       "    </tr>\n",
       "  </tbody>\n",
       "</table>\n",
       "</div>"
      ],
      "text/plain": [
       "   Quantity         InvoiceDate  UnitPrice CustomerID         Country\n",
       "0         6 2010-12-01 08:26:00       2.55      17850  United Kingdom\n",
       "1         6 2010-12-01 08:26:00       3.39      17850  United Kingdom\n",
       "2         8 2010-12-01 08:26:00       2.75      17850  United Kingdom\n",
       "3         6 2010-12-01 08:26:00       3.39      17850  United Kingdom\n",
       "4         6 2010-12-01 08:26:00       3.39      17850  United Kingdom"
      ]
     },
     "execution_count": 6,
     "metadata": {},
     "output_type": "execute_result"
    }
   ],
   "source": [
    "OnlRt.head()"
   ]
  },
  {
   "cell_type": "code",
   "execution_count": 8,
   "metadata": {},
   "outputs": [
    {
     "data": {
      "text/plain": [
       "(541909, 5)"
      ]
     },
     "execution_count": 8,
     "metadata": {},
     "output_type": "execute_result"
    }
   ],
   "source": [
    "OnlRt.shape"
   ]
  },
  {
   "cell_type": "code",
   "execution_count": 9,
   "metadata": {},
   "outputs": [
    {
     "data": {
      "text/html": [
       "<div>\n",
       "<style scoped>\n",
       "    .dataframe tbody tr th:only-of-type {\n",
       "        vertical-align: middle;\n",
       "    }\n",
       "\n",
       "    .dataframe tbody tr th {\n",
       "        vertical-align: top;\n",
       "    }\n",
       "\n",
       "    .dataframe thead th {\n",
       "        text-align: right;\n",
       "    }\n",
       "</style>\n",
       "<table border=\"1\" class=\"dataframe\">\n",
       "  <thead>\n",
       "    <tr style=\"text-align: right;\">\n",
       "      <th></th>\n",
       "      <th>Quantity</th>\n",
       "      <th>InvoiceDate</th>\n",
       "      <th>UnitPrice</th>\n",
       "    </tr>\n",
       "  </thead>\n",
       "  <tbody>\n",
       "    <tr>\n",
       "      <th>count</th>\n",
       "      <td>541909.000000</td>\n",
       "      <td>541909</td>\n",
       "      <td>541909.000000</td>\n",
       "    </tr>\n",
       "    <tr>\n",
       "      <th>mean</th>\n",
       "      <td>9.552250</td>\n",
       "      <td>2011-07-04 13:34:57.156386048</td>\n",
       "      <td>4.611114</td>\n",
       "    </tr>\n",
       "    <tr>\n",
       "      <th>min</th>\n",
       "      <td>-80995.000000</td>\n",
       "      <td>2010-12-01 08:26:00</td>\n",
       "      <td>-11062.059570</td>\n",
       "    </tr>\n",
       "    <tr>\n",
       "      <th>25%</th>\n",
       "      <td>1.000000</td>\n",
       "      <td>2011-03-28 11:34:00</td>\n",
       "      <td>1.250000</td>\n",
       "    </tr>\n",
       "    <tr>\n",
       "      <th>50%</th>\n",
       "      <td>3.000000</td>\n",
       "      <td>2011-07-19 17:17:00</td>\n",
       "      <td>2.080000</td>\n",
       "    </tr>\n",
       "    <tr>\n",
       "      <th>75%</th>\n",
       "      <td>10.000000</td>\n",
       "      <td>2011-10-19 11:27:00</td>\n",
       "      <td>4.130000</td>\n",
       "    </tr>\n",
       "    <tr>\n",
       "      <th>max</th>\n",
       "      <td>80995.000000</td>\n",
       "      <td>2011-12-09 12:50:00</td>\n",
       "      <td>38970.000000</td>\n",
       "    </tr>\n",
       "    <tr>\n",
       "      <th>std</th>\n",
       "      <td>218.081158</td>\n",
       "      <td>NaN</td>\n",
       "      <td>96.714073</td>\n",
       "    </tr>\n",
       "  </tbody>\n",
       "</table>\n",
       "</div>"
      ],
      "text/plain": [
       "            Quantity                    InvoiceDate      UnitPrice\n",
       "count  541909.000000                         541909  541909.000000\n",
       "mean        9.552250  2011-07-04 13:34:57.156386048       4.611114\n",
       "min    -80995.000000            2010-12-01 08:26:00  -11062.059570\n",
       "25%         1.000000            2011-03-28 11:34:00       1.250000\n",
       "50%         3.000000            2011-07-19 17:17:00       2.080000\n",
       "75%        10.000000            2011-10-19 11:27:00       4.130000\n",
       "max     80995.000000            2011-12-09 12:50:00   38970.000000\n",
       "std       218.081158                            NaN      96.714073"
      ]
     },
     "execution_count": 9,
     "metadata": {},
     "output_type": "execute_result"
    }
   ],
   "source": [
    "OnlRt.describe()"
   ]
  },
  {
   "cell_type": "code",
   "execution_count": 10,
   "metadata": {},
   "outputs": [
    {
     "data": {
      "text/plain": [
       "Country\n",
       "United Kingdom          495478\n",
       "Germany                   9495\n",
       "France                    8557\n",
       "EIRE                      8196\n",
       "Spain                     2533\n",
       "Netherlands               2371\n",
       "Belgium                   2069\n",
       "Switzerland               2002\n",
       "Portugal                  1519\n",
       "Australia                 1259\n",
       "Norway                    1086\n",
       "Italy                      803\n",
       "Channel Islands            758\n",
       "Finland                    695\n",
       "Cyprus                     622\n",
       "Sweden                     462\n",
       "Unspecified                446\n",
       "Austria                    401\n",
       "Denmark                    389\n",
       "Japan                      358\n",
       "Poland                     341\n",
       "Israel                     297\n",
       "USA                        291\n",
       "Hong Kong                  288\n",
       "Singapore                  229\n",
       "Iceland                    182\n",
       "Canada                     151\n",
       "Greece                     146\n",
       "Malta                      127\n",
       "United Arab Emirates        68\n",
       "European Community          61\n",
       "RSA                         58\n",
       "Lebanon                     45\n",
       "Lithuania                   35\n",
       "Brazil                      32\n",
       "Czech Republic              30\n",
       "Bahrain                     19\n",
       "Saudi Arabia                10\n",
       "Name: count, dtype: int64"
      ]
     },
     "execution_count": 10,
     "metadata": {},
     "output_type": "execute_result"
    }
   ],
   "source": [
    "OnlRt.Country.value_counts()"
   ]
  },
  {
   "cell_type": "markdown",
   "metadata": {},
   "source": [
    "### 数据清理"
   ]
  },
  {
   "cell_type": "code",
   "execution_count": 11,
   "metadata": {},
   "outputs": [],
   "source": [
    "neg_id=OnlRt[(OnlRt['Quantity']<=0)|(OnlRt['UnitPrice']<=0)].loc[:,'CustomerID']\n",
    "data0=OnlRt[(OnlRt['CustomerID'].notnull())&\n",
    "            (~OnlRt['CustomerID'].isin(neg_id))&\n",
    "            (OnlRt['Country']=='United Kingdom')].drop('Country',axis=1)"
   ]
  },
  {
   "cell_type": "code",
   "execution_count": 12,
   "metadata": {},
   "outputs": [
    {
     "data": {
      "text/plain": [
       "(140381, 4)"
      ]
     },
     "execution_count": 12,
     "metadata": {},
     "output_type": "execute_result"
    }
   ],
   "source": [
    "data0.shape"
   ]
  },
  {
   "cell_type": "markdown",
   "metadata": {},
   "source": [
    "### 找出第一次交易时间"
   ]
  },
  {
   "cell_type": "code",
   "execution_count": 21,
   "metadata": {},
   "outputs": [
    {
     "ename": "ValueError",
     "evalue": "You are trying to merge on object and int64 columns for key 'CustomerID'. If you wish to proceed you should use pd.concat",
     "output_type": "error",
     "traceback": [
      "\u001b[0;31m---------------------------------------------------------------------------\u001b[0m",
      "\u001b[0;31mValueError\u001b[0m                                Traceback (most recent call last)",
      "Cell \u001b[0;32mIn[21], line 4\u001b[0m\n\u001b[1;32m      1\u001b[0m data1\u001b[38;5;241m=\u001b[39mdata0\u001b[38;5;241m.\u001b[39massign(amount\u001b[38;5;241m=\u001b[39mdata0[\u001b[38;5;124m'\u001b[39m\u001b[38;5;124mUnitPrice\u001b[39m\u001b[38;5;124m'\u001b[39m]\u001b[38;5;241m.\u001b[39mmultiply(data0[\u001b[38;5;124m'\u001b[39m\u001b[38;5;124mQuantity\u001b[39m\u001b[38;5;124m'\u001b[39m]))\n\u001b[1;32m      2\u001b[0m first_time\u001b[38;5;241m=\u001b[39mdata1[\u001b[38;5;124m'\u001b[39m\u001b[38;5;124mInvoiceDate\u001b[39m\u001b[38;5;124m'\u001b[39m]\u001b[38;5;241m.\u001b[39msort_values(ascending\u001b[38;5;241m=\u001b[39m\u001b[38;5;28;01mTrue\u001b[39;00m)\u001b[38;5;241m.\u001b[39mgroupby(data1[\u001b[38;5;124m'\u001b[39m\u001b[38;5;124mCustomerID\u001b[39m\u001b[38;5;124m'\u001b[39m])\u001b[38;5;241m.\u001b[39mnth(\u001b[38;5;241m0\u001b[39m)\\\n\u001b[1;32m      3\u001b[0m \u001b[38;5;241m.\u001b[39mapply(\u001b[38;5;28;01mlambda\u001b[39;00m x:x\u001b[38;5;241m.\u001b[39mdate())\u001b[38;5;241m.\u001b[39mreset_index()\u001b[38;5;241m.\u001b[39mrename(columns\u001b[38;5;241m=\u001b[39m{\u001b[38;5;124m'\u001b[39m\u001b[38;5;124mInvoiceDate\u001b[39m\u001b[38;5;124m'\u001b[39m:\u001b[38;5;124m'\u001b[39m\u001b[38;5;124mfirst_time\u001b[39m\u001b[38;5;124m'\u001b[39m, \u001b[38;5;124m'\u001b[39m\u001b[38;5;124mindex\u001b[39m\u001b[38;5;124m'\u001b[39m:\u001b[38;5;124m'\u001b[39m\u001b[38;5;124mCustomerID\u001b[39m\u001b[38;5;124m'\u001b[39m})\n\u001b[0;32m----> 4\u001b[0m data2\u001b[38;5;241m=\u001b[39mpd\u001b[38;5;241m.\u001b[39mmerge(data1,first_time,how\u001b[38;5;241m=\u001b[39m\u001b[38;5;124m'\u001b[39m\u001b[38;5;124mleft\u001b[39m\u001b[38;5;124m'\u001b[39m,on\u001b[38;5;241m=\u001b[39m[\u001b[38;5;124m'\u001b[39m\u001b[38;5;124mCustomerID\u001b[39m\u001b[38;5;124m'\u001b[39m])\n",
      "File \u001b[0;32m/opt/anaconda3/lib/python3.11/site-packages/pandas/core/reshape/merge.py:169\u001b[0m, in \u001b[0;36mmerge\u001b[0;34m(left, right, how, on, left_on, right_on, left_index, right_index, sort, suffixes, copy, indicator, validate)\u001b[0m\n\u001b[1;32m    154\u001b[0m     \u001b[38;5;28;01mreturn\u001b[39;00m _cross_merge(\n\u001b[1;32m    155\u001b[0m         left_df,\n\u001b[1;32m    156\u001b[0m         right_df,\n\u001b[0;32m   (...)\u001b[0m\n\u001b[1;32m    166\u001b[0m         copy\u001b[38;5;241m=\u001b[39mcopy,\n\u001b[1;32m    167\u001b[0m     )\n\u001b[1;32m    168\u001b[0m \u001b[38;5;28;01melse\u001b[39;00m:\n\u001b[0;32m--> 169\u001b[0m     op \u001b[38;5;241m=\u001b[39m _MergeOperation(\n\u001b[1;32m    170\u001b[0m         left_df,\n\u001b[1;32m    171\u001b[0m         right_df,\n\u001b[1;32m    172\u001b[0m         how\u001b[38;5;241m=\u001b[39mhow,\n\u001b[1;32m    173\u001b[0m         on\u001b[38;5;241m=\u001b[39mon,\n\u001b[1;32m    174\u001b[0m         left_on\u001b[38;5;241m=\u001b[39mleft_on,\n\u001b[1;32m    175\u001b[0m         right_on\u001b[38;5;241m=\u001b[39mright_on,\n\u001b[1;32m    176\u001b[0m         left_index\u001b[38;5;241m=\u001b[39mleft_index,\n\u001b[1;32m    177\u001b[0m         right_index\u001b[38;5;241m=\u001b[39mright_index,\n\u001b[1;32m    178\u001b[0m         sort\u001b[38;5;241m=\u001b[39msort,\n\u001b[1;32m    179\u001b[0m         suffixes\u001b[38;5;241m=\u001b[39msuffixes,\n\u001b[1;32m    180\u001b[0m         indicator\u001b[38;5;241m=\u001b[39mindicator,\n\u001b[1;32m    181\u001b[0m         validate\u001b[38;5;241m=\u001b[39mvalidate,\n\u001b[1;32m    182\u001b[0m     )\n\u001b[1;32m    183\u001b[0m     \u001b[38;5;28;01mreturn\u001b[39;00m op\u001b[38;5;241m.\u001b[39mget_result(copy\u001b[38;5;241m=\u001b[39mcopy)\n",
      "File \u001b[0;32m/opt/anaconda3/lib/python3.11/site-packages/pandas/core/reshape/merge.py:804\u001b[0m, in \u001b[0;36m_MergeOperation.__init__\u001b[0;34m(self, left, right, how, on, left_on, right_on, left_index, right_index, sort, suffixes, indicator, validate)\u001b[0m\n\u001b[1;32m    800\u001b[0m \u001b[38;5;28mself\u001b[39m\u001b[38;5;241m.\u001b[39m_validate_tolerance(\u001b[38;5;28mself\u001b[39m\u001b[38;5;241m.\u001b[39mleft_join_keys)\n\u001b[1;32m    802\u001b[0m \u001b[38;5;66;03m# validate the merge keys dtypes. We may need to coerce\u001b[39;00m\n\u001b[1;32m    803\u001b[0m \u001b[38;5;66;03m# to avoid incompatible dtypes\u001b[39;00m\n\u001b[0;32m--> 804\u001b[0m \u001b[38;5;28mself\u001b[39m\u001b[38;5;241m.\u001b[39m_maybe_coerce_merge_keys()\n\u001b[1;32m    806\u001b[0m \u001b[38;5;66;03m# If argument passed to validate,\u001b[39;00m\n\u001b[1;32m    807\u001b[0m \u001b[38;5;66;03m# check if columns specified as unique\u001b[39;00m\n\u001b[1;32m    808\u001b[0m \u001b[38;5;66;03m# are in fact unique.\u001b[39;00m\n\u001b[1;32m    809\u001b[0m \u001b[38;5;28;01mif\u001b[39;00m validate \u001b[38;5;129;01mis\u001b[39;00m \u001b[38;5;129;01mnot\u001b[39;00m \u001b[38;5;28;01mNone\u001b[39;00m:\n",
      "File \u001b[0;32m/opt/anaconda3/lib/python3.11/site-packages/pandas/core/reshape/merge.py:1479\u001b[0m, in \u001b[0;36m_MergeOperation._maybe_coerce_merge_keys\u001b[0;34m(self)\u001b[0m\n\u001b[1;32m   1473\u001b[0m     \u001b[38;5;66;03m# unless we are merging non-string-like with string-like\u001b[39;00m\n\u001b[1;32m   1474\u001b[0m     \u001b[38;5;28;01melif\u001b[39;00m (\n\u001b[1;32m   1475\u001b[0m         inferred_left \u001b[38;5;129;01min\u001b[39;00m string_types \u001b[38;5;129;01mand\u001b[39;00m inferred_right \u001b[38;5;129;01mnot\u001b[39;00m \u001b[38;5;129;01min\u001b[39;00m string_types\n\u001b[1;32m   1476\u001b[0m     ) \u001b[38;5;129;01mor\u001b[39;00m (\n\u001b[1;32m   1477\u001b[0m         inferred_right \u001b[38;5;129;01min\u001b[39;00m string_types \u001b[38;5;129;01mand\u001b[39;00m inferred_left \u001b[38;5;129;01mnot\u001b[39;00m \u001b[38;5;129;01min\u001b[39;00m string_types\n\u001b[1;32m   1478\u001b[0m     ):\n\u001b[0;32m-> 1479\u001b[0m         \u001b[38;5;28;01mraise\u001b[39;00m \u001b[38;5;167;01mValueError\u001b[39;00m(msg)\n\u001b[1;32m   1481\u001b[0m \u001b[38;5;66;03m# datetimelikes must match exactly\u001b[39;00m\n\u001b[1;32m   1482\u001b[0m \u001b[38;5;28;01melif\u001b[39;00m needs_i8_conversion(lk\u001b[38;5;241m.\u001b[39mdtype) \u001b[38;5;129;01mand\u001b[39;00m \u001b[38;5;129;01mnot\u001b[39;00m needs_i8_conversion(rk\u001b[38;5;241m.\u001b[39mdtype):\n",
      "\u001b[0;31mValueError\u001b[0m: You are trying to merge on object and int64 columns for key 'CustomerID'. If you wish to proceed you should use pd.concat"
     ]
    }
   ],
   "source": [
    "data1=data0.assign(amount=data0['UnitPrice'].multiply(data0['Quantity']))\n",
    "first_time=data1['InvoiceDate'].sort_values(ascending=True).groupby(data1['CustomerID']).nth(0)\\\n",
    ".apply(lambda x:x.date()).reset_index().rename(columns={'InvoiceDate':'first_time', 'index':'CustomerID'})\n",
    "data2=pd.merge(data1,first_time,how='left',on=['CustomerID'])"
   ]
  },
  {
   "cell_type": "code",
   "execution_count": 25,
   "metadata": {},
   "outputs": [
    {
     "data": {
      "text/plain": [
       "dtype('int64')"
      ]
     },
     "execution_count": 25,
     "metadata": {},
     "output_type": "execute_result"
    }
   ],
   "source": [
    "first_time.CustomerID.dtype"
   ]
  },
  {
   "cell_type": "code",
   "execution_count": 54,
   "metadata": {},
   "outputs": [
    {
     "name": "stdout",
     "output_type": "stream",
     "text": [
      "<class 'pandas.core.frame.DataFrame'>\n",
      "Index: 140381 entries, 46 to 541701\n",
      "Data columns (total 5 columns):\n",
      " #   Column       Non-Null Count   Dtype         \n",
      "---  ------       --------------   -----         \n",
      " 0   Quantity     140381 non-null  int32         \n",
      " 1   InvoiceDate  140381 non-null  datetime64[ns]\n",
      " 2   UnitPrice    140381 non-null  float32       \n",
      " 3   CustomerID   140381 non-null  object        \n",
      " 4   amount       140381 non-null  float64       \n",
      "dtypes: datetime64[ns](1), float32(1), float64(1), int32(1), object(1)\n",
      "memory usage: 9.4+ MB\n"
     ]
    }
   ],
   "source": [
    "data1.info()"
   ]
  },
  {
   "cell_type": "code",
   "execution_count": 65,
   "metadata": {},
   "outputs": [],
   "source": [
    "first_time=data1['InvoiceDate'].sort_values(ascending=True).groupby(data1['CustomerID']).nth(0)\\\n",
    ".apply(lambda x:x.date()).reset_index().rename(columns={'InvoiceDate':'first_time', 'index':'CustomerID'})"
   ]
  },
  {
   "cell_type": "code",
   "execution_count": 66,
   "metadata": {},
   "outputs": [
    {
     "name": "stdout",
     "output_type": "stream",
     "text": [
      "<class 'pandas.core.frame.DataFrame'>\n",
      "RangeIndex: 2534 entries, 0 to 2533\n",
      "Data columns (total 2 columns):\n",
      " #   Column      Non-Null Count  Dtype \n",
      "---  ------      --------------  ----- \n",
      " 0   CustomerID  2534 non-null   int64 \n",
      " 1   first_time  2534 non-null   object\n",
      "dtypes: int64(1), object(1)\n",
      "memory usage: 39.7+ KB\n"
     ]
    }
   ],
   "source": [
    "first_time.info()"
   ]
  },
  {
   "cell_type": "code",
   "execution_count": 67,
   "metadata": {},
   "outputs": [],
   "source": [
    "first_time = first_time.astype({'CustomerID':data1.CustomerID.dtype, 'first_time':'object'})"
   ]
  },
  {
   "cell_type": "code",
   "execution_count": 68,
   "metadata": {},
   "outputs": [
    {
     "name": "stdout",
     "output_type": "stream",
     "text": [
      "<class 'pandas.core.frame.DataFrame'>\n",
      "RangeIndex: 2534 entries, 0 to 2533\n",
      "Data columns (total 2 columns):\n",
      " #   Column      Non-Null Count  Dtype \n",
      "---  ------      --------------  ----- \n",
      " 0   CustomerID  2534 non-null   object\n",
      " 1   first_time  2534 non-null   object\n",
      "dtypes: object(2)\n",
      "memory usage: 39.7+ KB\n"
     ]
    }
   ],
   "source": [
    "first_time.info()"
   ]
  },
  {
   "cell_type": "code",
   "execution_count": 72,
   "metadata": {},
   "outputs": [
    {
     "data": {
      "text/plain": [
       "True"
      ]
     },
     "execution_count": 72,
     "metadata": {},
     "output_type": "execute_result"
    }
   ],
   "source": [
    "first_time.CustomerID.dtype == data1.CustomerID.dtype"
   ]
  },
  {
   "cell_type": "code",
   "execution_count": 69,
   "metadata": {},
   "outputs": [],
   "source": [
    "data2=pd.merge(data1,first_time,how='left',on=['CustomerID'])"
   ]
  },
  {
   "cell_type": "code",
   "execution_count": 71,
   "metadata": {},
   "outputs": [
    {
     "data": {
      "text/plain": [
       "count       0\n",
       "unique      0\n",
       "top       NaN\n",
       "freq      NaN\n",
       "Name: first_time, dtype: object"
      ]
     },
     "execution_count": 71,
     "metadata": {},
     "output_type": "execute_result"
    }
   ],
   "source": [
    "data2.first_time.describe()"
   ]
  },
  {
   "cell_type": "code",
   "execution_count": 78,
   "metadata": {},
   "outputs": [
    {
     "data": {
      "text/plain": [
       "0"
      ]
     },
     "execution_count": 78,
     "metadata": {},
     "output_type": "execute_result"
    }
   ],
   "source": [
    "len(set(first_time.CustomerID.to_list()) & set(data1.CustomerID.to_list()))"
   ]
  },
  {
   "cell_type": "code",
   "execution_count": 82,
   "metadata": {},
   "outputs": [
    {
     "data": {
      "text/plain": [
       "46"
      ]
     },
     "execution_count": 82,
     "metadata": {},
     "output_type": "execute_result"
    }
   ],
   "source": [
    "first_time.CustomerID.min()"
   ]
  },
  {
   "cell_type": "code",
   "execution_count": 83,
   "metadata": {},
   "outputs": [
    {
     "data": {
      "text/plain": [
       "'12747'"
      ]
     },
     "execution_count": 83,
     "metadata": {},
     "output_type": "execute_result"
    }
   ],
   "source": [
    "data1.CustomerID.min()"
   ]
  },
  {
   "cell_type": "code",
   "execution_count": 84,
   "metadata": {},
   "outputs": [
    {
     "data": {
      "text/plain": [
       "True"
      ]
     },
     "execution_count": 84,
     "metadata": {},
     "output_type": "execute_result"
    }
   ],
   "source": [
    "first_time.CustomerID.dtype == data1.CustomerID.dtype"
   ]
  },
  {
   "cell_type": "code",
   "execution_count": 85,
   "metadata": {},
   "outputs": [
    {
     "name": "stdout",
     "output_type": "stream",
     "text": [
      "CustomerID    object\n",
      "first_time    object\n",
      "dtype: object\n",
      "Quantity                int32\n",
      "InvoiceDate    datetime64[ns]\n",
      "UnitPrice             float32\n",
      "CustomerID             object\n",
      "amount                float64\n",
      "dtype: object\n"
     ]
    }
   ],
   "source": [
    "print(first_time.dtypes)\n",
    "print(data1.dtypes)"
   ]
  },
  {
   "cell_type": "code",
   "execution_count": 86,
   "metadata": {},
   "outputs": [],
   "source": [
    "first_time.CustomerID = first_time.CustomerID.astype('str')"
   ]
  },
  {
   "cell_type": "code",
   "execution_count": 87,
   "metadata": {},
   "outputs": [
    {
     "data": {
      "text/plain": [
       "'100021'"
      ]
     },
     "execution_count": 87,
     "metadata": {},
     "output_type": "execute_result"
    }
   ],
   "source": [
    "first_time.CustomerID.min()"
   ]
  },
  {
   "cell_type": "code",
   "execution_count": 88,
   "metadata": {},
   "outputs": [
    {
     "data": {
      "text/plain": [
       "True"
      ]
     },
     "execution_count": 88,
     "metadata": {},
     "output_type": "execute_result"
    }
   ],
   "source": [
    "first_time.CustomerID.dtype == data1.CustomerID.dtype"
   ]
  },
  {
   "cell_type": "code",
   "execution_count": 89,
   "metadata": {},
   "outputs": [],
   "source": [
    "data2=pd.merge(data1,first_time,how='left',on=['CustomerID'])"
   ]
  },
  {
   "cell_type": "code",
   "execution_count": 90,
   "metadata": {},
   "outputs": [
    {
     "data": {
      "text/html": [
       "<div>\n",
       "<style scoped>\n",
       "    .dataframe tbody tr th:only-of-type {\n",
       "        vertical-align: middle;\n",
       "    }\n",
       "\n",
       "    .dataframe tbody tr th {\n",
       "        vertical-align: top;\n",
       "    }\n",
       "\n",
       "    .dataframe thead th {\n",
       "        text-align: right;\n",
       "    }\n",
       "</style>\n",
       "<table border=\"1\" class=\"dataframe\">\n",
       "  <thead>\n",
       "    <tr style=\"text-align: right;\">\n",
       "      <th></th>\n",
       "      <th>Quantity</th>\n",
       "      <th>InvoiceDate</th>\n",
       "      <th>UnitPrice</th>\n",
       "      <th>CustomerID</th>\n",
       "      <th>amount</th>\n",
       "      <th>first_time</th>\n",
       "    </tr>\n",
       "  </thead>\n",
       "  <tbody>\n",
       "    <tr>\n",
       "      <th>0</th>\n",
       "      <td>80</td>\n",
       "      <td>2010-12-01 09:00:00</td>\n",
       "      <td>2.55</td>\n",
       "      <td>13748</td>\n",
       "      <td>203.999996</td>\n",
       "      <td>NaN</td>\n",
       "    </tr>\n",
       "    <tr>\n",
       "      <th>1</th>\n",
       "      <td>12</td>\n",
       "      <td>2010-12-01 09:45:00</td>\n",
       "      <td>0.85</td>\n",
       "      <td>16098</td>\n",
       "      <td>10.200000</td>\n",
       "      <td>NaN</td>\n",
       "    </tr>\n",
       "    <tr>\n",
       "      <th>2</th>\n",
       "      <td>8</td>\n",
       "      <td>2010-12-01 09:45:00</td>\n",
       "      <td>3.75</td>\n",
       "      <td>16098</td>\n",
       "      <td>30.000000</td>\n",
       "      <td>NaN</td>\n",
       "    </tr>\n",
       "    <tr>\n",
       "      <th>3</th>\n",
       "      <td>12</td>\n",
       "      <td>2010-12-01 09:45:00</td>\n",
       "      <td>1.65</td>\n",
       "      <td>16098</td>\n",
       "      <td>19.800000</td>\n",
       "      <td>NaN</td>\n",
       "    </tr>\n",
       "    <tr>\n",
       "      <th>4</th>\n",
       "      <td>10</td>\n",
       "      <td>2010-12-01 09:45:00</td>\n",
       "      <td>1.95</td>\n",
       "      <td>16098</td>\n",
       "      <td>19.500000</td>\n",
       "      <td>NaN</td>\n",
       "    </tr>\n",
       "  </tbody>\n",
       "</table>\n",
       "</div>"
      ],
      "text/plain": [
       "   Quantity         InvoiceDate  UnitPrice CustomerID      amount first_time\n",
       "0        80 2010-12-01 09:00:00       2.55      13748  203.999996        NaN\n",
       "1        12 2010-12-01 09:45:00       0.85      16098   10.200000        NaN\n",
       "2         8 2010-12-01 09:45:00       3.75      16098   30.000000        NaN\n",
       "3        12 2010-12-01 09:45:00       1.65      16098   19.800000        NaN\n",
       "4        10 2010-12-01 09:45:00       1.95      16098   19.500000        NaN"
      ]
     },
     "execution_count": 90,
     "metadata": {},
     "output_type": "execute_result"
    }
   ],
   "source": [
    "data2.head()"
   ]
  },
  {
   "cell_type": "code",
   "execution_count": 92,
   "metadata": {},
   "outputs": [
    {
     "data": {
      "text/plain": [
       "{'13160',\n",
       " '13194',\n",
       " '13233',\n",
       " '13978',\n",
       " '14609',\n",
       " '14628',\n",
       " '14689',\n",
       " '15043',\n",
       " '16986',\n",
       " '17154',\n",
       " '17221',\n",
       " '17408',\n",
       " '17668',\n",
       " '17930',\n",
       " '18004',\n",
       " '18120'}"
      ]
     },
     "execution_count": 92,
     "metadata": {},
     "output_type": "execute_result"
    }
   ],
   "source": [
    "set(first_time.CustomerID.to_list()) & set(data1.CustomerID.to_list())"
   ]
  },
  {
   "cell_type": "code",
   "execution_count": 93,
   "metadata": {},
   "outputs": [],
   "source": [
    "# 将 data1 中的 CustomerID 列转换为字符串类型\n",
    "data1['CustomerID'] = data1['CustomerID'].astype(str)\n",
    "\n",
    "# 将 first_time 中的 CustomerID 列转换为字符串类型\n",
    "first_time['CustomerID'] = first_time['CustomerID'].astype(str)"
   ]
  },
  {
   "cell_type": "code",
   "execution_count": 95,
   "metadata": {},
   "outputs": [
    {
     "data": {
      "text/plain": [
       "{'13160',\n",
       " '13194',\n",
       " '13233',\n",
       " '13978',\n",
       " '14609',\n",
       " '14628',\n",
       " '14689',\n",
       " '15043',\n",
       " '16986',\n",
       " '17154',\n",
       " '17221',\n",
       " '17408',\n",
       " '17668',\n",
       " '17930',\n",
       " '18004',\n",
       " '18120'}"
      ]
     },
     "execution_count": 95,
     "metadata": {},
     "output_type": "execute_result"
    }
   ],
   "source": [
    "set(first_time.CustomerID.to_list()) & set(data1.CustomerID.to_list())"
   ]
  },
  {
   "cell_type": "code",
   "execution_count": 97,
   "metadata": {},
   "outputs": [
    {
     "data": {
      "text/plain": [
       "count     140381\n",
       "unique      2534\n",
       "top        13263\n",
       "freq        1677\n",
       "Name: CustomerID, dtype: object"
      ]
     },
     "execution_count": 97,
     "metadata": {},
     "output_type": "execute_result"
    }
   ],
   "source": [
    "data0.CustomerID.describe()"
   ]
  },
  {
   "cell_type": "code",
   "execution_count": 99,
   "metadata": {},
   "outputs": [
    {
     "data": {
      "text/plain": [
       "175874    12747\n",
       "241993    12747\n",
       "241994    12747\n",
       "241995    12747\n",
       "241996    12747\n",
       "          ...  \n",
       "198736    18287\n",
       "198735    18287\n",
       "198734    18287\n",
       "392727    18287\n",
       "198722    18287\n",
       "Name: CustomerID, Length: 140381, dtype: object"
      ]
     },
     "execution_count": 99,
     "metadata": {},
     "output_type": "execute_result"
    }
   ],
   "source": [
    "data0.CustomerID.sort_values()"
   ]
  },
  {
   "cell_type": "code",
   "execution_count": 111,
   "metadata": {},
   "outputs": [],
   "source": [
    "tmp = data1['InvoiceDate'].sort_values(ascending=True).groupby(data1['CustomerID']).nth(0)"
   ]
  },
  {
   "cell_type": "code",
   "execution_count": 112,
   "metadata": {},
   "outputs": [
    {
     "data": {
      "text/plain": [
       "46       2010-12-01 09:00:00\n",
       "153      2010-12-01 09:45:00\n",
       "163      2010-12-01 09:53:00\n",
       "174      2010-12-01 09:56:00\n",
       "196      2010-12-01 09:59:00\n",
       "                 ...        \n",
       "534536   2011-12-07 14:12:00\n",
       "536976   2011-12-08 10:33:00\n",
       "537265   2011-12-08 10:58:00\n",
       "538064   2011-12-08 13:11:00\n",
       "538823   2011-12-08 14:58:00\n",
       "Name: InvoiceDate, Length: 2534, dtype: datetime64[ns]"
      ]
     },
     "execution_count": 112,
     "metadata": {},
     "output_type": "execute_result"
    }
   ],
   "source": [
    "tmp"
   ]
  },
  {
   "cell_type": "code",
   "execution_count": 109,
   "metadata": {},
   "outputs": [
    {
     "data": {
      "text/plain": [
       "46"
      ]
     },
     "execution_count": 109,
     "metadata": {},
     "output_type": "execute_result"
    }
   ],
   "source": [
    "data1.index.min()"
   ]
  },
  {
   "cell_type": "code",
   "execution_count": 110,
   "metadata": {},
   "outputs": [
    {
     "data": {
      "text/plain": [
       "(2534,)"
      ]
     },
     "execution_count": 110,
     "metadata": {},
     "output_type": "execute_result"
    }
   ],
   "source": [
    "tmp.shape"
   ]
  },
  {
   "cell_type": "code",
   "execution_count": 116,
   "metadata": {},
   "outputs": [
    {
     "ename": "KeyError",
     "evalue": "\"['CustomerID'] not in index\"",
     "output_type": "error",
     "traceback": [
      "\u001b[0;31m---------------------------------------------------------------------------\u001b[0m",
      "\u001b[0;31mKeyError\u001b[0m                                  Traceback (most recent call last)",
      "Cell \u001b[0;32mIn[116], line 3\u001b[0m\n\u001b[1;32m      1\u001b[0m first_time \u001b[38;5;241m=\u001b[39m data1[\u001b[38;5;124m'\u001b[39m\u001b[38;5;124mInvoiceDate\u001b[39m\u001b[38;5;124m'\u001b[39m]\u001b[38;5;241m.\u001b[39msort_values(ascending\u001b[38;5;241m=\u001b[39m\u001b[38;5;28;01mTrue\u001b[39;00m)\u001b[38;5;241m.\u001b[39mgroupby(data1[\u001b[38;5;124m'\u001b[39m\u001b[38;5;124mCustomerID\u001b[39m\u001b[38;5;124m'\u001b[39m])\u001b[38;5;241m.\u001b[39mnth(\u001b[38;5;241m0\u001b[39m)\u001b[38;5;241m.\u001b[39mreset_index()\n\u001b[1;32m      2\u001b[0m first_time[\u001b[38;5;124m'\u001b[39m\u001b[38;5;124mfirst_time\u001b[39m\u001b[38;5;124m'\u001b[39m] \u001b[38;5;241m=\u001b[39m first_time[\u001b[38;5;124m'\u001b[39m\u001b[38;5;124mInvoiceDate\u001b[39m\u001b[38;5;124m'\u001b[39m]\u001b[38;5;241m.\u001b[39mapply(\u001b[38;5;28;01mlambda\u001b[39;00m x: x\u001b[38;5;241m.\u001b[39mdate())\n\u001b[0;32m----> 3\u001b[0m first_time \u001b[38;5;241m=\u001b[39m first_time[[\u001b[38;5;124m'\u001b[39m\u001b[38;5;124mCustomerID\u001b[39m\u001b[38;5;124m'\u001b[39m, \u001b[38;5;124m'\u001b[39m\u001b[38;5;124mfirst_time\u001b[39m\u001b[38;5;124m'\u001b[39m]]\n",
      "File \u001b[0;32m/opt/anaconda3/lib/python3.11/site-packages/pandas/core/frame.py:3899\u001b[0m, in \u001b[0;36mDataFrame.__getitem__\u001b[0;34m(self, key)\u001b[0m\n\u001b[1;32m   3897\u001b[0m     \u001b[38;5;28;01mif\u001b[39;00m is_iterator(key):\n\u001b[1;32m   3898\u001b[0m         key \u001b[38;5;241m=\u001b[39m \u001b[38;5;28mlist\u001b[39m(key)\n\u001b[0;32m-> 3899\u001b[0m     indexer \u001b[38;5;241m=\u001b[39m \u001b[38;5;28mself\u001b[39m\u001b[38;5;241m.\u001b[39mcolumns\u001b[38;5;241m.\u001b[39m_get_indexer_strict(key, \u001b[38;5;124m\"\u001b[39m\u001b[38;5;124mcolumns\u001b[39m\u001b[38;5;124m\"\u001b[39m)[\u001b[38;5;241m1\u001b[39m]\n\u001b[1;32m   3901\u001b[0m \u001b[38;5;66;03m# take() does not accept boolean indexers\u001b[39;00m\n\u001b[1;32m   3902\u001b[0m \u001b[38;5;28;01mif\u001b[39;00m \u001b[38;5;28mgetattr\u001b[39m(indexer, \u001b[38;5;124m\"\u001b[39m\u001b[38;5;124mdtype\u001b[39m\u001b[38;5;124m\"\u001b[39m, \u001b[38;5;28;01mNone\u001b[39;00m) \u001b[38;5;241m==\u001b[39m \u001b[38;5;28mbool\u001b[39m:\n",
      "File \u001b[0;32m/opt/anaconda3/lib/python3.11/site-packages/pandas/core/indexes/base.py:6115\u001b[0m, in \u001b[0;36mIndex._get_indexer_strict\u001b[0;34m(self, key, axis_name)\u001b[0m\n\u001b[1;32m   6112\u001b[0m \u001b[38;5;28;01melse\u001b[39;00m:\n\u001b[1;32m   6113\u001b[0m     keyarr, indexer, new_indexer \u001b[38;5;241m=\u001b[39m \u001b[38;5;28mself\u001b[39m\u001b[38;5;241m.\u001b[39m_reindex_non_unique(keyarr)\n\u001b[0;32m-> 6115\u001b[0m \u001b[38;5;28mself\u001b[39m\u001b[38;5;241m.\u001b[39m_raise_if_missing(keyarr, indexer, axis_name)\n\u001b[1;32m   6117\u001b[0m keyarr \u001b[38;5;241m=\u001b[39m \u001b[38;5;28mself\u001b[39m\u001b[38;5;241m.\u001b[39mtake(indexer)\n\u001b[1;32m   6118\u001b[0m \u001b[38;5;28;01mif\u001b[39;00m \u001b[38;5;28misinstance\u001b[39m(key, Index):\n\u001b[1;32m   6119\u001b[0m     \u001b[38;5;66;03m# GH 42790 - Preserve name from an Index\u001b[39;00m\n",
      "File \u001b[0;32m/opt/anaconda3/lib/python3.11/site-packages/pandas/core/indexes/base.py:6179\u001b[0m, in \u001b[0;36mIndex._raise_if_missing\u001b[0;34m(self, key, indexer, axis_name)\u001b[0m\n\u001b[1;32m   6176\u001b[0m     \u001b[38;5;28;01mraise\u001b[39;00m \u001b[38;5;167;01mKeyError\u001b[39;00m(\u001b[38;5;124mf\u001b[39m\u001b[38;5;124m\"\u001b[39m\u001b[38;5;124mNone of [\u001b[39m\u001b[38;5;132;01m{\u001b[39;00mkey\u001b[38;5;132;01m}\u001b[39;00m\u001b[38;5;124m] are in the [\u001b[39m\u001b[38;5;132;01m{\u001b[39;00maxis_name\u001b[38;5;132;01m}\u001b[39;00m\u001b[38;5;124m]\u001b[39m\u001b[38;5;124m\"\u001b[39m)\n\u001b[1;32m   6178\u001b[0m not_found \u001b[38;5;241m=\u001b[39m \u001b[38;5;28mlist\u001b[39m(ensure_index(key)[missing_mask\u001b[38;5;241m.\u001b[39mnonzero()[\u001b[38;5;241m0\u001b[39m]]\u001b[38;5;241m.\u001b[39munique())\n\u001b[0;32m-> 6179\u001b[0m \u001b[38;5;28;01mraise\u001b[39;00m \u001b[38;5;167;01mKeyError\u001b[39;00m(\u001b[38;5;124mf\u001b[39m\u001b[38;5;124m\"\u001b[39m\u001b[38;5;132;01m{\u001b[39;00mnot_found\u001b[38;5;132;01m}\u001b[39;00m\u001b[38;5;124m not in index\u001b[39m\u001b[38;5;124m\"\u001b[39m)\n",
      "\u001b[0;31mKeyError\u001b[0m: \"['CustomerID'] not in index\""
     ]
    }
   ],
   "source": [
    "first_time = data1['InvoiceDate'].sort_values(ascending=True).groupby(data1['CustomerID']).nth(0).reset_index()\n",
    "first_time['first_time'] = first_time['InvoiceDate'].apply(lambda x: x.date())\n",
    "first_time = first_time[['CustomerID', 'first_time']]"
   ]
  },
  {
   "cell_type": "code",
   "execution_count": 117,
   "metadata": {},
   "outputs": [
    {
     "data": {
      "text/html": [
       "<div>\n",
       "<style scoped>\n",
       "    .dataframe tbody tr th:only-of-type {\n",
       "        vertical-align: middle;\n",
       "    }\n",
       "\n",
       "    .dataframe tbody tr th {\n",
       "        vertical-align: top;\n",
       "    }\n",
       "\n",
       "    .dataframe thead th {\n",
       "        text-align: right;\n",
       "    }\n",
       "</style>\n",
       "<table border=\"1\" class=\"dataframe\">\n",
       "  <thead>\n",
       "    <tr style=\"text-align: right;\">\n",
       "      <th></th>\n",
       "      <th>index</th>\n",
       "      <th>InvoiceDate</th>\n",
       "      <th>first_time</th>\n",
       "    </tr>\n",
       "  </thead>\n",
       "  <tbody>\n",
       "    <tr>\n",
       "      <th>0</th>\n",
       "      <td>46</td>\n",
       "      <td>2010-12-01 09:00:00</td>\n",
       "      <td>2010-12-01</td>\n",
       "    </tr>\n",
       "    <tr>\n",
       "      <th>1</th>\n",
       "      <td>153</td>\n",
       "      <td>2010-12-01 09:45:00</td>\n",
       "      <td>2010-12-01</td>\n",
       "    </tr>\n",
       "    <tr>\n",
       "      <th>2</th>\n",
       "      <td>163</td>\n",
       "      <td>2010-12-01 09:53:00</td>\n",
       "      <td>2010-12-01</td>\n",
       "    </tr>\n",
       "    <tr>\n",
       "      <th>3</th>\n",
       "      <td>174</td>\n",
       "      <td>2010-12-01 09:56:00</td>\n",
       "      <td>2010-12-01</td>\n",
       "    </tr>\n",
       "    <tr>\n",
       "      <th>4</th>\n",
       "      <td>196</td>\n",
       "      <td>2010-12-01 09:59:00</td>\n",
       "      <td>2010-12-01</td>\n",
       "    </tr>\n",
       "    <tr>\n",
       "      <th>...</th>\n",
       "      <td>...</td>\n",
       "      <td>...</td>\n",
       "      <td>...</td>\n",
       "    </tr>\n",
       "    <tr>\n",
       "      <th>2529</th>\n",
       "      <td>534536</td>\n",
       "      <td>2011-12-07 14:12:00</td>\n",
       "      <td>2011-12-07</td>\n",
       "    </tr>\n",
       "    <tr>\n",
       "      <th>2530</th>\n",
       "      <td>536976</td>\n",
       "      <td>2011-12-08 10:33:00</td>\n",
       "      <td>2011-12-08</td>\n",
       "    </tr>\n",
       "    <tr>\n",
       "      <th>2531</th>\n",
       "      <td>537265</td>\n",
       "      <td>2011-12-08 10:58:00</td>\n",
       "      <td>2011-12-08</td>\n",
       "    </tr>\n",
       "    <tr>\n",
       "      <th>2532</th>\n",
       "      <td>538064</td>\n",
       "      <td>2011-12-08 13:11:00</td>\n",
       "      <td>2011-12-08</td>\n",
       "    </tr>\n",
       "    <tr>\n",
       "      <th>2533</th>\n",
       "      <td>538823</td>\n",
       "      <td>2011-12-08 14:58:00</td>\n",
       "      <td>2011-12-08</td>\n",
       "    </tr>\n",
       "  </tbody>\n",
       "</table>\n",
       "<p>2534 rows × 3 columns</p>\n",
       "</div>"
      ],
      "text/plain": [
       "       index         InvoiceDate  first_time\n",
       "0         46 2010-12-01 09:00:00  2010-12-01\n",
       "1        153 2010-12-01 09:45:00  2010-12-01\n",
       "2        163 2010-12-01 09:53:00  2010-12-01\n",
       "3        174 2010-12-01 09:56:00  2010-12-01\n",
       "4        196 2010-12-01 09:59:00  2010-12-01\n",
       "...      ...                 ...         ...\n",
       "2529  534536 2011-12-07 14:12:00  2011-12-07\n",
       "2530  536976 2011-12-08 10:33:00  2011-12-08\n",
       "2531  537265 2011-12-08 10:58:00  2011-12-08\n",
       "2532  538064 2011-12-08 13:11:00  2011-12-08\n",
       "2533  538823 2011-12-08 14:58:00  2011-12-08\n",
       "\n",
       "[2534 rows x 3 columns]"
      ]
     },
     "execution_count": 117,
     "metadata": {},
     "output_type": "execute_result"
    }
   ],
   "source": [
    "first_time"
   ]
  },
  {
   "cell_type": "code",
   "execution_count": 125,
   "metadata": {},
   "outputs": [],
   "source": [
    "tmp = data1['InvoiceDate'].sort_values(ascending=True).groupby(data1['CustomerID']).rank(ascending=True, method='dense')"
   ]
  },
  {
   "cell_type": "code",
   "execution_count": 129,
   "metadata": {},
   "outputs": [
    {
     "data": {
      "text/plain": [
       "57864"
      ]
     },
     "execution_count": 129,
     "metadata": {},
     "output_type": "execute_result"
    }
   ],
   "source": [
    "len(tmp.index[tmp==1].to_list())"
   ]
  },
  {
   "cell_type": "code",
   "execution_count": 133,
   "metadata": {},
   "outputs": [],
   "source": [
    "data1['rk'] = data1['InvoiceDate'].sort_values(ascending=True).groupby(data1['CustomerID']).rank(ascending=True, method='dense')"
   ]
  },
  {
   "cell_type": "code",
   "execution_count": 134,
   "metadata": {},
   "outputs": [
    {
     "data": {
      "text/html": [
       "<div>\n",
       "<style scoped>\n",
       "    .dataframe tbody tr th:only-of-type {\n",
       "        vertical-align: middle;\n",
       "    }\n",
       "\n",
       "    .dataframe tbody tr th {\n",
       "        vertical-align: top;\n",
       "    }\n",
       "\n",
       "    .dataframe thead th {\n",
       "        text-align: right;\n",
       "    }\n",
       "</style>\n",
       "<table border=\"1\" class=\"dataframe\">\n",
       "  <thead>\n",
       "    <tr style=\"text-align: right;\">\n",
       "      <th></th>\n",
       "      <th>Quantity</th>\n",
       "      <th>InvoiceDate</th>\n",
       "      <th>UnitPrice</th>\n",
       "      <th>CustomerID</th>\n",
       "      <th>amount</th>\n",
       "      <th>rk</th>\n",
       "    </tr>\n",
       "  </thead>\n",
       "  <tbody>\n",
       "    <tr>\n",
       "      <th>46</th>\n",
       "      <td>80</td>\n",
       "      <td>2010-12-01 09:00:00</td>\n",
       "      <td>2.55</td>\n",
       "      <td>13748</td>\n",
       "      <td>203.999996</td>\n",
       "      <td>1.0</td>\n",
       "    </tr>\n",
       "    <tr>\n",
       "      <th>142</th>\n",
       "      <td>12</td>\n",
       "      <td>2010-12-01 09:45:00</td>\n",
       "      <td>0.85</td>\n",
       "      <td>16098</td>\n",
       "      <td>10.200000</td>\n",
       "      <td>1.0</td>\n",
       "    </tr>\n",
       "    <tr>\n",
       "      <th>143</th>\n",
       "      <td>8</td>\n",
       "      <td>2010-12-01 09:45:00</td>\n",
       "      <td>3.75</td>\n",
       "      <td>16098</td>\n",
       "      <td>30.000000</td>\n",
       "      <td>1.0</td>\n",
       "    </tr>\n",
       "    <tr>\n",
       "      <th>144</th>\n",
       "      <td>12</td>\n",
       "      <td>2010-12-01 09:45:00</td>\n",
       "      <td>1.65</td>\n",
       "      <td>16098</td>\n",
       "      <td>19.800000</td>\n",
       "      <td>1.0</td>\n",
       "    </tr>\n",
       "    <tr>\n",
       "      <th>145</th>\n",
       "      <td>10</td>\n",
       "      <td>2010-12-01 09:45:00</td>\n",
       "      <td>1.95</td>\n",
       "      <td>16098</td>\n",
       "      <td>19.500000</td>\n",
       "      <td>1.0</td>\n",
       "    </tr>\n",
       "  </tbody>\n",
       "</table>\n",
       "</div>"
      ],
      "text/plain": [
       "     Quantity         InvoiceDate  UnitPrice CustomerID      amount   rk\n",
       "46         80 2010-12-01 09:00:00       2.55      13748  203.999996  1.0\n",
       "142        12 2010-12-01 09:45:00       0.85      16098   10.200000  1.0\n",
       "143         8 2010-12-01 09:45:00       3.75      16098   30.000000  1.0\n",
       "144        12 2010-12-01 09:45:00       1.65      16098   19.800000  1.0\n",
       "145        10 2010-12-01 09:45:00       1.95      16098   19.500000  1.0"
      ]
     },
     "execution_count": 134,
     "metadata": {},
     "output_type": "execute_result"
    }
   ],
   "source": [
    "data1.head()"
   ]
  },
  {
   "cell_type": "code",
   "execution_count": 137,
   "metadata": {},
   "outputs": [
    {
     "data": {
      "text/html": [
       "<div>\n",
       "<style scoped>\n",
       "    .dataframe tbody tr th:only-of-type {\n",
       "        vertical-align: middle;\n",
       "    }\n",
       "\n",
       "    .dataframe tbody tr th {\n",
       "        vertical-align: top;\n",
       "    }\n",
       "\n",
       "    .dataframe thead th {\n",
       "        text-align: right;\n",
       "    }\n",
       "</style>\n",
       "<table border=\"1\" class=\"dataframe\">\n",
       "  <thead>\n",
       "    <tr style=\"text-align: right;\">\n",
       "      <th></th>\n",
       "      <th>Quantity</th>\n",
       "      <th>InvoiceDate</th>\n",
       "      <th>UnitPrice</th>\n",
       "      <th>CustomerID</th>\n",
       "      <th>amount</th>\n",
       "      <th>rk</th>\n",
       "    </tr>\n",
       "  </thead>\n",
       "  <tbody>\n",
       "    <tr>\n",
       "      <th>142</th>\n",
       "      <td>12</td>\n",
       "      <td>2010-12-01 09:45:00</td>\n",
       "      <td>0.85</td>\n",
       "      <td>16098</td>\n",
       "      <td>10.200000</td>\n",
       "      <td>1.0</td>\n",
       "    </tr>\n",
       "    <tr>\n",
       "      <th>143</th>\n",
       "      <td>8</td>\n",
       "      <td>2010-12-01 09:45:00</td>\n",
       "      <td>3.75</td>\n",
       "      <td>16098</td>\n",
       "      <td>30.000000</td>\n",
       "      <td>1.0</td>\n",
       "    </tr>\n",
       "    <tr>\n",
       "      <th>144</th>\n",
       "      <td>12</td>\n",
       "      <td>2010-12-01 09:45:00</td>\n",
       "      <td>1.65</td>\n",
       "      <td>16098</td>\n",
       "      <td>19.800000</td>\n",
       "      <td>1.0</td>\n",
       "    </tr>\n",
       "    <tr>\n",
       "      <th>145</th>\n",
       "      <td>10</td>\n",
       "      <td>2010-12-01 09:45:00</td>\n",
       "      <td>1.95</td>\n",
       "      <td>16098</td>\n",
       "      <td>19.500000</td>\n",
       "      <td>1.0</td>\n",
       "    </tr>\n",
       "    <tr>\n",
       "      <th>146</th>\n",
       "      <td>10</td>\n",
       "      <td>2010-12-01 09:45:00</td>\n",
       "      <td>2.10</td>\n",
       "      <td>16098</td>\n",
       "      <td>20.999999</td>\n",
       "      <td>1.0</td>\n",
       "    </tr>\n",
       "    <tr>\n",
       "      <th>...</th>\n",
       "      <td>...</td>\n",
       "      <td>...</td>\n",
       "      <td>...</td>\n",
       "      <td>...</td>\n",
       "      <td>...</td>\n",
       "      <td>...</td>\n",
       "    </tr>\n",
       "    <tr>\n",
       "      <th>337946</th>\n",
       "      <td>3</td>\n",
       "      <td>2011-09-13 09:59:00</td>\n",
       "      <td>3.75</td>\n",
       "      <td>16098</td>\n",
       "      <td>11.250000</td>\n",
       "      <td>8.0</td>\n",
       "    </tr>\n",
       "    <tr>\n",
       "      <th>337945</th>\n",
       "      <td>2</td>\n",
       "      <td>2011-09-13 09:59:00</td>\n",
       "      <td>3.75</td>\n",
       "      <td>16098</td>\n",
       "      <td>7.500000</td>\n",
       "      <td>8.0</td>\n",
       "    </tr>\n",
       "    <tr>\n",
       "      <th>337956</th>\n",
       "      <td>24</td>\n",
       "      <td>2011-09-13 09:59:00</td>\n",
       "      <td>2.08</td>\n",
       "      <td>16098</td>\n",
       "      <td>49.919998</td>\n",
       "      <td>8.0</td>\n",
       "    </tr>\n",
       "    <tr>\n",
       "      <th>337950</th>\n",
       "      <td>10</td>\n",
       "      <td>2011-09-13 09:59:00</td>\n",
       "      <td>2.08</td>\n",
       "      <td>16098</td>\n",
       "      <td>20.799999</td>\n",
       "      <td>8.0</td>\n",
       "    </tr>\n",
       "    <tr>\n",
       "      <th>337957</th>\n",
       "      <td>24</td>\n",
       "      <td>2011-09-13 09:59:00</td>\n",
       "      <td>2.08</td>\n",
       "      <td>16098</td>\n",
       "      <td>49.919998</td>\n",
       "      <td>8.0</td>\n",
       "    </tr>\n",
       "  </tbody>\n",
       "</table>\n",
       "<p>67 rows × 6 columns</p>\n",
       "</div>"
      ],
      "text/plain": [
       "        Quantity         InvoiceDate  UnitPrice CustomerID     amount   rk\n",
       "142           12 2010-12-01 09:45:00       0.85      16098  10.200000  1.0\n",
       "143            8 2010-12-01 09:45:00       3.75      16098  30.000000  1.0\n",
       "144           12 2010-12-01 09:45:00       1.65      16098  19.800000  1.0\n",
       "145           10 2010-12-01 09:45:00       1.95      16098  19.500000  1.0\n",
       "146           10 2010-12-01 09:45:00       2.10      16098  20.999999  1.0\n",
       "...          ...                 ...        ...        ...        ...  ...\n",
       "337946         3 2011-09-13 09:59:00       3.75      16098  11.250000  8.0\n",
       "337945         2 2011-09-13 09:59:00       3.75      16098   7.500000  8.0\n",
       "337956        24 2011-09-13 09:59:00       2.08      16098  49.919998  8.0\n",
       "337950        10 2011-09-13 09:59:00       2.08      16098  20.799999  8.0\n",
       "337957        24 2011-09-13 09:59:00       2.08      16098  49.919998  8.0\n",
       "\n",
       "[67 rows x 6 columns]"
      ]
     },
     "execution_count": 137,
     "metadata": {},
     "output_type": "execute_result"
    }
   ],
   "source": [
    "data1[data1.CustomerID=='16098'].sort_values('InvoiceDate')"
   ]
  },
  {
   "cell_type": "code",
   "execution_count": 138,
   "metadata": {},
   "outputs": [
    {
     "data": {
      "text/plain": [
       "(140381, 6)"
      ]
     },
     "execution_count": 138,
     "metadata": {},
     "output_type": "execute_result"
    }
   ],
   "source": [
    "data1.shape"
   ]
  },
  {
   "cell_type": "code",
   "execution_count": 139,
   "metadata": {},
   "outputs": [],
   "source": [
    "data1[\"first_time\"] = data1.InvoiceDate.apply(lambda x: x.date())"
   ]
  },
  {
   "cell_type": "code",
   "execution_count": 140,
   "metadata": {},
   "outputs": [
    {
     "data": {
      "text/html": [
       "<div>\n",
       "<style scoped>\n",
       "    .dataframe tbody tr th:only-of-type {\n",
       "        vertical-align: middle;\n",
       "    }\n",
       "\n",
       "    .dataframe tbody tr th {\n",
       "        vertical-align: top;\n",
       "    }\n",
       "\n",
       "    .dataframe thead th {\n",
       "        text-align: right;\n",
       "    }\n",
       "</style>\n",
       "<table border=\"1\" class=\"dataframe\">\n",
       "  <thead>\n",
       "    <tr style=\"text-align: right;\">\n",
       "      <th></th>\n",
       "      <th>Quantity</th>\n",
       "      <th>InvoiceDate</th>\n",
       "      <th>UnitPrice</th>\n",
       "      <th>CustomerID</th>\n",
       "      <th>amount</th>\n",
       "      <th>first_time</th>\n",
       "    </tr>\n",
       "  </thead>\n",
       "  <tbody>\n",
       "    <tr>\n",
       "      <th>0</th>\n",
       "      <td>80</td>\n",
       "      <td>2010-12-01 09:00:00</td>\n",
       "      <td>2.55</td>\n",
       "      <td>13748</td>\n",
       "      <td>203.999996</td>\n",
       "      <td>NaN</td>\n",
       "    </tr>\n",
       "    <tr>\n",
       "      <th>1</th>\n",
       "      <td>12</td>\n",
       "      <td>2010-12-01 09:45:00</td>\n",
       "      <td>0.85</td>\n",
       "      <td>16098</td>\n",
       "      <td>10.200000</td>\n",
       "      <td>NaN</td>\n",
       "    </tr>\n",
       "    <tr>\n",
       "      <th>2</th>\n",
       "      <td>8</td>\n",
       "      <td>2010-12-01 09:45:00</td>\n",
       "      <td>3.75</td>\n",
       "      <td>16098</td>\n",
       "      <td>30.000000</td>\n",
       "      <td>NaN</td>\n",
       "    </tr>\n",
       "    <tr>\n",
       "      <th>3</th>\n",
       "      <td>12</td>\n",
       "      <td>2010-12-01 09:45:00</td>\n",
       "      <td>1.65</td>\n",
       "      <td>16098</td>\n",
       "      <td>19.800000</td>\n",
       "      <td>NaN</td>\n",
       "    </tr>\n",
       "    <tr>\n",
       "      <th>4</th>\n",
       "      <td>10</td>\n",
       "      <td>2010-12-01 09:45:00</td>\n",
       "      <td>1.95</td>\n",
       "      <td>16098</td>\n",
       "      <td>19.500000</td>\n",
       "      <td>NaN</td>\n",
       "    </tr>\n",
       "  </tbody>\n",
       "</table>\n",
       "</div>"
      ],
      "text/plain": [
       "   Quantity         InvoiceDate  UnitPrice CustomerID      amount first_time\n",
       "0        80 2010-12-01 09:00:00       2.55      13748  203.999996        NaN\n",
       "1        12 2010-12-01 09:45:00       0.85      16098   10.200000        NaN\n",
       "2         8 2010-12-01 09:45:00       3.75      16098   30.000000        NaN\n",
       "3        12 2010-12-01 09:45:00       1.65      16098   19.800000        NaN\n",
       "4        10 2010-12-01 09:45:00       1.95      16098   19.500000        NaN"
      ]
     },
     "execution_count": 140,
     "metadata": {},
     "output_type": "execute_result"
    }
   ],
   "source": [
    "data2.head()"
   ]
  },
  {
   "cell_type": "code",
   "execution_count": null,
   "metadata": {},
   "outputs": [],
   "source": [
    "data2 = data1[data1.rk == 1.0]['Quantity', 'first_time', 'UnitPrice', 'CustomerID', 'amount']"
   ]
  },
  {
   "cell_type": "code",
   "execution_count": 155,
   "metadata": {},
   "outputs": [],
   "source": [
    "data1 = data1.drop([\"rk\",\"first_time\"], axis=1)"
   ]
  },
  {
   "cell_type": "code",
   "execution_count": 141,
   "metadata": {},
   "outputs": [],
   "source": [
    "first_time = data1.groupby('CustomerID')['InvoiceDate'].min().reset_index()"
   ]
  },
  {
   "cell_type": "code",
   "execution_count": 143,
   "metadata": {},
   "outputs": [],
   "source": [
    "first_time['first_time'] = first_time.InvoiceDate.apply(lambda x: x.date())"
   ]
  },
  {
   "cell_type": "code",
   "execution_count": 144,
   "metadata": {},
   "outputs": [
    {
     "data": {
      "text/html": [
       "<div>\n",
       "<style scoped>\n",
       "    .dataframe tbody tr th:only-of-type {\n",
       "        vertical-align: middle;\n",
       "    }\n",
       "\n",
       "    .dataframe tbody tr th {\n",
       "        vertical-align: top;\n",
       "    }\n",
       "\n",
       "    .dataframe thead th {\n",
       "        text-align: right;\n",
       "    }\n",
       "</style>\n",
       "<table border=\"1\" class=\"dataframe\">\n",
       "  <thead>\n",
       "    <tr style=\"text-align: right;\">\n",
       "      <th></th>\n",
       "      <th>CustomerID</th>\n",
       "      <th>InvoiceDate</th>\n",
       "      <th>first_time</th>\n",
       "    </tr>\n",
       "  </thead>\n",
       "  <tbody>\n",
       "    <tr>\n",
       "      <th>0</th>\n",
       "      <td>12747</td>\n",
       "      <td>2010-12-05 15:38:00</td>\n",
       "      <td>2010-12-05</td>\n",
       "    </tr>\n",
       "    <tr>\n",
       "      <th>1</th>\n",
       "      <td>12820</td>\n",
       "      <td>2011-01-17 12:34:00</td>\n",
       "      <td>2011-01-17</td>\n",
       "    </tr>\n",
       "    <tr>\n",
       "      <th>2</th>\n",
       "      <td>12821</td>\n",
       "      <td>2011-05-09 15:51:00</td>\n",
       "      <td>2011-05-09</td>\n",
       "    </tr>\n",
       "    <tr>\n",
       "      <th>3</th>\n",
       "      <td>12823</td>\n",
       "      <td>2011-02-16 12:15:00</td>\n",
       "      <td>2011-02-16</td>\n",
       "    </tr>\n",
       "    <tr>\n",
       "      <th>4</th>\n",
       "      <td>12824</td>\n",
       "      <td>2011-10-11 12:49:00</td>\n",
       "      <td>2011-10-11</td>\n",
       "    </tr>\n",
       "    <tr>\n",
       "      <th>...</th>\n",
       "      <td>...</td>\n",
       "      <td>...</td>\n",
       "      <td>...</td>\n",
       "    </tr>\n",
       "    <tr>\n",
       "      <th>2529</th>\n",
       "      <td>18278</td>\n",
       "      <td>2011-09-27 11:58:00</td>\n",
       "      <td>2011-09-27</td>\n",
       "    </tr>\n",
       "    <tr>\n",
       "      <th>2530</th>\n",
       "      <td>18280</td>\n",
       "      <td>2011-03-07 09:52:00</td>\n",
       "      <td>2011-03-07</td>\n",
       "    </tr>\n",
       "    <tr>\n",
       "      <th>2531</th>\n",
       "      <td>18281</td>\n",
       "      <td>2011-06-12 10:53:00</td>\n",
       "      <td>2011-06-12</td>\n",
       "    </tr>\n",
       "    <tr>\n",
       "      <th>2532</th>\n",
       "      <td>18283</td>\n",
       "      <td>2011-01-06 14:14:00</td>\n",
       "      <td>2011-01-06</td>\n",
       "    </tr>\n",
       "    <tr>\n",
       "      <th>2533</th>\n",
       "      <td>18287</td>\n",
       "      <td>2011-05-22 10:39:00</td>\n",
       "      <td>2011-05-22</td>\n",
       "    </tr>\n",
       "  </tbody>\n",
       "</table>\n",
       "<p>2534 rows × 3 columns</p>\n",
       "</div>"
      ],
      "text/plain": [
       "     CustomerID         InvoiceDate  first_time\n",
       "0         12747 2010-12-05 15:38:00  2010-12-05\n",
       "1         12820 2011-01-17 12:34:00  2011-01-17\n",
       "2         12821 2011-05-09 15:51:00  2011-05-09\n",
       "3         12823 2011-02-16 12:15:00  2011-02-16\n",
       "4         12824 2011-10-11 12:49:00  2011-10-11\n",
       "...         ...                 ...         ...\n",
       "2529      18278 2011-09-27 11:58:00  2011-09-27\n",
       "2530      18280 2011-03-07 09:52:00  2011-03-07\n",
       "2531      18281 2011-06-12 10:53:00  2011-06-12\n",
       "2532      18283 2011-01-06 14:14:00  2011-01-06\n",
       "2533      18287 2011-05-22 10:39:00  2011-05-22\n",
       "\n",
       "[2534 rows x 3 columns]"
      ]
     },
     "execution_count": 144,
     "metadata": {},
     "output_type": "execute_result"
    }
   ],
   "source": [
    "first_time"
   ]
  },
  {
   "cell_type": "code",
   "execution_count": 156,
   "metadata": {},
   "outputs": [],
   "source": [
    "first_time = first_time.drop(\"InvoiceDate\", axis=1)"
   ]
  },
  {
   "cell_type": "code",
   "execution_count": 157,
   "metadata": {},
   "outputs": [],
   "source": [
    "data2=pd.merge(data1,first_time,how='left',on=['CustomerID'])"
   ]
  },
  {
   "cell_type": "code",
   "execution_count": 158,
   "metadata": {},
   "outputs": [
    {
     "data": {
      "text/html": [
       "<div>\n",
       "<style scoped>\n",
       "    .dataframe tbody tr th:only-of-type {\n",
       "        vertical-align: middle;\n",
       "    }\n",
       "\n",
       "    .dataframe tbody tr th {\n",
       "        vertical-align: top;\n",
       "    }\n",
       "\n",
       "    .dataframe thead th {\n",
       "        text-align: right;\n",
       "    }\n",
       "</style>\n",
       "<table border=\"1\" class=\"dataframe\">\n",
       "  <thead>\n",
       "    <tr style=\"text-align: right;\">\n",
       "      <th></th>\n",
       "      <th>Quantity</th>\n",
       "      <th>InvoiceDate</th>\n",
       "      <th>UnitPrice</th>\n",
       "      <th>CustomerID</th>\n",
       "      <th>amount</th>\n",
       "      <th>first_time</th>\n",
       "    </tr>\n",
       "  </thead>\n",
       "  <tbody>\n",
       "    <tr>\n",
       "      <th>0</th>\n",
       "      <td>80</td>\n",
       "      <td>2010-12-01 09:00:00</td>\n",
       "      <td>2.55</td>\n",
       "      <td>13748</td>\n",
       "      <td>203.999996</td>\n",
       "      <td>2010-12-01</td>\n",
       "    </tr>\n",
       "    <tr>\n",
       "      <th>1</th>\n",
       "      <td>12</td>\n",
       "      <td>2010-12-01 09:45:00</td>\n",
       "      <td>0.85</td>\n",
       "      <td>16098</td>\n",
       "      <td>10.200000</td>\n",
       "      <td>2010-12-01</td>\n",
       "    </tr>\n",
       "    <tr>\n",
       "      <th>2</th>\n",
       "      <td>8</td>\n",
       "      <td>2010-12-01 09:45:00</td>\n",
       "      <td>3.75</td>\n",
       "      <td>16098</td>\n",
       "      <td>30.000000</td>\n",
       "      <td>2010-12-01</td>\n",
       "    </tr>\n",
       "    <tr>\n",
       "      <th>3</th>\n",
       "      <td>12</td>\n",
       "      <td>2010-12-01 09:45:00</td>\n",
       "      <td>1.65</td>\n",
       "      <td>16098</td>\n",
       "      <td>19.800000</td>\n",
       "      <td>2010-12-01</td>\n",
       "    </tr>\n",
       "    <tr>\n",
       "      <th>4</th>\n",
       "      <td>10</td>\n",
       "      <td>2010-12-01 09:45:00</td>\n",
       "      <td>1.95</td>\n",
       "      <td>16098</td>\n",
       "      <td>19.500000</td>\n",
       "      <td>2010-12-01</td>\n",
       "    </tr>\n",
       "  </tbody>\n",
       "</table>\n",
       "</div>"
      ],
      "text/plain": [
       "   Quantity         InvoiceDate  UnitPrice CustomerID      amount  first_time\n",
       "0        80 2010-12-01 09:00:00       2.55      13748  203.999996  2010-12-01\n",
       "1        12 2010-12-01 09:45:00       0.85      16098   10.200000  2010-12-01\n",
       "2         8 2010-12-01 09:45:00       3.75      16098   30.000000  2010-12-01\n",
       "3        12 2010-12-01 09:45:00       1.65      16098   19.800000  2010-12-01\n",
       "4        10 2010-12-01 09:45:00       1.95      16098   19.500000  2010-12-01"
      ]
     },
     "execution_count": 158,
     "metadata": {},
     "output_type": "execute_result"
    }
   ],
   "source": [
    "data2.head()"
   ]
  },
  {
   "cell_type": "markdown",
   "metadata": {},
   "source": [
    "### 添加新特征"
   ]
  },
  {
   "cell_type": "code",
   "execution_count": 159,
   "metadata": {},
   "outputs": [],
   "source": [
    "dayth=(data2['InvoiceDate'].apply(lambda x: x.date())-data2['first_time']).apply(lambda x: x.days)"
   ]
  },
  {
   "cell_type": "code",
   "execution_count": 160,
   "metadata": {},
   "outputs": [],
   "source": [
    "month=data2['InvoiceDate'].apply(lambda x: x.month)\n",
    "weekday=data2['InvoiceDate'].apply(lambda x: x.weekday())\n",
    "hour=data2['InvoiceDate'].apply(lambda x: x.hour)\n",
    "minute=data2['InvoiceDate'].apply(lambda x: x.minute)\n",
    "second=data2['InvoiceDate'].apply(lambda x: x.second)"
   ]
  },
  {
   "cell_type": "code",
   "execution_count": 161,
   "metadata": {},
   "outputs": [],
   "source": [
    "hour_preci=(second/60+minute)/60+hour"
   ]
  },
  {
   "cell_type": "markdown",
   "metadata": {},
   "source": [
    "### 整合特征"
   ]
  },
  {
   "cell_type": "code",
   "execution_count": 162,
   "metadata": {},
   "outputs": [],
   "source": [
    "data3=data2.assign(dayth=dayth).assign(hour=hour_preci).\\\n",
    "assign(weekday=weekday).drop(['first_time','InvoiceDate'],axis=1).\\\n",
    "sort_values(by=['CustomerID','dayth','hour'])"
   ]
  },
  {
   "cell_type": "code",
   "execution_count": 164,
   "metadata": {},
   "outputs": [
    {
     "data": {
      "text/html": [
       "<div>\n",
       "<style scoped>\n",
       "    .dataframe tbody tr th:only-of-type {\n",
       "        vertical-align: middle;\n",
       "    }\n",
       "\n",
       "    .dataframe tbody tr th {\n",
       "        vertical-align: top;\n",
       "    }\n",
       "\n",
       "    .dataframe thead th {\n",
       "        text-align: right;\n",
       "    }\n",
       "</style>\n",
       "<table border=\"1\" class=\"dataframe\">\n",
       "  <thead>\n",
       "    <tr style=\"text-align: right;\">\n",
       "      <th></th>\n",
       "      <th>Quantity</th>\n",
       "      <th>UnitPrice</th>\n",
       "      <th>CustomerID</th>\n",
       "      <th>amount</th>\n",
       "      <th>dayth</th>\n",
       "      <th>hour</th>\n",
       "      <th>weekday</th>\n",
       "    </tr>\n",
       "  </thead>\n",
       "  <tbody>\n",
       "    <tr>\n",
       "      <th>3205</th>\n",
       "      <td>12</td>\n",
       "      <td>2.55</td>\n",
       "      <td>12747</td>\n",
       "      <td>30.599999</td>\n",
       "      <td>0</td>\n",
       "      <td>15.633333</td>\n",
       "      <td>6</td>\n",
       "    </tr>\n",
       "    <tr>\n",
       "      <th>3206</th>\n",
       "      <td>6</td>\n",
       "      <td>2.55</td>\n",
       "      <td>12747</td>\n",
       "      <td>15.300000</td>\n",
       "      <td>0</td>\n",
       "      <td>15.633333</td>\n",
       "      <td>6</td>\n",
       "    </tr>\n",
       "    <tr>\n",
       "      <th>3207</th>\n",
       "      <td>16</td>\n",
       "      <td>1.69</td>\n",
       "      <td>12747</td>\n",
       "      <td>27.040001</td>\n",
       "      <td>0</td>\n",
       "      <td>15.633333</td>\n",
       "      <td>6</td>\n",
       "    </tr>\n",
       "    <tr>\n",
       "      <th>3208</th>\n",
       "      <td>24</td>\n",
       "      <td>1.65</td>\n",
       "      <td>12747</td>\n",
       "      <td>39.599999</td>\n",
       "      <td>0</td>\n",
       "      <td>15.633333</td>\n",
       "      <td>6</td>\n",
       "    </tr>\n",
       "    <tr>\n",
       "      <th>3209</th>\n",
       "      <td>6</td>\n",
       "      <td>5.45</td>\n",
       "      <td>12747</td>\n",
       "      <td>32.699999</td>\n",
       "      <td>0</td>\n",
       "      <td>15.633333</td>\n",
       "      <td>6</td>\n",
       "    </tr>\n",
       "  </tbody>\n",
       "</table>\n",
       "</div>"
      ],
      "text/plain": [
       "      Quantity  UnitPrice CustomerID     amount  dayth       hour  weekday\n",
       "3205        12       2.55      12747  30.599999      0  15.633333        6\n",
       "3206         6       2.55      12747  15.300000      0  15.633333        6\n",
       "3207        16       1.69      12747  27.040001      0  15.633333        6\n",
       "3208        24       1.65      12747  39.599999      0  15.633333        6\n",
       "3209         6       5.45      12747  32.699999      0  15.633333        6"
      ]
     },
     "execution_count": 164,
     "metadata": {},
     "output_type": "execute_result"
    }
   ],
   "source": [
    "data3.head()"
   ]
  },
  {
   "cell_type": "code",
   "execution_count": 167,
   "metadata": {},
   "outputs": [
    {
     "data": {
      "text/html": [
       "<div>\n",
       "<style scoped>\n",
       "    .dataframe tbody tr th:only-of-type {\n",
       "        vertical-align: middle;\n",
       "    }\n",
       "\n",
       "    .dataframe tbody tr th {\n",
       "        vertical-align: top;\n",
       "    }\n",
       "\n",
       "    .dataframe thead th {\n",
       "        text-align: right;\n",
       "    }\n",
       "</style>\n",
       "<table border=\"1\" class=\"dataframe\">\n",
       "  <thead>\n",
       "    <tr style=\"text-align: right;\">\n",
       "      <th></th>\n",
       "      <th>Quantity</th>\n",
       "      <th>UnitPrice</th>\n",
       "      <th>amount</th>\n",
       "      <th>dayth</th>\n",
       "      <th>hour</th>\n",
       "      <th>weekday</th>\n",
       "    </tr>\n",
       "  </thead>\n",
       "  <tbody>\n",
       "    <tr>\n",
       "      <th>count</th>\n",
       "      <td>140381.000000</td>\n",
       "      <td>140381.000000</td>\n",
       "      <td>140381.000000</td>\n",
       "      <td>140381.00000</td>\n",
       "      <td>140381.000000</td>\n",
       "      <td>140381.000000</td>\n",
       "    </tr>\n",
       "    <tr>\n",
       "      <th>mean</th>\n",
       "      <td>8.973244</td>\n",
       "      <td>2.777895</td>\n",
       "      <td>14.087602</td>\n",
       "      <td>94.56445</td>\n",
       "      <td>13.423363</td>\n",
       "      <td>2.816343</td>\n",
       "    </tr>\n",
       "    <tr>\n",
       "      <th>std</th>\n",
       "      <td>37.246793</td>\n",
       "      <td>6.844531</td>\n",
       "      <td>40.202873</td>\n",
       "      <td>112.05215</td>\n",
       "      <td>2.116587</td>\n",
       "      <td>2.018826</td>\n",
       "    </tr>\n",
       "    <tr>\n",
       "      <th>min</th>\n",
       "      <td>1.000000</td>\n",
       "      <td>0.001000</td>\n",
       "      <td>0.001000</td>\n",
       "      <td>0.00000</td>\n",
       "      <td>7.583333</td>\n",
       "      <td>0.000000</td>\n",
       "    </tr>\n",
       "    <tr>\n",
       "      <th>25%</th>\n",
       "      <td>1.000000</td>\n",
       "      <td>1.250000</td>\n",
       "      <td>3.300000</td>\n",
       "      <td>0.00000</td>\n",
       "      <td>12.000000</td>\n",
       "      <td>1.000000</td>\n",
       "    </tr>\n",
       "    <tr>\n",
       "      <th>50%</th>\n",
       "      <td>4.000000</td>\n",
       "      <td>1.690000</td>\n",
       "      <td>8.250000</td>\n",
       "      <td>40.00000</td>\n",
       "      <td>13.350000</td>\n",
       "      <td>3.000000</td>\n",
       "    </tr>\n",
       "    <tr>\n",
       "      <th>75%</th>\n",
       "      <td>10.000000</td>\n",
       "      <td>3.250000</td>\n",
       "      <td>16.349999</td>\n",
       "      <td>176.00000</td>\n",
       "      <td>14.883333</td>\n",
       "      <td>4.000000</td>\n",
       "    </tr>\n",
       "    <tr>\n",
       "      <th>max</th>\n",
       "      <td>4300.000000</td>\n",
       "      <td>2033.099976</td>\n",
       "      <td>3861.000000</td>\n",
       "      <td>372.00000</td>\n",
       "      <td>20.266667</td>\n",
       "      <td>6.000000</td>\n",
       "    </tr>\n",
       "  </tbody>\n",
       "</table>\n",
       "</div>"
      ],
      "text/plain": [
       "            Quantity      UnitPrice         amount         dayth  \\\n",
       "count  140381.000000  140381.000000  140381.000000  140381.00000   \n",
       "mean        8.973244       2.777895      14.087602      94.56445   \n",
       "std        37.246793       6.844531      40.202873     112.05215   \n",
       "min         1.000000       0.001000       0.001000       0.00000   \n",
       "25%         1.000000       1.250000       3.300000       0.00000   \n",
       "50%         4.000000       1.690000       8.250000      40.00000   \n",
       "75%        10.000000       3.250000      16.349999     176.00000   \n",
       "max      4300.000000    2033.099976    3861.000000     372.00000   \n",
       "\n",
       "                hour        weekday  \n",
       "count  140381.000000  140381.000000  \n",
       "mean       13.423363       2.816343  \n",
       "std         2.116587       2.018826  \n",
       "min         7.583333       0.000000  \n",
       "25%        12.000000       1.000000  \n",
       "50%        13.350000       3.000000  \n",
       "75%        14.883333       4.000000  \n",
       "max        20.266667       6.000000  "
      ]
     },
     "execution_count": 167,
     "metadata": {},
     "output_type": "execute_result"
    }
   ],
   "source": [
    "data3.describe()"
   ]
  },
  {
   "cell_type": "markdown",
   "metadata": {},
   "source": [
    "### 分离特征数据和值数据"
   ]
  },
  {
   "cell_type": "code",
   "execution_count": 168,
   "metadata": {},
   "outputs": [],
   "source": [
    "X=data3[data3['dayth']<28].set_index('CustomerID').drop('amount',axis=1).sort_index()"
   ]
  },
  {
   "cell_type": "code",
   "execution_count": 169,
   "metadata": {},
   "outputs": [],
   "source": [
    "data180=data3[(data3['dayth']<180)&(data3['CustomerID'].isin(X.index))]\n",
    "y=data180['amount'].groupby(data180['CustomerID']).sum().sort_index()"
   ]
  },
  {
   "cell_type": "code",
   "execution_count": 178,
   "metadata": {},
   "outputs": [
    {
     "data": {
      "text/plain": [
       "(66001, 5)"
      ]
     },
     "execution_count": 178,
     "metadata": {},
     "output_type": "execute_result"
    }
   ],
   "source": [
    "X.shape"
   ]
  },
  {
   "cell_type": "code",
   "execution_count": 179,
   "metadata": {},
   "outputs": [
    {
     "data": {
      "text/plain": [
       "(2534,)"
      ]
     },
     "execution_count": 179,
     "metadata": {},
     "output_type": "execute_result"
    }
   ],
   "source": [
    "y.shape"
   ]
  },
  {
   "cell_type": "markdown",
   "metadata": {},
   "source": [
    "### 保存文件"
   ]
  },
  {
   "cell_type": "code",
   "execution_count": 170,
   "metadata": {},
   "outputs": [],
   "source": [
    "X.to_csv('./Data/bookdata_X.csv',index=True,header=True)\n",
    "y.to_csv('./Data/bookdata_y.csv',index=True,header=True)"
   ]
  },
  {
   "cell_type": "markdown",
   "metadata": {},
   "source": [
    "## 二、输入数据的准备"
   ]
  },
  {
   "cell_type": "markdown",
   "metadata": {},
   "source": [
    "### 加载库"
   ]
  },
  {
   "cell_type": "code",
   "execution_count": 172,
   "metadata": {
    "scrolled": true
   },
   "outputs": [
    {
     "name": "stdout",
     "output_type": "stream",
     "text": [
      "Looking in indexes: http://mirrors.aliyun.com/pypi/simple/\n",
      "Collecting keras\n",
      "  Downloading http://mirrors.aliyun.com/pypi/packages/46/43/03fa53f027e78af4a6bee3564d05cb34d9f5b924dc69c85f8ef5cb950ff1/keras-3.4.1-py3-none-any.whl (1.1 MB)\n",
      "\u001b[2K     \u001b[90m━━━━━━━━━━━━━━━━━━━━━━━━━━━━━━━━━━━━━━━━\u001b[0m \u001b[32m1.1/1.1 MB\u001b[0m \u001b[31m2.6 MB/s\u001b[0m eta \u001b[36m0:00:00\u001b[0m00:01\u001b[0m00:01\u001b[0m0m\n",
      "\u001b[?25hCollecting absl-py (from keras)\n",
      "  Downloading http://mirrors.aliyun.com/pypi/packages/a2/ad/e0d3c824784ff121c03cc031f944bc7e139a8f1870ffd2845cc2dd76f6c4/absl_py-2.1.0-py3-none-any.whl (133 kB)\n",
      "\u001b[2K     \u001b[90m━━━━━━━━━━━━━━━━━━━━━━━━━━━━━━━━━━━━━━━\u001b[0m \u001b[32m133.7/133.7 kB\u001b[0m \u001b[31m1.9 MB/s\u001b[0m eta \u001b[36m0:00:00\u001b[0m00:01\u001b[0m\n",
      "\u001b[?25hRequirement already satisfied: numpy in /opt/anaconda3/lib/python3.11/site-packages (from keras) (1.26.4)\n",
      "Requirement already satisfied: rich in /opt/anaconda3/lib/python3.11/site-packages (from keras) (13.3.5)\n",
      "Collecting namex (from keras)\n",
      "  Downloading http://mirrors.aliyun.com/pypi/packages/73/59/7854fbfb59f8ae35483ce93493708be5942ebb6328cd85b3a609df629736/namex-0.0.8-py3-none-any.whl (5.8 kB)\n",
      "Requirement already satisfied: h5py in /opt/anaconda3/lib/python3.11/site-packages (from keras) (3.9.0)\n",
      "Collecting optree (from keras)\n",
      "  Downloading http://mirrors.aliyun.com/pypi/packages/74/04/149d07690c9d0353bf352ef5627ebcd0dd8bd6263168b17b21225f71f8d7/optree-0.12.1-cp311-cp311-macosx_10_9_universal2.whl (523 kB)\n",
      "\u001b[2K     \u001b[90m━━━━━━━━━━━━━━━━━━━━━━━━━━━━━━━━━━━━━━━\u001b[0m \u001b[32m523.8/523.8 kB\u001b[0m \u001b[31m2.6 MB/s\u001b[0m eta \u001b[36m0:00:00\u001b[0ma \u001b[36m0:00:01\u001b[0m\n",
      "\u001b[?25hCollecting ml-dtypes (from keras)\n",
      "  Downloading http://mirrors.aliyun.com/pypi/packages/42/6b/b2fa3e2386c2b7dde43f12b83c67f6e583039141dfbb58e5c8fd365a5a7d/ml_dtypes-0.4.0-cp311-cp311-macosx_10_9_universal2.whl (390 kB)\n",
      "\u001b[2K     \u001b[90m━━━━━━━━━━━━━━━━━━━━━━━━━━━━━━━━━━━━━━━\u001b[0m \u001b[32m390.9/390.9 kB\u001b[0m \u001b[31m2.3 MB/s\u001b[0m eta \u001b[36m0:00:00\u001b[0m00:01\u001b[0m00:01\u001b[0m\n",
      "\u001b[?25hRequirement already satisfied: packaging in /opt/anaconda3/lib/python3.11/site-packages (from keras) (23.1)\n",
      "Requirement already satisfied: typing-extensions>=4.5.0 in /opt/anaconda3/lib/python3.11/site-packages (from optree->keras) (4.9.0)\n",
      "Requirement already satisfied: markdown-it-py<3.0.0,>=2.2.0 in /opt/anaconda3/lib/python3.11/site-packages (from rich->keras) (2.2.0)\n",
      "Requirement already satisfied: pygments<3.0.0,>=2.13.0 in /opt/anaconda3/lib/python3.11/site-packages (from rich->keras) (2.15.1)\n",
      "Requirement already satisfied: mdurl~=0.1 in /opt/anaconda3/lib/python3.11/site-packages (from markdown-it-py<3.0.0,>=2.2.0->rich->keras) (0.1.0)\n",
      "Installing collected packages: namex, optree, ml-dtypes, absl-py, keras\n",
      "Successfully installed absl-py-2.1.0 keras-3.4.1 ml-dtypes-0.4.0 namex-0.0.8 optree-0.12.1\n"
     ]
    }
   ],
   "source": [
    "!pip install keras -i http://mirrors.aliyun.com/pypi/simple/ --trusted-host mirrors.aliyun.com"
   ]
  },
  {
   "cell_type": "code",
   "execution_count": 174,
   "metadata": {
    "scrolled": true
   },
   "outputs": [
    {
     "name": "stdout",
     "output_type": "stream",
     "text": [
      "Looking in indexes: http://mirrors.aliyun.com/pypi/simple/\n",
      "Collecting tensorflow\n",
      "  Downloading http://mirrors.aliyun.com/pypi/packages/6d/69/9999c2d9e8a3b08dfcfc7e9259a05fb1da5f700936091d2eb4a7985c2776/tensorflow-2.16.2-cp311-cp311-macosx_10_15_x86_64.whl (259.6 MB)\n",
      "\u001b[2K     \u001b[90m━━━━━━━━━━━━━━━━━━━━━━━━━━━━━━━━━━━━━━━\u001b[0m \u001b[32m259.6/259.6 MB\u001b[0m \u001b[31m1.5 MB/s\u001b[0m eta \u001b[36m0:00:00\u001b[0m00:01\u001b[0m00:03\u001b[0m\n",
      "\u001b[?25hRequirement already satisfied: absl-py>=1.0.0 in /opt/anaconda3/lib/python3.11/site-packages (from tensorflow) (2.1.0)\n",
      "Collecting astunparse>=1.6.0 (from tensorflow)\n",
      "  Downloading http://mirrors.aliyun.com/pypi/packages/2b/03/13dde6512ad7b4557eb792fbcf0c653af6076b81e5941d36ec61f7ce6028/astunparse-1.6.3-py2.py3-none-any.whl (12 kB)\n",
      "Collecting flatbuffers>=23.5.26 (from tensorflow)\n",
      "  Downloading http://mirrors.aliyun.com/pypi/packages/41/f0/7e988a019bc54b2dbd0ad4182ef2d53488bb02e58694cd79d61369e85900/flatbuffers-24.3.25-py2.py3-none-any.whl (26 kB)\n",
      "Collecting gast!=0.5.0,!=0.5.1,!=0.5.2,>=0.2.1 (from tensorflow)\n",
      "  Downloading http://mirrors.aliyun.com/pypi/packages/a3/61/8001b38461d751cd1a0c3a6ae84346796a5758123f3ed97a1b121dfbf4f3/gast-0.6.0-py3-none-any.whl (21 kB)\n",
      "Collecting google-pasta>=0.1.1 (from tensorflow)\n",
      "  Downloading http://mirrors.aliyun.com/pypi/packages/a3/de/c648ef6835192e6e2cc03f40b19eeda4382c49b5bafb43d88b931c4c74ac/google_pasta-0.2.0-py3-none-any.whl (57 kB)\n",
      "\u001b[2K     \u001b[90m━━━━━━━━━━━━━━━━━━━━━━━━━━━━━━━━━━━━━━━━\u001b[0m \u001b[32m57.5/57.5 kB\u001b[0m \u001b[31m1.1 MB/s\u001b[0m eta \u001b[36m0:00:00\u001b[0ma \u001b[36m0:00:01\u001b[0m\n",
      "\u001b[?25hCollecting h5py>=3.10.0 (from tensorflow)\n",
      "  Downloading http://mirrors.aliyun.com/pypi/packages/a0/52/38bb74cc4362738cc7ef819503fc54d70f0c3a7378519ccb0ac309389122/h5py-3.11.0-cp311-cp311-macosx_10_9_x86_64.whl (3.5 MB)\n",
      "\u001b[2K     \u001b[90m━━━━━━━━━━━━━━━━━━━━━━━━━━━━━━━━━━━━━━━━\u001b[0m \u001b[32m3.5/3.5 MB\u001b[0m \u001b[31m2.7 MB/s\u001b[0m eta \u001b[36m0:00:00\u001b[0m00:01\u001b[0m00:01\u001b[0m\n",
      "\u001b[?25hCollecting libclang>=13.0.0 (from tensorflow)\n",
      "  Downloading http://mirrors.aliyun.com/pypi/packages/e2/e5/fc61bbded91a8830ccce94c5294ecd6e88e496cc85f6704bf350c0634b70/libclang-18.1.1-py2.py3-none-macosx_10_9_x86_64.whl (26.5 MB)\n",
      "\u001b[2K     \u001b[90m━━━━━━━━━━━━━━━━━━━━━━━━━━━━━━━━━━━━━━━━\u001b[0m \u001b[32m26.5/26.5 MB\u001b[0m \u001b[31m2.4 MB/s\u001b[0m eta \u001b[36m0:00:00\u001b[0m00:01\u001b[0m00:01\u001b[0m\n",
      "\u001b[?25hCollecting ml-dtypes~=0.3.1 (from tensorflow)\n",
      "  Downloading http://mirrors.aliyun.com/pypi/packages/6e/a4/6aabb78f1569550fd77c74d2c1d008b502c8ce72776bd88b14ea6c182c9e/ml_dtypes-0.3.2-cp311-cp311-macosx_10_9_universal2.whl (389 kB)\n",
      "\u001b[2K     \u001b[90m━━━━━━━━━━━━━━━━━━━━━━━━━━━━━━━━━━━━━━━\u001b[0m \u001b[32m389.8/389.8 kB\u001b[0m \u001b[31m1.5 MB/s\u001b[0m eta \u001b[36m0:00:00\u001b[0ma \u001b[36m0:00:01\u001b[0m\n",
      "\u001b[?25hCollecting opt-einsum>=2.3.2 (from tensorflow)\n",
      "  Downloading http://mirrors.aliyun.com/pypi/packages/bc/19/404708a7e54ad2798907210462fd950c3442ea51acc8790f3da48d2bee8b/opt_einsum-3.3.0-py3-none-any.whl (65 kB)\n",
      "\u001b[2K     \u001b[90m━━━━━━━━━━━━━━━━━━━━━━━━━━━━━━━━━━━━━━━━\u001b[0m \u001b[32m65.5/65.5 kB\u001b[0m \u001b[31m1.3 MB/s\u001b[0m eta \u001b[36m0:00:00\u001b[0ma \u001b[36m0:00:01\u001b[0m\n",
      "\u001b[?25hRequirement already satisfied: packaging in /opt/anaconda3/lib/python3.11/site-packages (from tensorflow) (23.1)\n",
      "Requirement already satisfied: protobuf!=4.21.0,!=4.21.1,!=4.21.2,!=4.21.3,!=4.21.4,!=4.21.5,<5.0.0dev,>=3.20.3 in /opt/anaconda3/lib/python3.11/site-packages (from tensorflow) (3.20.3)\n",
      "Requirement already satisfied: requests<3,>=2.21.0 in /opt/anaconda3/lib/python3.11/site-packages (from tensorflow) (2.31.0)\n",
      "Requirement already satisfied: setuptools in /opt/anaconda3/lib/python3.11/site-packages (from tensorflow) (68.2.2)\n",
      "Requirement already satisfied: six>=1.12.0 in /opt/anaconda3/lib/python3.11/site-packages (from tensorflow) (1.16.0)\n",
      "Collecting termcolor>=1.1.0 (from tensorflow)\n",
      "  Downloading http://mirrors.aliyun.com/pypi/packages/d9/5f/8c716e47b3a50cbd7c146f45881e11d9414def768b7cd9c5e6650ec2a80a/termcolor-2.4.0-py3-none-any.whl (7.7 kB)\n",
      "Requirement already satisfied: typing-extensions>=3.6.6 in /opt/anaconda3/lib/python3.11/site-packages (from tensorflow) (4.9.0)\n",
      "Requirement already satisfied: wrapt>=1.11.0 in /opt/anaconda3/lib/python3.11/site-packages (from tensorflow) (1.14.1)\n",
      "Collecting grpcio<2.0,>=1.24.3 (from tensorflow)\n",
      "  Downloading http://mirrors.aliyun.com/pypi/packages/34/9e/e0bad6cc37e83afa06fca88de9ca5456a9ac449312e6fcdd81ed28a0e944/grpcio-1.65.1-cp311-cp311-macosx_10_9_universal2.whl (10.4 MB)\n",
      "\u001b[2K     \u001b[90m━━━━━━━━━━━━━━━━━━━━━━━━━━━━━━━━━━━━━━━━\u001b[0m \u001b[32m10.4/10.4 MB\u001b[0m \u001b[31m2.6 MB/s\u001b[0m eta \u001b[36m0:00:00\u001b[0m00:01\u001b[0m00:01\u001b[0m\n",
      "\u001b[?25hCollecting tensorboard<2.17,>=2.16 (from tensorflow)\n",
      "  Downloading http://mirrors.aliyun.com/pypi/packages/3a/d0/b97889ffa769e2d1fdebb632084d5e8b53fc299d43a537acee7ec0c021a3/tensorboard-2.16.2-py3-none-any.whl (5.5 MB)\n",
      "\u001b[2K     \u001b[90m━━━━━━━━━━━━━━━━━━━━━━━━━━━━━━━━━━━━━━━━\u001b[0m \u001b[32m5.5/5.5 MB\u001b[0m \u001b[31m2.6 MB/s\u001b[0m eta \u001b[36m0:00:00\u001b[0m00:01\u001b[0m00:01\u001b[0m\n",
      "\u001b[?25hRequirement already satisfied: keras>=3.0.0 in /opt/anaconda3/lib/python3.11/site-packages (from tensorflow) (3.4.1)\n",
      "Collecting tensorflow-io-gcs-filesystem>=0.23.1 (from tensorflow)\n",
      "  Downloading http://mirrors.aliyun.com/pypi/packages/40/9b/b2fb82d0da673b17a334f785fc19c23483165019ddc33b275ef25ca31173/tensorflow_io_gcs_filesystem-0.37.1-cp311-cp311-macosx_10_14_x86_64.whl (2.5 MB)\n",
      "\u001b[2K     \u001b[90m━━━━━━━━━━━━━━━━━━━━━━━━━━━━━━━━━━━━━━━━\u001b[0m \u001b[32m2.5/2.5 MB\u001b[0m \u001b[31m2.7 MB/s\u001b[0m eta \u001b[36m0:00:00\u001b[0m00:01\u001b[0m00:01\u001b[0m\n",
      "\u001b[?25hRequirement already satisfied: numpy<2.0.0,>=1.23.5 in /opt/anaconda3/lib/python3.11/site-packages (from tensorflow) (1.26.4)\n",
      "Requirement already satisfied: wheel<1.0,>=0.23.0 in /opt/anaconda3/lib/python3.11/site-packages (from astunparse>=1.6.0->tensorflow) (0.41.2)\n",
      "Requirement already satisfied: rich in /opt/anaconda3/lib/python3.11/site-packages (from keras>=3.0.0->tensorflow) (13.3.5)\n",
      "Requirement already satisfied: namex in /opt/anaconda3/lib/python3.11/site-packages (from keras>=3.0.0->tensorflow) (0.0.8)\n",
      "Requirement already satisfied: optree in /opt/anaconda3/lib/python3.11/site-packages (from keras>=3.0.0->tensorflow) (0.12.1)\n",
      "Requirement already satisfied: charset-normalizer<4,>=2 in /opt/anaconda3/lib/python3.11/site-packages (from requests<3,>=2.21.0->tensorflow) (2.0.4)\n",
      "Requirement already satisfied: idna<4,>=2.5 in /opt/anaconda3/lib/python3.11/site-packages (from requests<3,>=2.21.0->tensorflow) (3.4)\n",
      "Requirement already satisfied: urllib3<3,>=1.21.1 in /opt/anaconda3/lib/python3.11/site-packages (from requests<3,>=2.21.0->tensorflow) (2.0.7)\n",
      "Requirement already satisfied: certifi>=2017.4.17 in /opt/anaconda3/lib/python3.11/site-packages (from requests<3,>=2.21.0->tensorflow) (2024.2.2)\n",
      "Requirement already satisfied: markdown>=2.6.8 in /opt/anaconda3/lib/python3.11/site-packages (from tensorboard<2.17,>=2.16->tensorflow) (3.4.1)\n",
      "Collecting tensorboard-data-server<0.8.0,>=0.7.0 (from tensorboard<2.17,>=2.16->tensorflow)\n",
      "  Downloading http://mirrors.aliyun.com/pypi/packages/b7/85/dabeaf902892922777492e1d253bb7e1264cadce3cea932f7ff599e53fea/tensorboard_data_server-0.7.2-py3-none-macosx_10_9_x86_64.whl (4.8 MB)\n",
      "\u001b[2K     \u001b[90m━━━━━━━━━━━━━━━━━━━━━━━━━━━━━━━━━━━━━━━━\u001b[0m \u001b[32m4.8/4.8 MB\u001b[0m \u001b[31m3.0 MB/s\u001b[0m eta \u001b[36m0:00:00\u001b[0m00:01\u001b[0m00:01\u001b[0m\n",
      "\u001b[?25hRequirement already satisfied: werkzeug>=1.0.1 in /opt/anaconda3/lib/python3.11/site-packages (from tensorboard<2.17,>=2.16->tensorflow) (2.2.3)\n",
      "Requirement already satisfied: MarkupSafe>=2.1.1 in /opt/anaconda3/lib/python3.11/site-packages (from werkzeug>=1.0.1->tensorboard<2.17,>=2.16->tensorflow) (2.1.3)\n",
      "Requirement already satisfied: markdown-it-py<3.0.0,>=2.2.0 in /opt/anaconda3/lib/python3.11/site-packages (from rich->keras>=3.0.0->tensorflow) (2.2.0)\n",
      "Requirement already satisfied: pygments<3.0.0,>=2.13.0 in /opt/anaconda3/lib/python3.11/site-packages (from rich->keras>=3.0.0->tensorflow) (2.15.1)\n",
      "Requirement already satisfied: mdurl~=0.1 in /opt/anaconda3/lib/python3.11/site-packages (from markdown-it-py<3.0.0,>=2.2.0->rich->keras>=3.0.0->tensorflow) (0.1.0)\n",
      "Installing collected packages: libclang, flatbuffers, termcolor, tensorflow-io-gcs-filesystem, tensorboard-data-server, opt-einsum, ml-dtypes, h5py, grpcio, google-pasta, gast, astunparse, tensorboard, tensorflow\n",
      "  Attempting uninstall: ml-dtypes\n",
      "    Found existing installation: ml-dtypes 0.4.0\n",
      "    Uninstalling ml-dtypes-0.4.0:\n",
      "      Successfully uninstalled ml-dtypes-0.4.0\n",
      "  Attempting uninstall: h5py\n",
      "    Found existing installation: h5py 3.9.0\n",
      "    Uninstalling h5py-3.9.0:\n",
      "      Successfully uninstalled h5py-3.9.0\n",
      "Successfully installed astunparse-1.6.3 flatbuffers-24.3.25 gast-0.6.0 google-pasta-0.2.0 grpcio-1.65.1 h5py-3.11.0 libclang-18.1.1 ml-dtypes-0.3.2 opt-einsum-3.3.0 tensorboard-2.16.2 tensorboard-data-server-0.7.2 tensorflow-2.16.2 tensorflow-io-gcs-filesystem-0.37.1 termcolor-2.4.0\n"
     ]
    }
   ],
   "source": [
    "!pip install tensorflow -i http://mirrors.aliyun.com/pypi/simple/ --trusted-host mirrors.aliyun.com"
   ]
  },
  {
   "cell_type": "code",
   "execution_count": 175,
   "metadata": {
    "scrolled": true
   },
   "outputs": [
    {
     "name": "stderr",
     "output_type": "stream",
     "text": [
      "2024-07-29 19:40:34.285069: I tensorflow/core/platform/cpu_feature_guard.cc:210] This TensorFlow binary is optimized to use available CPU instructions in performance-critical operations.\n",
      "To enable the following instructions: AVX2 AVX512F AVX512_VNNI FMA, in other operations, rebuild TensorFlow with the appropriate compiler flags.\n"
     ]
    }
   ],
   "source": [
    "import numpy as np\n",
    "import pandas as pd\n",
    "from sklearn.model_selection import train_test_split\n",
    "from sklearn.preprocessing import MinMaxScaler\n",
    "from keras.layers import Input, Conv1D, Dropout, LSTM, TimeDistributed, Bidirectional, Dense\n",
    "from keras.models import Model\n",
    "from keras.callbacks import EarlyStopping\n",
    "import matplotlib.pyplot as plt"
   ]
  },
  {
   "cell_type": "markdown",
   "metadata": {},
   "source": [
    "### 读取文件"
   ]
  },
  {
   "cell_type": "code",
   "execution_count": 177,
   "metadata": {},
   "outputs": [],
   "source": [
    "columns_picked=['CustomerID','Quantity', 'UnitPrice', 'dayth', 'hour', 'weekday']\n",
    "\n",
    "y=pd.read_csv('./Data/bookdata_y.csv').rename(columns={'CustomerID':'id'}).set_index('id')['amount']\n",
    "X=pd.read_csv('./Data/bookdata_X.csv',usecols=columns_picked\n",
    "             ).rename(columns={'CustomerID':'id'}).set_index('id')\n",
    "columns_picked.remove('CustomerID')"
   ]
  },
  {
   "cell_type": "markdown",
   "metadata": {},
   "source": [
    "### 分离训练集和测试集"
   ]
  },
  {
   "cell_type": "code",
   "execution_count": 180,
   "metadata": {},
   "outputs": [],
   "source": [
    "indices=y.index.tolist()\n",
    "ind_train,ind_test=map(sorted,train_test_split(indices, test_size=0.25,\n",
    "                                               random_state=42))\n",
    "\n",
    "X_train=X.loc[ind_train,:]\n",
    "y_train=y[ind_train]\n",
    "\n",
    "X_test=X.loc[ind_test,:]\n",
    "y_test=y[ind_test]"
   ]
  },
  {
   "cell_type": "markdown",
   "metadata": {},
   "source": [
    "### 数据标准化"
   ]
  },
  {
   "cell_type": "code",
   "execution_count": 181,
   "metadata": {},
   "outputs": [],
   "source": [
    "scaler=MinMaxScaler(feature_range=(-0.5,0.5))\n",
    "X_train_scaled =pd.DataFrame(scaler.fit_transform(X_train),\n",
    "                             columns=X_train.columns,\n",
    "                             index=X_train.index)"
   ]
  },
  {
   "cell_type": "code",
   "execution_count": 17,
   "metadata": {},
   "outputs": [],
   "source": [
    "y_train_log=y_train.apply(np.log)"
   ]
  },
  {
   "cell_type": "code",
   "execution_count": 182,
   "metadata": {},
   "outputs": [
    {
     "data": {
      "text/plain": [
       "(0.0, 10.0, 0.0, 250.0)"
      ]
     },
     "execution_count": 182,
     "metadata": {},
     "output_type": "execute_result"
    },
    {
     "data": {
      "image/png": "[encoded data removed]",
      "text/plain": [
       "<Figure size 640x480 with 2 Axes>"
      ]
     },
     "metadata": {},
     "output_type": "display_data"
    }
   ],
   "source": [
    "plt.figure();\n",
    "plt.subplot(1,2,1)\n",
    "y.hist(bins=np.arange(0,4000,50))\n",
    "plt.xlabel('frequency')\n",
    "plt.ylabel('y value')\n",
    "plt.grid('off')\n",
    "plt.axis([0,4000,0,250])\n",
    "plt.subplot(1,2,2)\n",
    "y.apply(np.log).hist(bins=np.arange(0,10,0.2))\n",
    "plt.xlabel('frequency')\n",
    "plt.ylabel('log(y) value')\n",
    "plt.grid('off')\n",
    "plt.axis([0,10,0,250])"
   ]
  },
  {
   "cell_type": "markdown",
   "metadata": {},
   "source": [
    "### 数据形状的处理"
   ]
  },
  {
   "cell_type": "code",
   "execution_count": 183,
   "metadata": {},
   "outputs": [],
   "source": [
    "week_train=X_train['dayth'].apply(lambda x: int(x/7)).rename('week')"
   ]
  },
  {
   "cell_type": "code",
   "execution_count": 184,
   "metadata": {},
   "outputs": [],
   "source": [
    "inner_length=32\n",
    "outer_length=4\n",
    "feature_len=len(columns_picked)"
   ]
  },
  {
   "cell_type": "code",
   "execution_count": 21,
   "metadata": {},
   "outputs": [],
   "source": [
    "def cut_pad(x,maxl):\n",
    "    head=np.array(x)[0:maxl]\n",
    "    head_padding=head if len(head)==maxl else np.pad(head,(0,maxl-len(head)),mode='constant')\n",
    "    return head_padding"
   ]
  },
  {
   "cell_type": "code",
   "execution_count": 22,
   "metadata": {},
   "outputs": [],
   "source": [
    "def feature_array(df, col_n, week,len_outer,len_inner):\n",
    "    col=df[[col_n]].assign(week=week).reset_index()\n",
    "\n",
    "    ids=col['id'].drop_duplicates().values.tolist()\n",
    "    weeks=np.arange(0,len_outer).tolist()\n",
    "\n",
    "    id_week=pd.DataFrame([(id,week) for id in ids for week in weeks]).rename(columns={0:'id',\n",
    "                                                                                      1:'week'}).sort_values(by=['id','week'])\n",
    "\n",
    "    arr_base=pd.merge(id_week, col, how='left',on=['id','week']).fillna(0)\n",
    "\n",
    "    arr_frame=arr_base[col_n].groupby([arr_base['id'],arr_base['week']]).\\\n",
    "    apply(lambda x: cut_pad(x,len_inner)).reset_index().drop('week',axis=1).set_index('id')[col_n]\n",
    "\n",
    "    userarray=arr_frame.groupby(arr_frame.index).apply(np.vstack).\\\n",
    "    apply(lambda x: x.reshape([1,x.shape[0],x.shape[1]])).sort_index()\n",
    "    userarray_var=np.vstack(userarray.values.tolist())\n",
    "\n",
    "    return userarray.index.tolist(),userarray_var"
   ]
  },
  {
   "cell_type": "code",
   "execution_count": 23,
   "metadata": {},
   "outputs": [],
   "source": [
    "def make_data_array(df,columns,week,len_outer,len_inner):\n",
    "    ids_num = len(set(df.index))\n",
    "\n",
    "    df_ready = np.zeros([ids_num,len_outer,len_inner,len(columns)])\n",
    "    for i,item in enumerate(columns):\n",
    "        the_ind, df_ready[:,:,:,i] = feature_array(df,item,week,len_outer,len_inner)\n",
    "\n",
    "    return the_ind,df_ready"
   ]
  },
  {
   "cell_type": "code",
   "execution_count": 24,
   "metadata": {},
   "outputs": [],
   "source": [
    "X_train_ind,X_train_data=make_data_array(X_train_scaled,columns_picked,week_train,outer_length,inner_length)"
   ]
  },
  {
   "cell_type": "code",
   "execution_count": 25,
   "metadata": {},
   "outputs": [],
   "source": [
    "X_test_scaled =pd.DataFrame(scaler.transform(X_test),\n",
    "                            columns=X_test.columns,\n",
    "                            index=X_test.index)\n",
    "\n",
    "y_test_log=y_test.apply(np.log)\n",
    "\n",
    "week_test=X_test['dayth'].apply(lambda x: int(x/7)).rename('week')\n",
    "\n",
    "X_test_ind,X_test_data=make_data_array(X_test_scaled,columns_picked,week_test,outer_length,inner_length)"
   ]
  },
  {
   "cell_type": "markdown",
   "metadata": {},
   "source": [
    "## 三、模型搭建和训练"
   ]
  },
  {
   "cell_type": "markdown",
   "metadata": {},
   "source": [
    "### 模型搭建"
   ]
  },
  {
   "cell_type": "code",
   "execution_count": 26,
   "metadata": {},
   "outputs": [],
   "source": [
    "def build_model(len_outer,len_inner,len_fea):\n",
    "    filters = [64,32]\n",
    "    kernel_size = [2,2]\n",
    "    dropout_rate=[0.1,0]\n",
    "\n",
    "    inner_input = Input(shape=(len_inner,len_fea), dtype='float32')\n",
    "    cnn1d=inner_input\n",
    "    for i in range(len(filters)):\n",
    "        cnn1d = Conv1D(filters=filters[i],\n",
    "                       kernel_size=kernel_size[i],\n",
    "                       padding='valid',\n",
    "                       activation='relu',\n",
    "                       strides=1)(cnn1d)\n",
    "        cnn1d = Dropout(dropout_rate[i])(cnn1d)\n",
    "    lstm = LSTM(32, return_sequences=True, dropout=0.1, recurrent_dropout=0.1)(cnn1d)\n",
    "    inner_output = LSTM(16, return_sequences=False)(lstm)\n",
    "    inner_model = Model(inputs=inner_input, outputs=inner_output)\n",
    "\n",
    "    outer_input = Input(shape=(len_outer, len_inner,len_fea), dtype='float32')\n",
    "    innered = TimeDistributed(inner_model)(outer_input)\n",
    "    outered=Bidirectional(LSTM(16, return_sequences=False))(innered)\n",
    "    outered = Dense(8, activation='relu')(outered)\n",
    "    outer_output = Dense(1)(outered)\n",
    "\n",
    "    model = Model(inputs=outer_input, outputs=outer_output)\n",
    "    model.compile(loss='mape', optimizer='adam')\n",
    "\n",
    "    return model,inner_model"
   ]
  },
  {
   "cell_type": "code",
   "execution_count": 27,
   "metadata": {},
   "outputs": [],
   "source": [
    "LTV_model, LTV_inner_model = build_model(outer_length,inner_length,feature_len)"
   ]
  },
  {
   "cell_type": "code",
   "execution_count": 28,
   "metadata": {},
   "outputs": [
    {
     "name": "stdout",
     "output_type": "stream",
     "text": [
      "_________________________________________________________________\n",
      "Layer (type)                 Output Shape              Param #   \n",
      "=================================================================\n",
      "input_2 (InputLayer)         (None, 4, 32, 5)          0         \n",
      "_________________________________________________________________\n",
      "time_distributed_1 (TimeDist (None, 4, 16)             16288     \n",
      "_________________________________________________________________\n",
      "bidirectional_1 (Bidirection (None, 32)                4224      \n",
      "_________________________________________________________________\n",
      "dense_1 (Dense)              (None, 8)                 264       \n",
      "_________________________________________________________________\n",
      "dense_2 (Dense)              (None, 1)                 9         \n",
      "=================================================================\n",
      "Total params: 20,785\n",
      "Trainable params: 20,785\n",
      "Non-trainable params: 0\n",
      "_________________________________________________________________\n"
     ]
    }
   ],
   "source": [
    "LTV_model.summary()"
   ]
  },
  {
   "cell_type": "code",
   "execution_count": 29,
   "metadata": {},
   "outputs": [
    {
     "name": "stdout",
     "output_type": "stream",
     "text": [
      "_________________________________________________________________\n",
      "Layer (type)                 Output Shape              Param #   \n",
      "=================================================================\n",
      "input_1 (InputLayer)         (None, 32, 5)             0         \n",
      "_________________________________________________________________\n",
      "conv1d_1 (Conv1D)            (None, 31, 64)            704       \n",
      "_________________________________________________________________\n",
      "dropout_1 (Dropout)          (None, 31, 64)            0         \n",
      "_________________________________________________________________\n",
      "conv1d_2 (Conv1D)            (None, 30, 32)            4128      \n",
      "_________________________________________________________________\n",
      "dropout_2 (Dropout)          (None, 30, 32)            0         \n",
      "_________________________________________________________________\n",
      "lstm_1 (LSTM)                (None, 30, 32)            8320      \n",
      "_________________________________________________________________\n",
      "lstm_2 (LSTM)                (None, 16)                3136      \n",
      "=================================================================\n",
      "Total params: 16,288\n",
      "Trainable params: 16,288\n",
      "Non-trainable params: 0\n",
      "_________________________________________________________________\n"
     ]
    }
   ],
   "source": [
    "LTV_inner_model.summary()"
   ]
  },
  {
   "cell_type": "markdown",
   "metadata": {},
   "source": [
    "### 模型训练"
   ]
  },
  {
   "cell_type": "code",
   "execution_count": 30,
   "metadata": {},
   "outputs": [
    {
     "name": "stdout",
     "output_type": "stream",
     "text": [
      "Train on 1900 samples, validate on 634 samples\n",
      "Epoch 1/200\n",
      " - 16s - loss: 97.9124 - val_loss: 93.0421\n",
      "Epoch 2/200\n",
      " - 11s - loss: 77.5284 - val_loss: 55.3135\n",
      "Epoch 3/200\n",
      " - 12s - loss: 36.1316 - val_loss: 15.1874\n",
      "Epoch 4/200\n",
      " - 11s - loss: 14.6390 - val_loss: 13.1785\n",
      "Epoch 5/200\n",
      " - 11s - loss: 13.7543 - val_loss: 12.8265\n",
      "Epoch 6/200\n",
      " - 11s - loss: 13.3501 - val_loss: 12.2620\n",
      "Epoch 7/200\n",
      " - 11s - loss: 13.3779 - val_loss: 12.3732\n",
      "Epoch 8/200\n",
      " - 11s - loss: 13.3532 - val_loss: 12.2312\n",
      "Epoch 9/200\n",
      " - 11s - loss: 13.3482 - val_loss: 12.3343\n",
      "Epoch 10/200\n",
      " - 11s - loss: 13.3244 - val_loss: 12.2819\n",
      "Epoch 11/200\n",
      " - 11s - loss: 13.3099 - val_loss: 12.2126\n",
      "Epoch 12/200\n",
      " - 11s - loss: 13.2894 - val_loss: 12.3198\n",
      "Epoch 13/200\n",
      " - 11s - loss: 13.2878 - val_loss: 12.2164\n",
      "Epoch 14/200\n",
      " - 11s - loss: 13.2685 - val_loss: 12.2337\n",
      "Epoch 15/200\n",
      " - 11s - loss: 13.2725 - val_loss: 12.2178\n",
      "Epoch 16/200\n",
      " - 11s - loss: 13.2520 - val_loss: 12.1709\n",
      "Epoch 17/200\n",
      " - 11s - loss: 13.2483 - val_loss: 12.3258\n",
      "Epoch 18/200\n",
      " - 11s - loss: 13.2469 - val_loss: 12.1496\n",
      "Epoch 19/200\n",
      " - 10s - loss: 13.2254 - val_loss: 12.1991\n",
      "Epoch 20/200\n",
      " - 10s - loss: 13.2361 - val_loss: 12.1141\n",
      "Epoch 21/200\n",
      " - 10s - loss: 13.2023 - val_loss: 12.0980\n",
      "Epoch 22/200\n",
      " - 10s - loss: 13.2104 - val_loss: 12.1287\n",
      "Epoch 23/200\n",
      " - 11s - loss: 13.1572 - val_loss: 12.0816\n",
      "Epoch 24/200\n",
      " - 11s - loss: 13.1076 - val_loss: 12.0067\n",
      "Epoch 25/200\n",
      " - 11s - loss: 13.0482 - val_loss: 11.8610\n",
      "Epoch 26/200\n",
      " - 11s - loss: 12.9164 - val_loss: 11.7269\n",
      "Epoch 27/200\n",
      " - 11s - loss: 12.7220 - val_loss: 11.6434\n",
      "Epoch 28/200\n",
      " - 11s - loss: 12.6179 - val_loss: 11.3649\n",
      "Epoch 29/200\n",
      " - 11s - loss: 12.2506 - val_loss: 11.1152\n",
      "Epoch 30/200\n",
      " - 11s - loss: 12.0055 - val_loss: 10.9150\n",
      "Epoch 31/200\n",
      " - 11s - loss: 11.8388 - val_loss: 10.8682\n",
      "Epoch 32/200\n",
      " - 11s - loss: 11.7646 - val_loss: 12.0195\n",
      "Epoch 33/200\n",
      " - 12s - loss: 11.7741 - val_loss: 11.1396\n",
      "Epoch 34/200\n",
      " - 11s - loss: 11.6136 - val_loss: 10.9152\n",
      "Epoch 35/200\n",
      " - 11s - loss: 11.6408 - val_loss: 11.3608\n",
      "Epoch 36/200\n",
      " - 10s - loss: 11.5881 - val_loss: 10.8397\n",
      "Epoch 37/200\n",
      " - 11s - loss: 11.6741 - val_loss: 10.7804\n",
      "Epoch 38/200\n",
      " - 11s - loss: 11.7017 - val_loss: 10.8237\n",
      "Epoch 39/200\n",
      " - 11s - loss: 11.5344 - val_loss: 10.7523\n",
      "Epoch 40/200\n",
      " - 11s - loss: 11.5568 - val_loss: 11.2371\n",
      "Epoch 41/200\n",
      " - 11s - loss: 11.5537 - val_loss: 11.0845\n",
      "Epoch 42/200\n",
      " - 11s - loss: 11.4568 - val_loss: 10.8540\n",
      "Epoch 43/200\n",
      " - 11s - loss: 11.4927 - val_loss: 11.0874\n",
      "Epoch 44/200\n",
      " - 11s - loss: 11.5101 - val_loss: 11.3616\n",
      "Epoch 45/200\n",
      " - 11s - loss: 11.4325 - val_loss: 11.0312\n",
      "Epoch 46/200\n",
      " - 11s - loss: 11.4074 - val_loss: 10.7893\n",
      "Epoch 47/200\n",
      " - 12s - loss: 11.3832 - val_loss: 10.9318\n",
      "Epoch 48/200\n",
      " - 11s - loss: 11.4344 - val_loss: 10.8174\n",
      "Epoch 49/200\n",
      " - 11s - loss: 11.5382 - val_loss: 11.0417\n",
      "Epoch 50/200\n",
      " - 11s - loss: 11.5860 - val_loss: 11.1171\n",
      "Epoch 51/200\n",
      " - 11s - loss: 11.4323 - val_loss: 10.7841\n",
      "Epoch 52/200\n",
      " - 11s - loss: 11.4406 - val_loss: 10.7698\n",
      "Epoch 53/200\n",
      " - 12s - loss: 11.3919 - val_loss: 10.7245\n",
      "Epoch 54/200\n",
      " - 11s - loss: 11.3979 - val_loss: 11.0244\n",
      "Epoch 55/200\n",
      " - 11s - loss: 11.4260 - val_loss: 11.0336\n",
      "Epoch 56/200\n",
      " - 11s - loss: 11.4128 - val_loss: 11.0903\n",
      "Epoch 57/200\n",
      " - 11s - loss: 11.4174 - val_loss: 11.0612\n",
      "Epoch 58/200\n",
      " - 11s - loss: 11.3428 - val_loss: 11.0388\n",
      "Epoch 59/200\n",
      " - 11s - loss: 11.4597 - val_loss: 11.5293\n",
      "Epoch 60/200\n",
      " - 11s - loss: 11.5208 - val_loss: 11.0189\n",
      "Epoch 61/200\n",
      " - 11s - loss: 11.3761 - val_loss: 10.7875\n",
      "Epoch 62/200\n",
      " - 11s - loss: 11.3540 - val_loss: 10.8055\n",
      "Epoch 63/200\n",
      " - 11s - loss: 11.3245 - val_loss: 10.9462\n",
      "Epoch 64/200\n",
      " - 11s - loss: 11.3343 - val_loss: 10.8061\n",
      "Epoch 65/200\n",
      " - 11s - loss: 11.3334 - val_loss: 10.8903\n",
      "Epoch 66/200\n",
      " - 11s - loss: 11.3056 - val_loss: 10.7020\n",
      "Epoch 67/200\n",
      " - 11s - loss: 11.3553 - val_loss: 10.7558\n",
      "Epoch 68/200\n",
      " - 11s - loss: 11.2940 - val_loss: 10.6631\n",
      "Epoch 69/200\n",
      " - 11s - loss: 11.3563 - val_loss: 10.7470\n",
      "Epoch 70/200\n",
      " - 11s - loss: 11.3387 - val_loss: 11.0390\n",
      "Epoch 71/200\n",
      " - 11s - loss: 12.5428 - val_loss: 12.8187\n",
      "Epoch 72/200\n",
      " - 11s - loss: 12.5005 - val_loss: 11.5393\n",
      "Epoch 73/200\n",
      " - 11s - loss: 11.7858 - val_loss: 11.6272\n",
      "Epoch 74/200\n",
      " - 11s - loss: 11.7168 - val_loss: 11.1573\n",
      "Epoch 75/200\n",
      " - 10s - loss: 11.6284 - val_loss: 11.1597\n",
      "Epoch 76/200\n",
      " - 10s - loss: 11.5853 - val_loss: 11.2044\n",
      "Epoch 77/200\n",
      " - 11s - loss: 11.5969 - val_loss: 11.1585\n",
      "Epoch 78/200\n",
      " - 11s - loss: 11.5192 - val_loss: 11.3061\n",
      "Epoch 79/200\n",
      " - 11s - loss: 11.5229 - val_loss: 11.0080\n",
      "Epoch 80/200\n",
      " - 11s - loss: 11.4536 - val_loss: 10.8674\n",
      "Epoch 81/200\n",
      " - 12s - loss: 11.6301 - val_loss: 10.8447\n",
      "Epoch 82/200\n",
      " - 11s - loss: 11.5425 - val_loss: 10.8526\n",
      "Epoch 83/200\n",
      " - 12s - loss: 11.4416 - val_loss: 10.7756\n",
      "Epoch 84/200\n",
      " - 11s - loss: 11.4315 - val_loss: 10.7534\n",
      "Epoch 85/200\n",
      " - 11s - loss: 11.4209 - val_loss: 10.7875\n",
      "Epoch 86/200\n",
      " - 11s - loss: 11.3614 - val_loss: 10.7766\n",
      "Epoch 87/200\n",
      " - 11s - loss: 11.3355 - val_loss: 10.7773\n",
      "Epoch 88/200\n",
      " - 11s - loss: 11.3764 - val_loss: 10.7373\n",
      "Epoch 89/200\n",
      " - 11s - loss: 11.4194 - val_loss: 10.9406\n",
      "Epoch 90/200\n",
      " - 10s - loss: 11.3960 - val_loss: 10.8373\n",
      "Epoch 91/200\n",
      " - 10s - loss: 11.3530 - val_loss: 10.7534\n",
      "Epoch 92/200\n",
      " - 10s - loss: 11.5041 - val_loss: 10.6506\n",
      "Epoch 93/200\n",
      " - 10s - loss: 11.8652 - val_loss: 10.8906\n",
      "Epoch 94/200\n",
      " - 10s - loss: 11.4522 - val_loss: 11.2157\n",
      "Epoch 95/200\n",
      " - 11s - loss: 11.4241 - val_loss: 10.9812\n",
      "Epoch 96/200\n",
      " - 10s - loss: 11.4577 - val_loss: 10.9985\n",
      "Epoch 97/200\n",
      " - 10s - loss: 11.3632 - val_loss: 10.7728\n",
      "Epoch 98/200\n",
      " - 10s - loss: 11.4054 - val_loss: 10.7088\n",
      "Epoch 99/200\n",
      " - 11s - loss: 11.2956 - val_loss: 10.8296\n",
      "Epoch 100/200\n",
      " - 11s - loss: 11.2904 - val_loss: 10.7326\n",
      "Epoch 101/200\n",
      " - 11s - loss: 11.2900 - val_loss: 10.7915\n",
      "Epoch 102/200\n",
      " - 11s - loss: 11.3433 - val_loss: 10.7758\n",
      "Epoch 103/200\n",
      " - 11s - loss: 11.3318 - val_loss: 11.3757\n",
      "Epoch 104/200\n",
      " - 11s - loss: 11.2836 - val_loss: 11.1894\n",
      "Epoch 105/200\n",
      " - 11s - loss: 11.3462 - val_loss: 11.5343\n",
      "Epoch 106/200\n",
      " - 11s - loss: 11.4034 - val_loss: 11.3218\n",
      "Epoch 107/200\n",
      " - 12s - loss: 11.3000 - val_loss: 10.9858\n",
      "Epoch 108/200\n",
      " - 12s - loss: 11.2758 - val_loss: 11.2826\n",
      "Epoch 109/200\n",
      " - 12s - loss: 11.3208 - val_loss: 10.9971\n",
      "Epoch 110/200\n",
      " - 11s - loss: 11.3671 - val_loss: 10.8281\n",
      "Epoch 111/200\n",
      " - 11s - loss: 11.3477 - val_loss: 10.8868\n",
      "Epoch 112/200\n",
      " - 11s - loss: 11.3443 - val_loss: 10.8116\n",
      "Epoch 113/200\n",
      " - 11s - loss: 11.3123 - val_loss: 10.8131\n",
      "Epoch 114/200\n",
      " - 12s - loss: 11.3360 - val_loss: 10.8150\n",
      "Epoch 115/200\n",
      " - 11s - loss: 11.3528 - val_loss: 10.7703\n",
      "Epoch 116/200\n",
      " - 11s - loss: 11.3286 - val_loss: 11.4594\n",
      "Epoch 117/200\n",
      " - 11s - loss: 11.4526 - val_loss: 11.2987\n",
      "Epoch 118/200\n",
      " - 11s - loss: 11.5019 - val_loss: 11.2210\n",
      "Epoch 119/200\n",
      " - 11s - loss: 11.5183 - val_loss: 11.3399\n",
      "Epoch 120/200\n",
      " - 11s - loss: 11.3281 - val_loss: 11.0156\n",
      "Epoch 121/200\n",
      " - 11s - loss: 11.3127 - val_loss: 11.3949\n",
      "Epoch 122/200\n",
      " - 11s - loss: 11.3767 - val_loss: 11.0685\n",
      "Epoch 00122: early stopping\n"
     ]
    }
   ],
   "source": [
    "cb = EarlyStopping(monitor='val_loss', mode='min', verbose=1, patience=30)\n",
    "\n",
    "history = LTV_model.fit(x=X_train_data,\n",
    "                        y=y_train_log,\n",
    "                        validation_data=(X_test_data, y_test_log),\n",
    "                        epochs=200,\n",
    "                        batch_size=128,\n",
    "                        callbacks=[cb],\n",
    "                        verbose=2)\n",
    "\n",
    "LTV_model.save('LTV_model.h5')"
   ]
  },
  {
   "cell_type": "markdown",
   "metadata": {},
   "source": [
    "### 模型分析"
   ]
  },
  {
   "cell_type": "code",
   "execution_count": 31,
   "metadata": {},
   "outputs": [
    {
     "data": {
      "text/plain": [
       "[0, 200, 0, 100]"
      ]
     },
     "execution_count": 31,
     "metadata": {},
     "output_type": "execute_result"
    },
    {
     "data": {
      "image/png": "[encoded data removed]",
      "text/plain": [
       "<Figure size 432x288 with 1 Axes>"
      ]
     },
     "metadata": {
      "needs_background": "light"
     },
     "output_type": "display_data"
    }
   ],
   "source": [
    "plt.figure()\n",
    "plt.plot(history.history['val_loss'],'o',label='val_loss')\n",
    "plt.plot(history.history['loss'],'-',label='loss')\n",
    "plt.title('model loss')\n",
    "plt.legend()\n",
    "plt.axis([0,200,0,100])"
   ]
  },
  {
   "cell_type": "code",
   "execution_count": null,
   "metadata": {},
   "outputs": [],
   "source": []
  }
 ],
 "metadata": {
  "kernelspec": {
   "display_name": "Python 3 (ipykernel)",
   "language": "python",
   "name": "python3"
  },
  "language_info": {
   "codemirror_mode": {
    "name": "ipython",
    "version": 3
   },
   "file_extension": ".py",
   "mimetype": "text/x-python",
   "name": "python",
   "nbconvert_exporter": "python",
   "pygments_lexer": "ipython3",
   "version": "3.11.7"
  }
 },
 "nbformat": 4,
 "nbformat_minor": 4
}
