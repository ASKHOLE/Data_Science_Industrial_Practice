{
 "cells": [
  {
   "cell_type": "markdown",
   "metadata": {},
   "source": [
    "## 一、数据的加载和预处理"
   ]
  },
  {
   "cell_type": "markdown",
   "metadata": {},
   "source": [
    "### 加载库"
   ]
  },
  {
   "cell_type": "code",
   "execution_count": 1,
   "metadata": {},
   "outputs": [],
   "source": [
    "import numpy as np\n",
    "import pandas as pd"
   ]
  },
  {
   "cell_type": "markdown",
   "metadata": {},
   "source": [
    "### 读入数据"
   ]
  },
  {
   "cell_type": "code",
   "execution_count": 2,
   "metadata": {},
   "outputs": [],
   "source": [
    "OnlRt=pd.read_csv('./Data/OnlineRetail.csv',\n",
    "                  usecols=['CustomerID','InvoiceDate','UnitPrice','Quantity','Country'],\n",
    "                  encoding = \"ISO-8859-1\",\n",
    "                  parse_dates=['InvoiceDate'],\n",
    "                  dtype={'CustomerID':np.str,'UnitPrice':np.float32,'Quantity':np.int32,'Country':np.str})"
   ]
  },
  {
   "cell_type": "code",
   "execution_count": 3,
   "metadata": {},
   "outputs": [
    {
     "data": {
      "text/html": [
       "<div>\n",
       "<style scoped>\n",
       "    .dataframe tbody tr th:only-of-type {\n",
       "        vertical-align: middle;\n",
       "    }\n",
       "\n",
       "    .dataframe tbody tr th {\n",
       "        vertical-align: top;\n",
       "    }\n",
       "\n",
       "    .dataframe thead th {\n",
       "        text-align: right;\n",
       "    }\n",
       "</style>\n",
       "<table border=\"1\" class=\"dataframe\">\n",
       "  <thead>\n",
       "    <tr style=\"text-align: right;\">\n",
       "      <th></th>\n",
       "      <th>Quantity</th>\n",
       "      <th>InvoiceDate</th>\n",
       "      <th>UnitPrice</th>\n",
       "      <th>CustomerID</th>\n",
       "      <th>Country</th>\n",
       "    </tr>\n",
       "  </thead>\n",
       "  <tbody>\n",
       "    <tr>\n",
       "      <th>0</th>\n",
       "      <td>6</td>\n",
       "      <td>2010-12-01 08:26:00</td>\n",
       "      <td>2.55</td>\n",
       "      <td>17850</td>\n",
       "      <td>United Kingdom</td>\n",
       "    </tr>\n",
       "    <tr>\n",
       "      <th>1</th>\n",
       "      <td>6</td>\n",
       "      <td>2010-12-01 08:26:00</td>\n",
       "      <td>3.39</td>\n",
       "      <td>17850</td>\n",
       "      <td>United Kingdom</td>\n",
       "    </tr>\n",
       "    <tr>\n",
       "      <th>2</th>\n",
       "      <td>8</td>\n",
       "      <td>2010-12-01 08:26:00</td>\n",
       "      <td>2.75</td>\n",
       "      <td>17850</td>\n",
       "      <td>United Kingdom</td>\n",
       "    </tr>\n",
       "    <tr>\n",
       "      <th>3</th>\n",
       "      <td>6</td>\n",
       "      <td>2010-12-01 08:26:00</td>\n",
       "      <td>3.39</td>\n",
       "      <td>17850</td>\n",
       "      <td>United Kingdom</td>\n",
       "    </tr>\n",
       "    <tr>\n",
       "      <th>4</th>\n",
       "      <td>6</td>\n",
       "      <td>2010-12-01 08:26:00</td>\n",
       "      <td>3.39</td>\n",
       "      <td>17850</td>\n",
       "      <td>United Kingdom</td>\n",
       "    </tr>\n",
       "  </tbody>\n",
       "</table>\n",
       "</div>"
      ],
      "text/plain": [
       "   Quantity         InvoiceDate  UnitPrice CustomerID         Country\n",
       "0         6 2010-12-01 08:26:00       2.55      17850  United Kingdom\n",
       "1         6 2010-12-01 08:26:00       3.39      17850  United Kingdom\n",
       "2         8 2010-12-01 08:26:00       2.75      17850  United Kingdom\n",
       "3         6 2010-12-01 08:26:00       3.39      17850  United Kingdom\n",
       "4         6 2010-12-01 08:26:00       3.39      17850  United Kingdom"
      ]
     },
     "execution_count": 3,
     "metadata": {},
     "output_type": "execute_result"
    }
   ],
   "source": [
    "OnlRt.head()"
   ]
  },
  {
   "cell_type": "markdown",
   "metadata": {},
   "source": [
    "### 数据清理"
   ]
  },
  {
   "cell_type": "code",
   "execution_count": 4,
   "metadata": {},
   "outputs": [],
   "source": [
    "neg_id=OnlRt[(OnlRt['Quantity']<=0)|(OnlRt['UnitPrice']<=0)].loc[:,'CustomerID']\n",
    "data0=OnlRt[(OnlRt['CustomerID'].notnull())&\n",
    "            (~OnlRt['CustomerID'].isin(neg_id))&\n",
    "            (OnlRt['Country']=='United Kingdom')].drop('Country',axis=1)"
   ]
  },
  {
   "cell_type": "markdown",
   "metadata": {},
   "source": [
    "### 找出第一次交易时间"
   ]
  },
  {
   "cell_type": "code",
   "execution_count": 5,
   "metadata": {},
   "outputs": [],
   "source": [
    "data1=data0.assign(amount=data0['UnitPrice'].multiply(data0['Quantity']))\n",
    "first_time=data1['InvoiceDate'].sort_values(ascending=True).groupby(data1['CustomerID']).nth(0)\\\n",
    ".apply(lambda x:x.date()).reset_index().rename(columns={'InvoiceDate':'first_time'})\n",
    "data2=pd.merge(data1,first_time,how='left',on=['CustomerID'])"
   ]
  },
  {
   "cell_type": "markdown",
   "metadata": {},
   "source": [
    "### 添加新特征"
   ]
  },
  {
   "cell_type": "code",
   "execution_count": 6,
   "metadata": {},
   "outputs": [],
   "source": [
    "dayth=(data2['InvoiceDate'].apply(lambda x: x.date())-data2['first_time']).apply(lambda x: x.days)"
   ]
  },
  {
   "cell_type": "code",
   "execution_count": 7,
   "metadata": {},
   "outputs": [],
   "source": [
    "month=data2['InvoiceDate'].apply(lambda x: x.month)\n",
    "weekday=data2['InvoiceDate'].apply(lambda x: x.weekday())\n",
    "hour=data2['InvoiceDate'].apply(lambda x: x.hour)\n",
    "minute=data2['InvoiceDate'].apply(lambda x: x.minute)\n",
    "second=data2['InvoiceDate'].apply(lambda x: x.second)"
   ]
  },
  {
   "cell_type": "code",
   "execution_count": 8,
   "metadata": {},
   "outputs": [],
   "source": [
    "hour_preci=(second/60+minute)/60+hour"
   ]
  },
  {
   "cell_type": "markdown",
   "metadata": {},
   "source": [
    "### 整合特征"
   ]
  },
  {
   "cell_type": "code",
   "execution_count": 9,
   "metadata": {},
   "outputs": [],
   "source": [
    "data3=data2.assign(dayth=dayth).assign(hour=hour_preci).\\\n",
    "assign(weekday=weekday).drop(['first_time','InvoiceDate'],axis=1).\\\n",
    "sort_values(by=['CustomerID','dayth','hour'])"
   ]
  },
  {
   "cell_type": "markdown",
   "metadata": {},
   "source": [
    "### 分离特征数据和值数据"
   ]
  },
  {
   "cell_type": "code",
   "execution_count": 10,
   "metadata": {},
   "outputs": [],
   "source": [
    "X=data3[data3['dayth']<28].set_index('CustomerID').drop('amount',axis=1).sort_index()"
   ]
  },
  {
   "cell_type": "code",
   "execution_count": 11,
   "metadata": {},
   "outputs": [],
   "source": [
    "data180=data3[(data3['dayth']<180)&(data3['CustomerID'].isin(X.index))]\n",
    "y=data180['amount'].groupby(data180['CustomerID']).sum().sort_index()"
   ]
  },
  {
   "cell_type": "markdown",
   "metadata": {},
   "source": [
    "### 保存文件"
   ]
  },
  {
   "cell_type": "code",
   "execution_count": 12,
   "metadata": {},
   "outputs": [],
   "source": [
    "X.to_csv('./Data/bookdata_X.csv',index=True,header=True)\n",
    "y.to_csv('./Data/bookdata_y.csv',index=True,header=True)"
   ]
  },
  {
   "cell_type": "markdown",
   "metadata": {},
   "source": [
    "## 二、输入数据的准备"
   ]
  },
  {
   "cell_type": "markdown",
   "metadata": {},
   "source": [
    "### 加载库"
   ]
  },
  {
   "cell_type": "code",
   "execution_count": 13,
   "metadata": {},
   "outputs": [
    {
     "name": "stderr",
     "output_type": "stream",
     "text": [
      "Using TensorFlow backend.\n"
     ]
    }
   ],
   "source": [
    "import numpy as np\n",
    "import pandas as pd\n",
    "from sklearn.model_selection import train_test_split\n",
    "from sklearn.preprocessing import MinMaxScaler\n",
    "from keras.layers import Input, Conv1D, Dropout, LSTM, TimeDistributed, Bidirectional, Dense\n",
    "from keras.models import Model\n",
    "from keras.callbacks import EarlyStopping\n",
    "import matplotlib.pyplot as plt"
   ]
  },
  {
   "cell_type": "markdown",
   "metadata": {},
   "source": [
    "### 读取文件"
   ]
  },
  {
   "cell_type": "code",
   "execution_count": 14,
   "metadata": {},
   "outputs": [],
   "source": [
    "columns_picked=['CustomerID','Quantity', 'UnitPrice', 'dayth', 'hour', 'weekday']\n",
    "\n",
    "y=pd.read_csv('bookdata_y.csv').rename(columns={'CustomerID':'id'}).set_index('id')['amount']\n",
    "X=pd.read_csv('bookdata_X.csv',usecols=columns_picked\n",
    "             ).rename(columns={'CustomerID':'id'}).set_index('id')\n",
    "columns_picked.remove('CustomerID')"
   ]
  },
  {
   "cell_type": "markdown",
   "metadata": {},
   "source": [
    "### 分离训练集和测试集"
   ]
  },
  {
   "cell_type": "code",
   "execution_count": 15,
   "metadata": {},
   "outputs": [],
   "source": [
    "indices=y.index.tolist()\n",
    "ind_train,ind_test=map(sorted,train_test_split(indices, test_size=0.25,\n",
    "                                               random_state=42))\n",
    "\n",
    "X_train=X.loc[ind_train,:]\n",
    "y_train=y[ind_train]\n",
    "\n",
    "X_test=X.loc[ind_test,:]\n",
    "y_test=y[ind_test]"
   ]
  },
  {
   "cell_type": "markdown",
   "metadata": {},
   "source": [
    "### 数据标准化"
   ]
  },
  {
   "cell_type": "code",
   "execution_count": 16,
   "metadata": {},
   "outputs": [],
   "source": [
    "scaler=MinMaxScaler(feature_range=(-0.5,0.5))\n",
    "X_train_scaled =pd.DataFrame(scaler.fit_transform(X_train),\n",
    "                             columns=X_train.columns,\n",
    "                             index=X_train.index)"
   ]
  },
  {
   "cell_type": "code",
   "execution_count": 17,
   "metadata": {},
   "outputs": [],
   "source": [
    "y_train_log=y_train.apply(np.log)"
   ]
  },
  {
   "cell_type": "code",
   "execution_count": 18,
   "metadata": {},
   "outputs": [
    {
     "name": "stderr",
     "output_type": "stream",
     "text": [
      "/Applications/anaconda3/anaconda/lib/python3.5/site-packages/matplotlib/cbook/deprecation.py:107: MatplotlibDeprecationWarning: Passing one of 'on', 'true', 'off', 'false' as a boolean is deprecated; use an actual boolean (True/False) instead.\n",
      "  warnings.warn(message, mplDeprecation, stacklevel=1)\n"
     ]
    },
    {
     "data": {
      "text/plain": [
       "[0, 10, 0, 250]"
      ]
     },
     "execution_count": 18,
     "metadata": {},
     "output_type": "execute_result"
    },
    {
     "data": {
      "image/png": "[encoded data removed]",
      "text/plain": [
       "<Figure size 432x288 with 2 Axes>"
      ]
     },
     "metadata": {
      "needs_background": "light"
     },
     "output_type": "display_data"
    }
   ],
   "source": [
    "plt.figure();\n",
    "plt.subplot(1,2,1)\n",
    "y.hist(bins=np.arange(0,4000,50))\n",
    "plt.xlabel('frequency')\n",
    "plt.ylabel('y value')\n",
    "plt.grid('off')\n",
    "plt.axis([0,4000,0,250])\n",
    "plt.subplot(1,2,2)\n",
    "y.apply(np.log).hist(bins=np.arange(0,10,0.2))\n",
    "plt.xlabel('frequency')\n",
    "plt.ylabel('log(y) value')\n",
    "plt.grid('off')\n",
    "plt.axis([0,10,0,250])"
   ]
  },
  {
   "cell_type": "markdown",
   "metadata": {},
   "source": [
    "### 数据形状的处理"
   ]
  },
  {
   "cell_type": "code",
   "execution_count": 19,
   "metadata": {},
   "outputs": [],
   "source": [
    "week_train=X_train['dayth'].apply(lambda x: int(x/7)).rename('week')"
   ]
  },
  {
   "cell_type": "code",
   "execution_count": 20,
   "metadata": {},
   "outputs": [],
   "source": [
    "inner_length=32\n",
    "outer_length=4\n",
    "feature_len=len(columns_picked)"
   ]
  },
  {
   "cell_type": "code",
   "execution_count": 21,
   "metadata": {},
   "outputs": [],
   "source": [
    "def cut_pad(x,maxl):\n",
    "    head=np.array(x)[0:maxl]\n",
    "    head_padding=head if len(head)==maxl else np.pad(head,(0,maxl-len(head)),mode='constant')\n",
    "    return head_padding"
   ]
  },
  {
   "cell_type": "code",
   "execution_count": 22,
   "metadata": {},
   "outputs": [],
   "source": [
    "def feature_array(df, col_n, week,len_outer,len_inner):\n",
    "    col=df[[col_n]].assign(week=week).reset_index()\n",
    "\n",
    "    ids=col['id'].drop_duplicates().values.tolist()\n",
    "    weeks=np.arange(0,len_outer).tolist()\n",
    "\n",
    "    id_week=pd.DataFrame([(id,week) for id in ids for week in weeks]).rename(columns={0:'id',\n",
    "                                                                                      1:'week'}).sort_values(by=['id','week'])\n",
    "\n",
    "    arr_base=pd.merge(id_week, col, how='left',on=['id','week']).fillna(0)\n",
    "\n",
    "    arr_frame=arr_base[col_n].groupby([arr_base['id'],arr_base['week']]).\\\n",
    "    apply(lambda x: cut_pad(x,len_inner)).reset_index().drop('week',axis=1).set_index('id')[col_n]\n",
    "\n",
    "    userarray=arr_frame.groupby(arr_frame.index).apply(np.vstack).\\\n",
    "    apply(lambda x: x.reshape([1,x.shape[0],x.shape[1]])).sort_index()\n",
    "    userarray_var=np.vstack(userarray.values.tolist())\n",
    "\n",
    "    return userarray.index.tolist(),userarray_var"
   ]
  },
  {
   "cell_type": "code",
   "execution_count": 23,
   "metadata": {},
   "outputs": [],
   "source": [
    "def make_data_array(df,columns,week,len_outer,len_inner):\n",
    "    ids_num = len(set(df.index))\n",
    "\n",
    "    df_ready = np.zeros([ids_num,len_outer,len_inner,len(columns)])\n",
    "    for i,item in enumerate(columns):\n",
    "        the_ind, df_ready[:,:,:,i] = feature_array(df,item,week,len_outer,len_inner)\n",
    "\n",
    "    return the_ind,df_ready"
   ]
  },
  {
   "cell_type": "code",
   "execution_count": 24,
   "metadata": {},
   "outputs": [],
   "source": [
    "X_train_ind,X_train_data=make_data_array(X_train_scaled,columns_picked,week_train,outer_length,inner_length)"
   ]
  },
  {
   "cell_type": "code",
   "execution_count": 25,
   "metadata": {},
   "outputs": [],
   "source": [
    "X_test_scaled =pd.DataFrame(scaler.transform(X_test),\n",
    "                            columns=X_test.columns,\n",
    "                            index=X_test.index)\n",
    "\n",
    "y_test_log=y_test.apply(np.log)\n",
    "\n",
    "week_test=X_test['dayth'].apply(lambda x: int(x/7)).rename('week')\n",
    "\n",
    "X_test_ind,X_test_data=make_data_array(X_test_scaled,columns_picked,week_test,outer_length,inner_length)"
   ]
  },
  {
   "cell_type": "markdown",
   "metadata": {},
   "source": [
    "## 三、模型搭建和训练"
   ]
  },
  {
   "cell_type": "markdown",
   "metadata": {},
   "source": [
    "### 模型搭建"
   ]
  },
  {
   "cell_type": "code",
   "execution_count": 26,
   "metadata": {},
   "outputs": [],
   "source": [
    "def build_model(len_outer,len_inner,len_fea):\n",
    "    filters = [64,32]\n",
    "    kernel_size = [2,2]\n",
    "    dropout_rate=[0.1,0]\n",
    "\n",
    "    inner_input = Input(shape=(len_inner,len_fea), dtype='float32')\n",
    "    cnn1d=inner_input\n",
    "    for i in range(len(filters)):\n",
    "        cnn1d = Conv1D(filters=filters[i],\n",
    "                       kernel_size=kernel_size[i],\n",
    "                       padding='valid',\n",
    "                       activation='relu',\n",
    "                       strides=1)(cnn1d)\n",
    "        cnn1d = Dropout(dropout_rate[i])(cnn1d)\n",
    "    lstm = LSTM(32, return_sequences=True, dropout=0.1, recurrent_dropout=0.1)(cnn1d)\n",
    "    inner_output = LSTM(16, return_sequences=False)(lstm)\n",
    "    inner_model = Model(inputs=inner_input, outputs=inner_output)\n",
    "\n",
    "    outer_input = Input(shape=(len_outer, len_inner,len_fea), dtype='float32')\n",
    "    innered = TimeDistributed(inner_model)(outer_input)\n",
    "    outered=Bidirectional(LSTM(16, return_sequences=False))(innered)\n",
    "    outered = Dense(8, activation='relu')(outered)\n",
    "    outer_output = Dense(1)(outered)\n",
    "\n",
    "    model = Model(inputs=outer_input, outputs=outer_output)\n",
    "    model.compile(loss='mape', optimizer='adam')\n",
    "\n",
    "    return model,inner_model"
   ]
  },
  {
   "cell_type": "code",
   "execution_count": 27,
   "metadata": {},
   "outputs": [],
   "source": [
    "LTV_model, LTV_inner_model = build_model(outer_length,inner_length,feature_len)"
   ]
  },
  {
   "cell_type": "code",
   "execution_count": 28,
   "metadata": {},
   "outputs": [
    {
     "name": "stdout",
     "output_type": "stream",
     "text": [
      "_________________________________________________________________\n",
      "Layer (type)                 Output Shape              Param #   \n",
      "=================================================================\n",
      "input_2 (InputLayer)         (None, 4, 32, 5)          0         \n",
      "_________________________________________________________________\n",
      "time_distributed_1 (TimeDist (None, 4, 16)             16288     \n",
      "_________________________________________________________________\n",
      "bidirectional_1 (Bidirection (None, 32)                4224      \n",
      "_________________________________________________________________\n",
      "dense_1 (Dense)              (None, 8)                 264       \n",
      "_________________________________________________________________\n",
      "dense_2 (Dense)              (None, 1)                 9         \n",
      "=================================================================\n",
      "Total params: 20,785\n",
      "Trainable params: 20,785\n",
      "Non-trainable params: 0\n",
      "_________________________________________________________________\n"
     ]
    }
   ],
   "source": [
    "LTV_model.summary()"
   ]
  },
  {
   "cell_type": "code",
   "execution_count": 29,
   "metadata": {},
   "outputs": [
    {
     "name": "stdout",
     "output_type": "stream",
     "text": [
      "_________________________________________________________________\n",
      "Layer (type)                 Output Shape              Param #   \n",
      "=================================================================\n",
      "input_1 (InputLayer)         (None, 32, 5)             0         \n",
      "_________________________________________________________________\n",
      "conv1d_1 (Conv1D)            (None, 31, 64)            704       \n",
      "_________________________________________________________________\n",
      "dropout_1 (Dropout)          (None, 31, 64)            0         \n",
      "_________________________________________________________________\n",
      "conv1d_2 (Conv1D)            (None, 30, 32)            4128      \n",
      "_________________________________________________________________\n",
      "dropout_2 (Dropout)          (None, 30, 32)            0         \n",
      "_________________________________________________________________\n",
      "lstm_1 (LSTM)                (None, 30, 32)            8320      \n",
      "_________________________________________________________________\n",
      "lstm_2 (LSTM)                (None, 16)                3136      \n",
      "=================================================================\n",
      "Total params: 16,288\n",
      "Trainable params: 16,288\n",
      "Non-trainable params: 0\n",
      "_________________________________________________________________\n"
     ]
    }
   ],
   "source": [
    "LTV_inner_model.summary()"
   ]
  },
  {
   "cell_type": "markdown",
   "metadata": {},
   "source": [
    "### 模型训练"
   ]
  },
  {
   "cell_type": "code",
   "execution_count": 30,
   "metadata": {},
   "outputs": [
    {
     "name": "stdout",
     "output_type": "stream",
     "text": [
      "Train on 1900 samples, validate on 634 samples\n",
      "Epoch 1/200\n",
      " - 16s - loss: 97.9124 - val_loss: 93.0421\n",
      "Epoch 2/200\n",
      " - 11s - loss: 77.5284 - val_loss: 55.3135\n",
      "Epoch 3/200\n",
      " - 12s - loss: 36.1316 - val_loss: 15.1874\n",
      "Epoch 4/200\n",
      " - 11s - loss: 14.6390 - val_loss: 13.1785\n",
      "Epoch 5/200\n",
      " - 11s - loss: 13.7543 - val_loss: 12.8265\n",
      "Epoch 6/200\n",
      " - 11s - loss: 13.3501 - val_loss: 12.2620\n",
      "Epoch 7/200\n",
      " - 11s - loss: 13.3779 - val_loss: 12.3732\n",
      "Epoch 8/200\n",
      " - 11s - loss: 13.3532 - val_loss: 12.2312\n",
      "Epoch 9/200\n",
      " - 11s - loss: 13.3482 - val_loss: 12.3343\n",
      "Epoch 10/200\n",
      " - 11s - loss: 13.3244 - val_loss: 12.2819\n",
      "Epoch 11/200\n",
      " - 11s - loss: 13.3099 - val_loss: 12.2126\n",
      "Epoch 12/200\n",
      " - 11s - loss: 13.2894 - val_loss: 12.3198\n",
      "Epoch 13/200\n",
      " - 11s - loss: 13.2878 - val_loss: 12.2164\n",
      "Epoch 14/200\n",
      " - 11s - loss: 13.2685 - val_loss: 12.2337\n",
      "Epoch 15/200\n",
      " - 11s - loss: 13.2725 - val_loss: 12.2178\n",
      "Epoch 16/200\n",
      " - 11s - loss: 13.2520 - val_loss: 12.1709\n",
      "Epoch 17/200\n",
      " - 11s - loss: 13.2483 - val_loss: 12.3258\n",
      "Epoch 18/200\n",
      " - 11s - loss: 13.2469 - val_loss: 12.1496\n",
      "Epoch 19/200\n",
      " - 10s - loss: 13.2254 - val_loss: 12.1991\n",
      "Epoch 20/200\n",
      " - 10s - loss: 13.2361 - val_loss: 12.1141\n",
      "Epoch 21/200\n",
      " - 10s - loss: 13.2023 - val_loss: 12.0980\n",
      "Epoch 22/200\n",
      " - 10s - loss: 13.2104 - val_loss: 12.1287\n",
      "Epoch 23/200\n",
      " - 11s - loss: 13.1572 - val_loss: 12.0816\n",
      "Epoch 24/200\n",
      " - 11s - loss: 13.1076 - val_loss: 12.0067\n",
      "Epoch 25/200\n",
      " - 11s - loss: 13.0482 - val_loss: 11.8610\n",
      "Epoch 26/200\n",
      " - 11s - loss: 12.9164 - val_loss: 11.7269\n",
      "Epoch 27/200\n",
      " - 11s - loss: 12.7220 - val_loss: 11.6434\n",
      "Epoch 28/200\n",
      " - 11s - loss: 12.6179 - val_loss: 11.3649\n",
      "Epoch 29/200\n",
      " - 11s - loss: 12.2506 - val_loss: 11.1152\n",
      "Epoch 30/200\n",
      " - 11s - loss: 12.0055 - val_loss: 10.9150\n",
      "Epoch 31/200\n",
      " - 11s - loss: 11.8388 - val_loss: 10.8682\n",
      "Epoch 32/200\n",
      " - 11s - loss: 11.7646 - val_loss: 12.0195\n",
      "Epoch 33/200\n",
      " - 12s - loss: 11.7741 - val_loss: 11.1396\n",
      "Epoch 34/200\n",
      " - 11s - loss: 11.6136 - val_loss: 10.9152\n",
      "Epoch 35/200\n",
      " - 11s - loss: 11.6408 - val_loss: 11.3608\n",
      "Epoch 36/200\n",
      " - 10s - loss: 11.5881 - val_loss: 10.8397\n",
      "Epoch 37/200\n",
      " - 11s - loss: 11.6741 - val_loss: 10.7804\n",
      "Epoch 38/200\n",
      " - 11s - loss: 11.7017 - val_loss: 10.8237\n",
      "Epoch 39/200\n",
      " - 11s - loss: 11.5344 - val_loss: 10.7523\n",
      "Epoch 40/200\n",
      " - 11s - loss: 11.5568 - val_loss: 11.2371\n",
      "Epoch 41/200\n",
      " - 11s - loss: 11.5537 - val_loss: 11.0845\n",
      "Epoch 42/200\n",
      " - 11s - loss: 11.4568 - val_loss: 10.8540\n",
      "Epoch 43/200\n",
      " - 11s - loss: 11.4927 - val_loss: 11.0874\n",
      "Epoch 44/200\n",
      " - 11s - loss: 11.5101 - val_loss: 11.3616\n",
      "Epoch 45/200\n",
      " - 11s - loss: 11.4325 - val_loss: 11.0312\n",
      "Epoch 46/200\n",
      " - 11s - loss: 11.4074 - val_loss: 10.7893\n",
      "Epoch 47/200\n",
      " - 12s - loss: 11.3832 - val_loss: 10.9318\n",
      "Epoch 48/200\n",
      " - 11s - loss: 11.4344 - val_loss: 10.8174\n",
      "Epoch 49/200\n",
      " - 11s - loss: 11.5382 - val_loss: 11.0417\n",
      "Epoch 50/200\n",
      " - 11s - loss: 11.5860 - val_loss: 11.1171\n",
      "Epoch 51/200\n",
      " - 11s - loss: 11.4323 - val_loss: 10.7841\n",
      "Epoch 52/200\n",
      " - 11s - loss: 11.4406 - val_loss: 10.7698\n",
      "Epoch 53/200\n",
      " - 12s - loss: 11.3919 - val_loss: 10.7245\n",
      "Epoch 54/200\n",
      " - 11s - loss: 11.3979 - val_loss: 11.0244\n",
      "Epoch 55/200\n",
      " - 11s - loss: 11.4260 - val_loss: 11.0336\n",
      "Epoch 56/200\n",
      " - 11s - loss: 11.4128 - val_loss: 11.0903\n",
      "Epoch 57/200\n",
      " - 11s - loss: 11.4174 - val_loss: 11.0612\n",
      "Epoch 58/200\n",
      " - 11s - loss: 11.3428 - val_loss: 11.0388\n",
      "Epoch 59/200\n",
      " - 11s - loss: 11.4597 - val_loss: 11.5293\n",
      "Epoch 60/200\n",
      " - 11s - loss: 11.5208 - val_loss: 11.0189\n",
      "Epoch 61/200\n",
      " - 11s - loss: 11.3761 - val_loss: 10.7875\n",
      "Epoch 62/200\n",
      " - 11s - loss: 11.3540 - val_loss: 10.8055\n",
      "Epoch 63/200\n",
      " - 11s - loss: 11.3245 - val_loss: 10.9462\n",
      "Epoch 64/200\n",
      " - 11s - loss: 11.3343 - val_loss: 10.8061\n",
      "Epoch 65/200\n",
      " - 11s - loss: 11.3334 - val_loss: 10.8903\n",
      "Epoch 66/200\n",
      " - 11s - loss: 11.3056 - val_loss: 10.7020\n",
      "Epoch 67/200\n",
      " - 11s - loss: 11.3553 - val_loss: 10.7558\n",
      "Epoch 68/200\n",
      " - 11s - loss: 11.2940 - val_loss: 10.6631\n",
      "Epoch 69/200\n",
      " - 11s - loss: 11.3563 - val_loss: 10.7470\n",
      "Epoch 70/200\n",
      " - 11s - loss: 11.3387 - val_loss: 11.0390\n",
      "Epoch 71/200\n",
      " - 11s - loss: 12.5428 - val_loss: 12.8187\n",
      "Epoch 72/200\n",
      " - 11s - loss: 12.5005 - val_loss: 11.5393\n",
      "Epoch 73/200\n",
      " - 11s - loss: 11.7858 - val_loss: 11.6272\n",
      "Epoch 74/200\n",
      " - 11s - loss: 11.7168 - val_loss: 11.1573\n",
      "Epoch 75/200\n",
      " - 10s - loss: 11.6284 - val_loss: 11.1597\n",
      "Epoch 76/200\n",
      " - 10s - loss: 11.5853 - val_loss: 11.2044\n",
      "Epoch 77/200\n",
      " - 11s - loss: 11.5969 - val_loss: 11.1585\n",
      "Epoch 78/200\n",
      " - 11s - loss: 11.5192 - val_loss: 11.3061\n",
      "Epoch 79/200\n",
      " - 11s - loss: 11.5229 - val_loss: 11.0080\n",
      "Epoch 80/200\n",
      " - 11s - loss: 11.4536 - val_loss: 10.8674\n",
      "Epoch 81/200\n",
      " - 12s - loss: 11.6301 - val_loss: 10.8447\n",
      "Epoch 82/200\n",
      " - 11s - loss: 11.5425 - val_loss: 10.8526\n",
      "Epoch 83/200\n",
      " - 12s - loss: 11.4416 - val_loss: 10.7756\n",
      "Epoch 84/200\n",
      " - 11s - loss: 11.4315 - val_loss: 10.7534\n",
      "Epoch 85/200\n",
      " - 11s - loss: 11.4209 - val_loss: 10.7875\n",
      "Epoch 86/200\n",
      " - 11s - loss: 11.3614 - val_loss: 10.7766\n",
      "Epoch 87/200\n",
      " - 11s - loss: 11.3355 - val_loss: 10.7773\n",
      "Epoch 88/200\n",
      " - 11s - loss: 11.3764 - val_loss: 10.7373\n",
      "Epoch 89/200\n",
      " - 11s - loss: 11.4194 - val_loss: 10.9406\n",
      "Epoch 90/200\n",
      " - 10s - loss: 11.3960 - val_loss: 10.8373\n",
      "Epoch 91/200\n",
      " - 10s - loss: 11.3530 - val_loss: 10.7534\n",
      "Epoch 92/200\n",
      " - 10s - loss: 11.5041 - val_loss: 10.6506\n",
      "Epoch 93/200\n",
      " - 10s - loss: 11.8652 - val_loss: 10.8906\n",
      "Epoch 94/200\n",
      " - 10s - loss: 11.4522 - val_loss: 11.2157\n",
      "Epoch 95/200\n",
      " - 11s - loss: 11.4241 - val_loss: 10.9812\n",
      "Epoch 96/200\n",
      " - 10s - loss: 11.4577 - val_loss: 10.9985\n",
      "Epoch 97/200\n",
      " - 10s - loss: 11.3632 - val_loss: 10.7728\n",
      "Epoch 98/200\n",
      " - 10s - loss: 11.4054 - val_loss: 10.7088\n",
      "Epoch 99/200\n",
      " - 11s - loss: 11.2956 - val_loss: 10.8296\n",
      "Epoch 100/200\n",
      " - 11s - loss: 11.2904 - val_loss: 10.7326\n",
      "Epoch 101/200\n",
      " - 11s - loss: 11.2900 - val_loss: 10.7915\n",
      "Epoch 102/200\n",
      " - 11s - loss: 11.3433 - val_loss: 10.7758\n",
      "Epoch 103/200\n",
      " - 11s - loss: 11.3318 - val_loss: 11.3757\n",
      "Epoch 104/200\n",
      " - 11s - loss: 11.2836 - val_loss: 11.1894\n",
      "Epoch 105/200\n",
      " - 11s - loss: 11.3462 - val_loss: 11.5343\n",
      "Epoch 106/200\n",
      " - 11s - loss: 11.4034 - val_loss: 11.3218\n",
      "Epoch 107/200\n",
      " - 12s - loss: 11.3000 - val_loss: 10.9858\n",
      "Epoch 108/200\n",
      " - 12s - loss: 11.2758 - val_loss: 11.2826\n",
      "Epoch 109/200\n",
      " - 12s - loss: 11.3208 - val_loss: 10.9971\n",
      "Epoch 110/200\n",
      " - 11s - loss: 11.3671 - val_loss: 10.8281\n",
      "Epoch 111/200\n",
      " - 11s - loss: 11.3477 - val_loss: 10.8868\n",
      "Epoch 112/200\n",
      " - 11s - loss: 11.3443 - val_loss: 10.8116\n",
      "Epoch 113/200\n",
      " - 11s - loss: 11.3123 - val_loss: 10.8131\n",
      "Epoch 114/200\n",
      " - 12s - loss: 11.3360 - val_loss: 10.8150\n",
      "Epoch 115/200\n",
      " - 11s - loss: 11.3528 - val_loss: 10.7703\n",
      "Epoch 116/200\n",
      " - 11s - loss: 11.3286 - val_loss: 11.4594\n",
      "Epoch 117/200\n",
      " - 11s - loss: 11.4526 - val_loss: 11.2987\n",
      "Epoch 118/200\n",
      " - 11s - loss: 11.5019 - val_loss: 11.2210\n",
      "Epoch 119/200\n",
      " - 11s - loss: 11.5183 - val_loss: 11.3399\n",
      "Epoch 120/200\n",
      " - 11s - loss: 11.3281 - val_loss: 11.0156\n",
      "Epoch 121/200\n",
      " - 11s - loss: 11.3127 - val_loss: 11.3949\n",
      "Epoch 122/200\n",
      " - 11s - loss: 11.3767 - val_loss: 11.0685\n",
      "Epoch 00122: early stopping\n"
     ]
    }
   ],
   "source": [
    "cb = EarlyStopping(monitor='val_loss', mode='min', verbose=1, patience=30)\n",
    "\n",
    "history = LTV_model.fit(x=X_train_data,\n",
    "                        y=y_train_log,\n",
    "                        validation_data=(X_test_data, y_test_log),\n",
    "                        epochs=200,\n",
    "                        batch_size=128,\n",
    "                        callbacks=[cb],\n",
    "                        verbose=2)\n",
    "\n",
    "LTV_model.save('LTV_model.h5')"
   ]
  },
  {
   "cell_type": "markdown",
   "metadata": {},
   "source": [
    "### 模型分析"
   ]
  },
  {
   "cell_type": "code",
   "execution_count": 31,
   "metadata": {},
   "outputs": [
    {
     "data": {
      "text/plain": [
       "[0, 200, 0, 100]"
      ]
     },
     "execution_count": 31,
     "metadata": {},
     "output_type": "execute_result"
    },
    {
     "data": {
      "image/png": "[encoded data removed]",
      "text/plain": [
       "<Figure size 432x288 with 1 Axes>"
      ]
     },
     "metadata": {
      "needs_background": "light"
     },
     "output_type": "display_data"
    }
   ],
   "source": [
    "plt.figure()\n",
    "plt.plot(history.history['val_loss'],'o',label='val_loss')\n",
    "plt.plot(history.history['loss'],'-',label='loss')\n",
    "plt.title('model loss')\n",
    "plt.legend()\n",
    "plt.axis([0,200,0,100])"
   ]
  },
  {
   "cell_type": "code",
   "execution_count": null,
   "metadata": {},
   "outputs": [],
   "source": []
  }
 ],
 "metadata": {
  "kernelspec": {
   "display_name": "Python 3",
   "language": "python",
   "name": "python3"
  },
  "language_info": {
   "codemirror_mode": {
    "name": "ipython",
    "version": 3
   },
   "file_extension": ".py",
   "mimetype": "text/x-python",
   "name": "python",
   "nbconvert_exporter": "python",
   "pygments_lexer": "ipython3",
   "version": "3.6.5"
  }
 },
 "nbformat": 4,
 "nbformat_minor": 2
}
