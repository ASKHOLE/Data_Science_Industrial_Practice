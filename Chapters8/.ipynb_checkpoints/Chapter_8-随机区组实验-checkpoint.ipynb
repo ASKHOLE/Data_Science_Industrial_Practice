{
 "cells": [
  {
   "cell_type": "markdown",
   "metadata": {},
   "source": [
    "### 0. 系统信息"
   ]
  },
  {
   "cell_type": "code",
   "execution_count": 1,
   "metadata": {},
   "outputs": [
    {
     "name": "stdout",
     "output_type": "stream",
     "text": [
      "system info: Windows-10-10.0.18362-SP0\n",
      "python version: 3.6.5 |Anaconda, Inc.| (default, Mar 29 2018, 13:32:41) [MSC v.1900 64 bit (AMD64)]\n"
     ]
    }
   ],
   "source": [
    "import platform\n",
    "import sys\n",
    "print('system info:', platform.platform())\n",
    "print('python version:', sys.version.split('\\n')[0])"
   ]
  },
  {
   "cell_type": "code",
   "execution_count": 2,
   "metadata": {},
   "outputs": [
    {
     "name": "stdout",
     "output_type": "stream",
     "text": [
      "numpy version: 1.16.5\n",
      "pandas version: 0.23.0\n",
      "scipy version: 1.4.1\n",
      "statsmodels version: 0.10.1\n"
     ]
    }
   ],
   "source": [
    "import numpy as np \n",
    "import pandas as pd \n",
    "import scipy\n",
    "import statsmodels\n",
    "\n",
    "print('numpy version:', np.__version__)\n",
    "print('pandas version:', pd.__version__)\n",
    "print('scipy version:', scipy.__version__)\n",
    "print('statsmodels version:', statsmodels.__version__)"
   ]
  },
  {
   "cell_type": "markdown",
   "metadata": {},
   "source": [
    "### 1. 导入相关包"
   ]
  },
  {
   "cell_type": "code",
   "execution_count": 3,
   "metadata": {},
   "outputs": [],
   "source": [
    "import numpy as np \n",
    "import pandas as pd \n",
    "from statsmodels.regression.linear_model import OLS, GLS \n",
    "import statsmodels.formula.api as smf\n",
    "import statsmodels.api as sm"
   ]
  },
  {
   "cell_type": "markdown",
   "metadata": {},
   "source": [
    "### 2. 导入数据\n",
    "由于使用的数据比较少，所以直接在下面代码中定义，最终将重复了5次的数据存在df_data这个DataFrame中。df_data的数据结构为120行3列，含义为\n",
    "\n",
    "| user_tag| exp|GMV |\n",
    "|---|---|---|\n",
    "|用户标签| 实验组/对照组哑变量 |GMV|\n",
    "\n",
    "\n",
    "df_data_his存放的是利用对照组代替的用户历史信息，所以只有60行对照组数据。"
   ]
  },
  {
   "cell_type": "code",
   "execution_count": 4,
   "metadata": {},
   "outputs": [
    {
     "name": "stdout",
     "output_type": "stream",
     "text": [
      "   0   1   2   3   4   5   6   7   8   9   10  11\n",
      "0   0   0   0   0   1   1   1   1   2   2   2   2\n",
      "1  53  57  55  47  53  60  47  43  53  45  49  41\n",
      "2  51  54  53  47  52  48  50  44  48  48  44  47\n"
     ]
    }
   ],
   "source": [
    "arr_data = np.array([[0,0,0,0,1,1,1,1,2,2,2,2],\n",
    "                     [53,57,55,47,53,60,47,43,53,45,49,41],\n",
    "                     [51,54,53,47,52,48,50,44,48,48,44,47]])\n",
    "print(pd.DataFrame(arr_data))"
   ]
  },
  {
   "cell_type": "code",
   "execution_count": 5,
   "metadata": {},
   "outputs": [
    {
     "name": "stdout",
     "output_type": "stream",
     "text": [
      "(24, 3)\n",
      "(144, 3)\n"
     ]
    }
   ],
   "source": [
    "df_data_t = pd.DataFrame(arr_data[[0,1]], index=['user_tag','gmv']).T\n",
    "df_data_c = pd.DataFrame(arr_data[[0,2]], index=['user_tag','gmv']).T\n",
    "df_data_t['exp'] = 'treatment'\n",
    "df_data_c['exp'] = 'control'\n",
    "df_data_unit = pd.concat([df_data_t, df_data_c])\n",
    "\n",
    "print(df_data_unit.shape)\n",
    "df_data = pd.concat([df_data_unit]*6)\n",
    "print(df_data.shape)"
   ]
  },
  {
   "cell_type": "code",
   "execution_count": 6,
   "metadata": {},
   "outputs": [],
   "source": [
    "df_his_data = df_data[df_data['exp']=='control'][['gmv','user_tag']]\n",
    "df_his_data.columns = ['gmv_his','user_tag']"
   ]
  },
  {
   "cell_type": "markdown",
   "metadata": {},
   "source": [
    "### 3. 实验设计中的历史数据验证"
   ]
  },
  {
   "cell_type": "code",
   "execution_count": 7,
   "metadata": {},
   "outputs": [
    {
     "data": {
      "text/html": [
       "<style  type=\"text/css\" >\n",
       "</style>  \n",
       "<table id=\"T_96b77e12_50dc_11ea_a0c2_78f29efdf647\" > \n",
       "<thead>    <tr> \n",
       "        <th class=\"blank level0\" ></th> \n",
       "        <th class=\"col_heading level0 col0\" >df</th> \n",
       "        <th class=\"col_heading level0 col1\" >sum_sq</th> \n",
       "        <th class=\"col_heading level0 col2\" >mean_sq</th> \n",
       "        <th class=\"col_heading level0 col3\" >F</th> \n",
       "        <th class=\"col_heading level0 col4\" >PR(>F)</th> \n",
       "    </tr></thead> \n",
       "<tbody>    <tr> \n",
       "        <th id=\"T_96b77e12_50dc_11ea_a0c2_78f29efdf647level0_row0\" class=\"row_heading level0 row0\" >C(user_tag)</th> \n",
       "        <td id=\"T_96b77e12_50dc_11ea_a0c2_78f29efdf647row0_col0\" class=\"data row0 col0\" >2</td> \n",
       "        <td id=\"T_96b77e12_50dc_11ea_a0c2_78f29efdf647row0_col1\" class=\"data row0 col1\" >247</td> \n",
       "        <td id=\"T_96b77e12_50dc_11ea_a0c2_78f29efdf647row0_col2\" class=\"data row0 col2\" >123.5</td> \n",
       "        <td id=\"T_96b77e12_50dc_11ea_a0c2_78f29efdf647row0_col3\" class=\"data row0 col3\" >19.0638</td> \n",
       "        <td id=\"T_96b77e12_50dc_11ea_a0c2_78f29efdf647row0_col4\" class=\"data row0 col4\" >0.00%</td> \n",
       "    </tr>    <tr> \n",
       "        <th id=\"T_96b77e12_50dc_11ea_a0c2_78f29efdf647level0_row1\" class=\"row_heading level0 row1\" >Residual</th> \n",
       "        <td id=\"T_96b77e12_50dc_11ea_a0c2_78f29efdf647row1_col0\" class=\"data row1 col0\" >69</td> \n",
       "        <td id=\"T_96b77e12_50dc_11ea_a0c2_78f29efdf647row1_col1\" class=\"data row1 col1\" >447</td> \n",
       "        <td id=\"T_96b77e12_50dc_11ea_a0c2_78f29efdf647row1_col2\" class=\"data row1 col2\" >6.47826</td> \n",
       "        <td id=\"T_96b77e12_50dc_11ea_a0c2_78f29efdf647row1_col3\" class=\"data row1 col3\" >nan</td> \n",
       "        <td id=\"T_96b77e12_50dc_11ea_a0c2_78f29efdf647row1_col4\" class=\"data row1 col4\" >nan%</td> \n",
       "    </tr></tbody> \n",
       "</table> "
      ],
      "text/plain": [
       "<pandas.io.formats.style.Styler at 0x1d6d0d80ac8>"
      ]
     },
     "execution_count": 7,
     "metadata": {},
     "output_type": "execute_result"
    }
   ],
   "source": [
    "model_block = smf.ols(formula='gmv_his ~ C(user_tag)', data=df_his_data)\n",
    "results_block = model_block.fit()\n",
    "df_anova=sm.stats.anova_lm(results_block, typ=1)\n",
    "format_dict={'PR(>F)':'{:,.2%}'.format}\n",
    "df_anova.style.format(format_dict)"
   ]
  },
  {
   "cell_type": "markdown",
   "metadata": {},
   "source": [
    "### 4. 利用ANOVA进行随机区组实验的数据分析"
   ]
  },
  {
   "cell_type": "code",
   "execution_count": 8,
   "metadata": {},
   "outputs": [
    {
     "name": "stdout",
     "output_type": "stream",
     "text": [
      "                            OLS Regression Results                            \n",
      "==============================================================================\n",
      "Dep. Variable:                    gmv   R-squared:                       0.244\n",
      "Model:                            OLS   Adj. R-squared:                  0.228\n",
      "Method:                 Least Squares   F-statistic:                     15.05\n",
      "Date:                Mon, 17 Feb 2020   Prob (F-statistic):           1.53e-08\n",
      "Time:                        00:51:34   Log-Likelihood:                -403.12\n",
      "No. Observations:                 144   AIC:                             814.2\n",
      "Df Residuals:                     140   BIC:                             826.1\n",
      "Df Model:                           3                                         \n",
      "Covariance Type:            nonrobust                                         \n",
      "=======================================================================================\n",
      "                          coef    std err          t      P>|t|      [0.025      0.975]\n",
      "---------------------------------------------------------------------------------------\n",
      "Intercept              51.4167      0.672     76.487      0.000      50.088      52.746\n",
      "C(exp)[T.treatment]     1.4167      0.672      2.107      0.037       0.088       2.746\n",
      "C(user_tag)[T.1]       -2.5000      0.823     -3.037      0.003      -4.128      -0.872\n",
      "C(user_tag)[T.2]       -5.2500      0.823     -6.377      0.000      -6.878      -3.622\n",
      "==============================================================================\n",
      "Omnibus:                        0.086   Durbin-Watson:                   2.540\n",
      "Prob(Omnibus):                  0.958   Jarque-Bera (JB):                0.176\n",
      "Skew:                           0.055   Prob(JB):                        0.916\n",
      "Kurtosis:                       2.868   Cond. No.                         4.22\n",
      "==============================================================================\n",
      "\n",
      "Warnings:\n",
      "[1] Standard Errors assume that the covariance matrix of the errors is correctly specified.\n"
     ]
    }
   ],
   "source": [
    "model = smf.ols(formula='gmv ~ C(exp) + C(user_tag)', data=df_data)\n",
    "results = model.fit()\n",
    "print(results.summary())"
   ]
  },
  {
   "cell_type": "code",
   "execution_count": 9,
   "metadata": {},
   "outputs": [
    {
     "data": {
      "text/html": [
       "<style  type=\"text/css\" >\n",
       "</style>  \n",
       "<table id=\"T_96bf4546_50dc_11ea_9136_78f29efdf647\" > \n",
       "<thead>    <tr> \n",
       "        <th class=\"blank level0\" ></th> \n",
       "        <th class=\"col_heading level0 col0\" >df</th> \n",
       "        <th class=\"col_heading level0 col1\" >sum_sq</th> \n",
       "        <th class=\"col_heading level0 col2\" >mean_sq</th> \n",
       "        <th class=\"col_heading level0 col3\" >F</th> \n",
       "        <th class=\"col_heading level0 col4\" >PR(>F)</th> \n",
       "    </tr></thead> \n",
       "<tbody>    <tr> \n",
       "        <th id=\"T_96bf4546_50dc_11ea_9136_78f29efdf647level0_row0\" class=\"row_heading level0 row0\" >C(exp)</th> \n",
       "        <td id=\"T_96bf4546_50dc_11ea_9136_78f29efdf647row0_col0\" class=\"data row0 col0\" >1</td> \n",
       "        <td id=\"T_96bf4546_50dc_11ea_9136_78f29efdf647row0_col1\" class=\"data row0 col1\" >72.25</td> \n",
       "        <td id=\"T_96bf4546_50dc_11ea_9136_78f29efdf647row0_col2\" class=\"data row0 col2\" >72.25</td> \n",
       "        <td id=\"T_96bf4546_50dc_11ea_9136_78f29efdf647row0_col3\" class=\"data row0 col3\" >4.44127</td> \n",
       "        <td id=\"T_96bf4546_50dc_11ea_9136_78f29efdf647row0_col4\" class=\"data row0 col4\" >3.69%</td> \n",
       "    </tr>    <tr> \n",
       "        <th id=\"T_96bf4546_50dc_11ea_9136_78f29efdf647level0_row1\" class=\"row_heading level0 row1\" >C(user_tag)</th> \n",
       "        <td id=\"T_96bf4546_50dc_11ea_9136_78f29efdf647row1_col0\" class=\"data row1 col0\" >2</td> \n",
       "        <td id=\"T_96bf4546_50dc_11ea_9136_78f29efdf647row1_col1\" class=\"data row1 col1\" >662</td> \n",
       "        <td id=\"T_96bf4546_50dc_11ea_9136_78f29efdf647row1_col2\" class=\"data row1 col2\" >331</td> \n",
       "        <td id=\"T_96bf4546_50dc_11ea_9136_78f29efdf647row1_col3\" class=\"data row1 col3\" >20.3469</td> \n",
       "        <td id=\"T_96bf4546_50dc_11ea_9136_78f29efdf647row1_col4\" class=\"data row1 col4\" >0.00%</td> \n",
       "    </tr>    <tr> \n",
       "        <th id=\"T_96bf4546_50dc_11ea_9136_78f29efdf647level0_row2\" class=\"row_heading level0 row2\" >Residual</th> \n",
       "        <td id=\"T_96bf4546_50dc_11ea_9136_78f29efdf647row2_col0\" class=\"data row2 col0\" >140</td> \n",
       "        <td id=\"T_96bf4546_50dc_11ea_9136_78f29efdf647row2_col1\" class=\"data row2 col1\" >2277.5</td> \n",
       "        <td id=\"T_96bf4546_50dc_11ea_9136_78f29efdf647row2_col2\" class=\"data row2 col2\" >16.2679</td> \n",
       "        <td id=\"T_96bf4546_50dc_11ea_9136_78f29efdf647row2_col3\" class=\"data row2 col3\" >nan</td> \n",
       "        <td id=\"T_96bf4546_50dc_11ea_9136_78f29efdf647row2_col4\" class=\"data row2 col4\" >nan%</td> \n",
       "    </tr></tbody> \n",
       "</table> "
      ],
      "text/plain": [
       "<pandas.io.formats.style.Styler at 0x1d6d201a0f0>"
      ]
     },
     "execution_count": 9,
     "metadata": {},
     "output_type": "execute_result"
    }
   ],
   "source": [
    "df_anova=sm.stats.anova_lm(results, typ=1)\n",
    "format_dict={'PR(>F)':'{:,.2%}'.format}\n",
    "df_anova.style.format(format_dict)"
   ]
  },
  {
   "cell_type": "markdown",
   "metadata": {},
   "source": [
    "### 5. 如果不考虑区组，只是利用ANOVA的方法分析A/B实验"
   ]
  },
  {
   "cell_type": "code",
   "execution_count": 10,
   "metadata": {},
   "outputs": [
    {
     "data": {
      "text/html": [
       "<style  type=\"text/css\" >\n",
       "</style>  \n",
       "<table id=\"T_96c33cb6_50dc_11ea_8094_78f29efdf647\" > \n",
       "<thead>    <tr> \n",
       "        <th class=\"blank level0\" ></th> \n",
       "        <th class=\"col_heading level0 col0\" >df</th> \n",
       "        <th class=\"col_heading level0 col1\" >sum_sq</th> \n",
       "        <th class=\"col_heading level0 col2\" >mean_sq</th> \n",
       "        <th class=\"col_heading level0 col3\" >F</th> \n",
       "        <th class=\"col_heading level0 col4\" >PR(>F)</th> \n",
       "    </tr></thead> \n",
       "<tbody>    <tr> \n",
       "        <th id=\"T_96c33cb6_50dc_11ea_8094_78f29efdf647level0_row0\" class=\"row_heading level0 row0\" >C(exp)</th> \n",
       "        <td id=\"T_96c33cb6_50dc_11ea_8094_78f29efdf647row0_col0\" class=\"data row0 col0\" >1</td> \n",
       "        <td id=\"T_96c33cb6_50dc_11ea_8094_78f29efdf647row0_col1\" class=\"data row0 col1\" >72.25</td> \n",
       "        <td id=\"T_96c33cb6_50dc_11ea_8094_78f29efdf647row0_col2\" class=\"data row0 col2\" >72.25</td> \n",
       "        <td id=\"T_96c33cb6_50dc_11ea_8094_78f29efdf647row0_col3\" class=\"data row0 col3\" >3.49022</td> \n",
       "        <td id=\"T_96c33cb6_50dc_11ea_8094_78f29efdf647row0_col4\" class=\"data row0 col4\" >6.38%</td> \n",
       "    </tr>    <tr> \n",
       "        <th id=\"T_96c33cb6_50dc_11ea_8094_78f29efdf647level0_row1\" class=\"row_heading level0 row1\" >Residual</th> \n",
       "        <td id=\"T_96c33cb6_50dc_11ea_8094_78f29efdf647row1_col0\" class=\"data row1 col0\" >142</td> \n",
       "        <td id=\"T_96c33cb6_50dc_11ea_8094_78f29efdf647row1_col1\" class=\"data row1 col1\" >2939.5</td> \n",
       "        <td id=\"T_96c33cb6_50dc_11ea_8094_78f29efdf647row1_col2\" class=\"data row1 col2\" >20.7007</td> \n",
       "        <td id=\"T_96c33cb6_50dc_11ea_8094_78f29efdf647row1_col3\" class=\"data row1 col3\" >nan</td> \n",
       "        <td id=\"T_96c33cb6_50dc_11ea_8094_78f29efdf647row1_col4\" class=\"data row1 col4\" >nan%</td> \n",
       "    </tr></tbody> \n",
       "</table> "
      ],
      "text/plain": [
       "<pandas.io.formats.style.Styler at 0x1d6d0d27d68>"
      ]
     },
     "execution_count": 10,
     "metadata": {},
     "output_type": "execute_result"
    }
   ],
   "source": [
    "model = smf.ols(formula='gmv ~ C(exp)', data=df_data)\n",
    "results = model.fit()\n",
    "df_anova = sm.stats.anova_lm(results, typ=1)\n",
    "format_dict={'PR(>F)':'{:,.2%}'.format}\n",
    "df_anova.style.format(format_dict)"
   ]
  }
 ],
 "metadata": {
  "kernelspec": {
   "display_name": "Python 3",
   "language": "python",
   "name": "python3"
  },
  "language_info": {
   "codemirror_mode": {
    "name": "ipython",
    "version": 3
   },
   "file_extension": ".py",
   "mimetype": "text/x-python",
   "name": "python",
   "nbconvert_exporter": "python",
   "pygments_lexer": "ipython3",
   "version": "3.6.5"
  }
 },
 "nbformat": 4,
 "nbformat_minor": 2
}
