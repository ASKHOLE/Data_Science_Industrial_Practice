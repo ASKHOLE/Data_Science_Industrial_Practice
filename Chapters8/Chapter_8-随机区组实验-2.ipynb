{
 "cells": [
  {
   "cell_type": "markdown",
   "metadata": {},
   "source": [
    "### 0. 系统信息"
   ]
  },
  {
   "cell_type": "code",
   "execution_count": 1,
   "metadata": {},
   "outputs": [
    {
     "name": "stdout",
     "output_type": "stream",
     "text": [
      "system info: Darwin-18.6.0-x86_64-i386-64bit\n",
      "python version: 3.7.4 (default, Aug 13 2019, 15:17:50) \n"
     ]
    }
   ],
   "source": [
    "import platform\n",
    "import sys\n",
    "print('system info:', platform.platform())\n",
    "print('python version:', sys.version.split('\\n')[0])"
   ]
  },
  {
   "cell_type": "code",
   "execution_count": 2,
   "metadata": {},
   "outputs": [
    {
     "name": "stdout",
     "output_type": "stream",
     "text": [
      "numpy version: 1.18.1\n",
      "pandas version: 1.0.1\n",
      "scipy version: 1.4.1\n",
      "statsmodels version: 0.11.0\n"
     ]
    }
   ],
   "source": [
    "import numpy as np \n",
    "import pandas as pd \n",
    "import scipy\n",
    "import statsmodels\n",
    "\n",
    "print('numpy version:', np.__version__)\n",
    "print('pandas version:', pd.__version__)\n",
    "print('scipy version:', scipy.__version__)\n",
    "print('statsmodels version:', statsmodels.__version__)"
   ]
  },
  {
   "cell_type": "markdown",
   "metadata": {},
   "source": [
    "### 1. 导入相关包"
   ]
  },
  {
   "cell_type": "code",
   "execution_count": 3,
   "metadata": {},
   "outputs": [],
   "source": [
    "import numpy as np \n",
    "import pandas as pd \n",
    "from statsmodels.regression.linear_model import OLS, GLS \n",
    "import statsmodels.formula.api as smf\n",
    "import statsmodels.api as sm"
   ]
  },
  {
   "cell_type": "markdown",
   "metadata": {},
   "source": [
    "### 2. 导入数据\n",
    "由于使用的数据比较少，所以直接在下面代码中定义，最终将重复了5次的数据存在df_data这个DataFrame中。df_data的数据结构为120行3列，含义为\n",
    "\n",
    "| user_tag| exp|GMV |\n",
    "|---|---|---|\n",
    "|用户标签| 实验组/对照组哑变量 |GMV|\n",
    "\n",
    "\n",
    "df_data_his存放的是利用对照组代替的用户历史信息，所以只有60行对照组数据。"
   ]
  },
  {
   "cell_type": "code",
   "execution_count": 4,
   "metadata": {},
   "outputs": [
    {
     "name": "stdout",
     "output_type": "stream",
     "text": [
      "    0   1   2   3   4   5   6   7   8   9  10  11\n",
      "0   0   0   0   0   1   1   1   1   2   2   2   2\n",
      "1  53  57  55  47  53  60  47  43  53  45  49  41\n",
      "2  51  54  53  47  52  48  50  44  48  48  44  47\n"
     ]
    }
   ],
   "source": [
    "arr_data = np.array([[0,0,0,0,1,1,1,1,2,2,2,2],\n",
    "                     [53,57,55,47,53,60,47,43,53,45,49,41],\n",
    "                     [51,54,53,47,52,48,50,44,48,48,44,47]])\n",
    "print(pd.DataFrame(arr_data))"
   ]
  },
  {
   "cell_type": "code",
   "execution_count": 5,
   "metadata": {},
   "outputs": [
    {
     "name": "stdout",
     "output_type": "stream",
     "text": [
      "(24, 3)\n",
      "(144, 3)\n"
     ]
    }
   ],
   "source": [
    "df_data_t = pd.DataFrame(arr_data[[0,1]], index=['user_tag','gmv']).T\n",
    "df_data_c = pd.DataFrame(arr_data[[0,2]], index=['user_tag','gmv']).T\n",
    "df_data_t['exp'] = 'treatment'\n",
    "df_data_c['exp'] = 'control'\n",
    "df_data_unit = pd.concat([df_data_t, df_data_c])\n",
    "\n",
    "print(df_data_unit.shape)\n",
    "df_data = pd.concat([df_data_unit]*6)\n",
    "print(df_data.shape)"
   ]
  },
  {
   "cell_type": "code",
   "execution_count": 6,
   "metadata": {},
   "outputs": [],
   "source": [
    "df_his_data = df_data[df_data['exp']=='control'][['gmv','user_tag']]\n",
    "df_his_data.columns = ['gmv_his','user_tag']"
   ]
  },
  {
   "cell_type": "markdown",
   "metadata": {},
   "source": [
    "### 3. 实验设计中的历史数据验证"
   ]
  },
  {
   "cell_type": "code",
   "execution_count": 7,
   "metadata": {},
   "outputs": [
    {
     "data": {
      "text/html": [
       "<style  type=\"text/css\" >\n",
       "</style><table id=\"T_628d8cee_4b1c_11ea_94d7_a683e702ba8f\" ><thead>    <tr>        <th class=\"blank level0\" ></th>        <th class=\"col_heading level0 col0\" >df</th>        <th class=\"col_heading level0 col1\" >sum_sq</th>        <th class=\"col_heading level0 col2\" >mean_sq</th>        <th class=\"col_heading level0 col3\" >F</th>        <th class=\"col_heading level0 col4\" >PR(>F)</th>    </tr></thead><tbody>\n",
       "                <tr>\n",
       "                        <th id=\"T_628d8cee_4b1c_11ea_94d7_a683e702ba8flevel0_row0\" class=\"row_heading level0 row0\" >C(user_tag)</th>\n",
       "                        <td id=\"T_628d8cee_4b1c_11ea_94d7_a683e702ba8frow0_col0\" class=\"data row0 col0\" >2.000000</td>\n",
       "                        <td id=\"T_628d8cee_4b1c_11ea_94d7_a683e702ba8frow0_col1\" class=\"data row0 col1\" >247.000000</td>\n",
       "                        <td id=\"T_628d8cee_4b1c_11ea_94d7_a683e702ba8frow0_col2\" class=\"data row0 col2\" >123.500000</td>\n",
       "                        <td id=\"T_628d8cee_4b1c_11ea_94d7_a683e702ba8frow0_col3\" class=\"data row0 col3\" >19.063758</td>\n",
       "                        <td id=\"T_628d8cee_4b1c_11ea_94d7_a683e702ba8frow0_col4\" class=\"data row0 col4\" >0.00%</td>\n",
       "            </tr>\n",
       "            <tr>\n",
       "                        <th id=\"T_628d8cee_4b1c_11ea_94d7_a683e702ba8flevel0_row1\" class=\"row_heading level0 row1\" >Residual</th>\n",
       "                        <td id=\"T_628d8cee_4b1c_11ea_94d7_a683e702ba8frow1_col0\" class=\"data row1 col0\" >69.000000</td>\n",
       "                        <td id=\"T_628d8cee_4b1c_11ea_94d7_a683e702ba8frow1_col1\" class=\"data row1 col1\" >447.000000</td>\n",
       "                        <td id=\"T_628d8cee_4b1c_11ea_94d7_a683e702ba8frow1_col2\" class=\"data row1 col2\" >6.478261</td>\n",
       "                        <td id=\"T_628d8cee_4b1c_11ea_94d7_a683e702ba8frow1_col3\" class=\"data row1 col3\" >nan</td>\n",
       "                        <td id=\"T_628d8cee_4b1c_11ea_94d7_a683e702ba8frow1_col4\" class=\"data row1 col4\" >nan%</td>\n",
       "            </tr>\n",
       "    </tbody></table>"
      ],
      "text/plain": [
       "<pandas.io.formats.style.Styler at 0x106c6c350>"
      ]
     },
     "execution_count": 7,
     "metadata": {},
     "output_type": "execute_result"
    }
   ],
   "source": [
    "model_block = smf.ols(formula='gmv_his ~ C(user_tag)', data=df_his_data)\n",
    "results_block = model_block.fit()\n",
    "df_anova=sm.stats.anova_lm(results_block, typ=1)\n",
    "format_dict={'PR(>F)':'{:,.2%}'.format}\n",
    "df_anova.style.format(format_dict)"
   ]
  },
  {
   "cell_type": "markdown",
   "metadata": {},
   "source": [
    "### 4. 利用ANOVA进行随机区组实验的数据分析"
   ]
  },
  {
   "cell_type": "code",
   "execution_count": 8,
   "metadata": {},
   "outputs": [
    {
     "name": "stdout",
     "output_type": "stream",
     "text": [
      "                            OLS Regression Results                            \n",
      "==============================================================================\n",
      "Dep. Variable:                    gmv   R-squared:                       0.244\n",
      "Model:                            OLS   Adj. R-squared:                  0.228\n",
      "Method:                 Least Squares   F-statistic:                     15.05\n",
      "Date:                Sun, 09 Feb 2020   Prob (F-statistic):           1.53e-08\n",
      "Time:                        17:13:07   Log-Likelihood:                -403.12\n",
      "No. Observations:                 144   AIC:                             814.2\n",
      "Df Residuals:                     140   BIC:                             826.1\n",
      "Df Model:                           3                                         \n",
      "Covariance Type:            nonrobust                                         \n",
      "=======================================================================================\n",
      "                          coef    std err          t      P>|t|      [0.025      0.975]\n",
      "---------------------------------------------------------------------------------------\n",
      "Intercept              51.4167      0.672     76.487      0.000      50.088      52.746\n",
      "C(exp)[T.treatment]     1.4167      0.672      2.107      0.037       0.088       2.746\n",
      "C(user_tag)[T.1]       -2.5000      0.823     -3.037      0.003      -4.128      -0.872\n",
      "C(user_tag)[T.2]       -5.2500      0.823     -6.377      0.000      -6.878      -3.622\n",
      "==============================================================================\n",
      "Omnibus:                        0.086   Durbin-Watson:                   2.540\n",
      "Prob(Omnibus):                  0.958   Jarque-Bera (JB):                0.176\n",
      "Skew:                           0.055   Prob(JB):                        0.916\n",
      "Kurtosis:                       2.868   Cond. No.                         4.22\n",
      "==============================================================================\n",
      "\n",
      "Warnings:\n",
      "[1] Standard Errors assume that the covariance matrix of the errors is correctly specified.\n"
     ]
    }
   ],
   "source": [
    "model = smf.ols(formula='gmv ~ C(exp) + C(user_tag)', data=df_data)\n",
    "results = model.fit()\n",
    "print(results.summary())"
   ]
  },
  {
   "cell_type": "code",
   "execution_count": 9,
   "metadata": {},
   "outputs": [
    {
     "data": {
      "text/html": [
       "<style  type=\"text/css\" >\n",
       "</style><table id=\"T_62975af8_4b1c_11ea_94d7_a683e702ba8f\" ><thead>    <tr>        <th class=\"blank level0\" ></th>        <th class=\"col_heading level0 col0\" >df</th>        <th class=\"col_heading level0 col1\" >sum_sq</th>        <th class=\"col_heading level0 col2\" >mean_sq</th>        <th class=\"col_heading level0 col3\" >F</th>        <th class=\"col_heading level0 col4\" >PR(>F)</th>    </tr></thead><tbody>\n",
       "                <tr>\n",
       "                        <th id=\"T_62975af8_4b1c_11ea_94d7_a683e702ba8flevel0_row0\" class=\"row_heading level0 row0\" >C(exp)</th>\n",
       "                        <td id=\"T_62975af8_4b1c_11ea_94d7_a683e702ba8frow0_col0\" class=\"data row0 col0\" >1.000000</td>\n",
       "                        <td id=\"T_62975af8_4b1c_11ea_94d7_a683e702ba8frow0_col1\" class=\"data row0 col1\" >72.250000</td>\n",
       "                        <td id=\"T_62975af8_4b1c_11ea_94d7_a683e702ba8frow0_col2\" class=\"data row0 col2\" >72.250000</td>\n",
       "                        <td id=\"T_62975af8_4b1c_11ea_94d7_a683e702ba8frow0_col3\" class=\"data row0 col3\" >4.441273</td>\n",
       "                        <td id=\"T_62975af8_4b1c_11ea_94d7_a683e702ba8frow0_col4\" class=\"data row0 col4\" >3.69%</td>\n",
       "            </tr>\n",
       "            <tr>\n",
       "                        <th id=\"T_62975af8_4b1c_11ea_94d7_a683e702ba8flevel0_row1\" class=\"row_heading level0 row1\" >C(user_tag)</th>\n",
       "                        <td id=\"T_62975af8_4b1c_11ea_94d7_a683e702ba8frow1_col0\" class=\"data row1 col0\" >2.000000</td>\n",
       "                        <td id=\"T_62975af8_4b1c_11ea_94d7_a683e702ba8frow1_col1\" class=\"data row1 col1\" >662.000000</td>\n",
       "                        <td id=\"T_62975af8_4b1c_11ea_94d7_a683e702ba8frow1_col2\" class=\"data row1 col2\" >331.000000</td>\n",
       "                        <td id=\"T_62975af8_4b1c_11ea_94d7_a683e702ba8frow1_col3\" class=\"data row1 col3\" >20.346872</td>\n",
       "                        <td id=\"T_62975af8_4b1c_11ea_94d7_a683e702ba8frow1_col4\" class=\"data row1 col4\" >0.00%</td>\n",
       "            </tr>\n",
       "            <tr>\n",
       "                        <th id=\"T_62975af8_4b1c_11ea_94d7_a683e702ba8flevel0_row2\" class=\"row_heading level0 row2\" >Residual</th>\n",
       "                        <td id=\"T_62975af8_4b1c_11ea_94d7_a683e702ba8frow2_col0\" class=\"data row2 col0\" >140.000000</td>\n",
       "                        <td id=\"T_62975af8_4b1c_11ea_94d7_a683e702ba8frow2_col1\" class=\"data row2 col1\" >2277.500000</td>\n",
       "                        <td id=\"T_62975af8_4b1c_11ea_94d7_a683e702ba8frow2_col2\" class=\"data row2 col2\" >16.267857</td>\n",
       "                        <td id=\"T_62975af8_4b1c_11ea_94d7_a683e702ba8frow2_col3\" class=\"data row2 col3\" >nan</td>\n",
       "                        <td id=\"T_62975af8_4b1c_11ea_94d7_a683e702ba8frow2_col4\" class=\"data row2 col4\" >nan%</td>\n",
       "            </tr>\n",
       "    </tbody></table>"
      ],
      "text/plain": [
       "<pandas.io.formats.style.Styler at 0x1244bad10>"
      ]
     },
     "execution_count": 9,
     "metadata": {},
     "output_type": "execute_result"
    }
   ],
   "source": [
    "df_anova=sm.stats.anova_lm(results, typ=1)\n",
    "format_dict={'PR(>F)':'{:,.2%}'.format}\n",
    "df_anova.style.format(format_dict)"
   ]
  },
  {
   "cell_type": "markdown",
   "metadata": {},
   "source": [
    "### 5. 如果不考虑区组，只是利用ANOVA的方法分析A/B实验"
   ]
  },
  {
   "cell_type": "code",
   "execution_count": 10,
   "metadata": {},
   "outputs": [
    {
     "data": {
      "text/html": [
       "<style  type=\"text/css\" >\n",
       "</style><table id=\"T_629c55c6_4b1c_11ea_94d7_a683e702ba8f\" ><thead>    <tr>        <th class=\"blank level0\" ></th>        <th class=\"col_heading level0 col0\" >df</th>        <th class=\"col_heading level0 col1\" >sum_sq</th>        <th class=\"col_heading level0 col2\" >mean_sq</th>        <th class=\"col_heading level0 col3\" >F</th>        <th class=\"col_heading level0 col4\" >PR(>F)</th>    </tr></thead><tbody>\n",
       "                <tr>\n",
       "                        <th id=\"T_629c55c6_4b1c_11ea_94d7_a683e702ba8flevel0_row0\" class=\"row_heading level0 row0\" >C(exp)</th>\n",
       "                        <td id=\"T_629c55c6_4b1c_11ea_94d7_a683e702ba8frow0_col0\" class=\"data row0 col0\" >1.000000</td>\n",
       "                        <td id=\"T_629c55c6_4b1c_11ea_94d7_a683e702ba8frow0_col1\" class=\"data row0 col1\" >72.250000</td>\n",
       "                        <td id=\"T_629c55c6_4b1c_11ea_94d7_a683e702ba8frow0_col2\" class=\"data row0 col2\" >72.250000</td>\n",
       "                        <td id=\"T_629c55c6_4b1c_11ea_94d7_a683e702ba8frow0_col3\" class=\"data row0 col3\" >3.490219</td>\n",
       "                        <td id=\"T_629c55c6_4b1c_11ea_94d7_a683e702ba8frow0_col4\" class=\"data row0 col4\" >6.38%</td>\n",
       "            </tr>\n",
       "            <tr>\n",
       "                        <th id=\"T_629c55c6_4b1c_11ea_94d7_a683e702ba8flevel0_row1\" class=\"row_heading level0 row1\" >Residual</th>\n",
       "                        <td id=\"T_629c55c6_4b1c_11ea_94d7_a683e702ba8frow1_col0\" class=\"data row1 col0\" >142.000000</td>\n",
       "                        <td id=\"T_629c55c6_4b1c_11ea_94d7_a683e702ba8frow1_col1\" class=\"data row1 col1\" >2939.500000</td>\n",
       "                        <td id=\"T_629c55c6_4b1c_11ea_94d7_a683e702ba8frow1_col2\" class=\"data row1 col2\" >20.700704</td>\n",
       "                        <td id=\"T_629c55c6_4b1c_11ea_94d7_a683e702ba8frow1_col3\" class=\"data row1 col3\" >nan</td>\n",
       "                        <td id=\"T_629c55c6_4b1c_11ea_94d7_a683e702ba8frow1_col4\" class=\"data row1 col4\" >nan%</td>\n",
       "            </tr>\n",
       "    </tbody></table>"
      ],
      "text/plain": [
       "<pandas.io.formats.style.Styler at 0x124ba7b50>"
      ]
     },
     "execution_count": 10,
     "metadata": {},
     "output_type": "execute_result"
    }
   ],
   "source": [
    "model = smf.ols(formula='gmv ~ C(exp)', data=df_data)\n",
    "results = model.fit()\n",
    "df_anova = sm.stats.anova_lm(results, typ=1)\n",
    "format_dict={'PR(>F)':'{:,.2%}'.format}\n",
    "df_anova.style.format(format_dict)"
   ]
  },
  {
   "cell_type": "code",
   "execution_count": null,
   "metadata": {},
   "outputs": [],
   "source": []
  }
 ],
 "metadata": {
  "kernelspec": {
   "display_name": "Python 3",
   "language": "python",
   "name": "python3"
  },
  "language_info": {
   "codemirror_mode": {
    "name": "ipython",
    "version": 3
   },
   "file_extension": ".py",
   "mimetype": "text/x-python",
   "name": "python",
   "nbconvert_exporter": "python",
   "pygments_lexer": "ipython3",
   "version": "3.7.4"
  }
 },
 "nbformat": 4,
 "nbformat_minor": 2
}
