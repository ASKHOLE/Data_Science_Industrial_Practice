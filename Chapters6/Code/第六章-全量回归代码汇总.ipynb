{
 "cells": [
  {
   "cell_type": "code",
   "execution_count": 19,
   "metadata": {},
   "outputs": [],
   "source": [
    "# 加载所需库\n",
    "import pandas as pd\n",
    "import numpy as np\n",
    "from statsmodels.formula.api import ols\n",
    "import matplotlib.pyplot as plt\n",
    "\n",
    "os.chdir('/Users/wangyu/Desktop/')"
   ]
  },
  {
   "cell_type": "code",
   "execution_count": 20,
   "metadata": {},
   "outputs": [
    {
     "data": {
      "text/html": [
       "<div>\n",
       "<style scoped>\n",
       "    .dataframe tbody tr th:only-of-type {\n",
       "        vertical-align: middle;\n",
       "    }\n",
       "\n",
       "    .dataframe tbody tr th {\n",
       "        vertical-align: top;\n",
       "    }\n",
       "\n",
       "    .dataframe thead th {\n",
       "        text-align: right;\n",
       "    }\n",
       "</style>\n",
       "<table border=\"1\" class=\"dataframe\">\n",
       "  <thead>\n",
       "    <tr style=\"text-align: right;\">\n",
       "      <th></th>\n",
       "      <th>x1</th>\n",
       "      <th>x2</th>\n",
       "      <th>x3</th>\n",
       "      <th>x4</th>\n",
       "      <th>x5</th>\n",
       "      <th>x6</th>\n",
       "      <th>x7</th>\n",
       "      <th>x8</th>\n",
       "      <th>x9</th>\n",
       "      <th>x10</th>\n",
       "      <th>x11</th>\n",
       "      <th>x12</th>\n",
       "      <th>y</th>\n",
       "      <th>isExp</th>\n",
       "    </tr>\n",
       "  </thead>\n",
       "  <tbody>\n",
       "    <tr>\n",
       "      <th>0</th>\n",
       "      <td>1</td>\n",
       "      <td>3</td>\n",
       "      <td>131.067</td>\n",
       "      <td>166.649</td>\n",
       "      <td>90.476</td>\n",
       "      <td>80.509</td>\n",
       "      <td>127.575</td>\n",
       "      <td>844.000</td>\n",
       "      <td>60543</td>\n",
       "      <td>19141</td>\n",
       "      <td>78378</td>\n",
       "      <td>73839</td>\n",
       "      <td>298.560</td>\n",
       "      <td>0</td>\n",
       "    </tr>\n",
       "    <tr>\n",
       "      <th>1</th>\n",
       "      <td>1</td>\n",
       "      <td>4</td>\n",
       "      <td>316.307</td>\n",
       "      <td>223.270</td>\n",
       "      <td>61.543</td>\n",
       "      <td>175.586</td>\n",
       "      <td>302.448</td>\n",
       "      <td>0.000</td>\n",
       "      <td>65556</td>\n",
       "      <td>44914</td>\n",
       "      <td>188411</td>\n",
       "      <td>14793</td>\n",
       "      <td>539.577</td>\n",
       "      <td>0</td>\n",
       "    </tr>\n",
       "    <tr>\n",
       "      <th>2</th>\n",
       "      <td>1</td>\n",
       "      <td>4</td>\n",
       "      <td>130.129</td>\n",
       "      <td>98.927</td>\n",
       "      <td>42.904</td>\n",
       "      <td>43.962</td>\n",
       "      <td>142.383</td>\n",
       "      <td>193.000</td>\n",
       "      <td>54760</td>\n",
       "      <td>9163</td>\n",
       "      <td>29874</td>\n",
       "      <td>46992</td>\n",
       "      <td>229.249</td>\n",
       "      <td>0</td>\n",
       "    </tr>\n",
       "    <tr>\n",
       "      <th>3</th>\n",
       "      <td>1</td>\n",
       "      <td>5</td>\n",
       "      <td>128.633</td>\n",
       "      <td>96.042</td>\n",
       "      <td>38.058</td>\n",
       "      <td>56.037</td>\n",
       "      <td>130.580</td>\n",
       "      <td>0.000</td>\n",
       "      <td>40419</td>\n",
       "      <td>21399</td>\n",
       "      <td>89461</td>\n",
       "      <td>7679</td>\n",
       "      <td>224.675</td>\n",
       "      <td>0</td>\n",
       "    </tr>\n",
       "    <tr>\n",
       "      <th>4</th>\n",
       "      <td>1</td>\n",
       "      <td>5</td>\n",
       "      <td>123.286</td>\n",
       "      <td>103.551</td>\n",
       "      <td>47.331</td>\n",
       "      <td>72.444</td>\n",
       "      <td>116.529</td>\n",
       "      <td>9.467</td>\n",
       "      <td>48732</td>\n",
       "      <td>21196</td>\n",
       "      <td>47793</td>\n",
       "      <td>47574</td>\n",
       "      <td>236.304</td>\n",
       "      <td>0</td>\n",
       "    </tr>\n",
       "  </tbody>\n",
       "</table>\n",
       "</div>"
      ],
      "text/plain": [
       "   x1  x2       x3       x4      x5       x6       x7       x8     x9    x10  \\\n",
       "0   1   3  131.067  166.649  90.476   80.509  127.575  844.000  60543  19141   \n",
       "1   1   4  316.307  223.270  61.543  175.586  302.448    0.000  65556  44914   \n",
       "2   1   4  130.129   98.927  42.904   43.962  142.383  193.000  54760   9163   \n",
       "3   1   5  128.633   96.042  38.058   56.037  130.580    0.000  40419  21399   \n",
       "4   1   5  123.286  103.551  47.331   72.444  116.529    9.467  48732  21196   \n",
       "\n",
       "      x11    x12        y  isExp  \n",
       "0   78378  73839  298.560      0  \n",
       "1  188411  14793  539.577      0  \n",
       "2   29874  46992  229.249      0  \n",
       "3   89461   7679  224.675      0  \n",
       "4   47793  47574  236.304      0  "
      ]
     },
     "execution_count": 20,
     "metadata": {},
     "output_type": "execute_result"
    }
   ],
   "source": [
    "data = pd.read_csv('data.csv')\n",
    "data.head()"
   ]
  },
  {
   "cell_type": "code",
   "execution_count": 21,
   "metadata": {},
   "outputs": [
    {
     "data": {
      "image/png": "[encoded data removed]",
      "text/plain": [
       "<Figure size 432x288 with 1 Axes>"
      ]
     },
     "metadata": {},
     "output_type": "display_data"
    }
   ],
   "source": [
    "# 对实验期的y加上50单位的提升，并加入一个服从标准正太分布的白噪声\n",
    "data['y_new'] = data.y + data.isExp * 50 + np.random.normal(0, 1, 60)\n",
    "\n",
    "# 考察x6与因变量y_new之间的关系，用散点图描绘该关系\n",
    "plt.scatter(data.x6, data.y_new)\n",
    "plt.title('correlation of x6 and y_new')\n",
    "plt.show()"
   ]
  },
  {
   "cell_type": "code",
   "execution_count": 22,
   "metadata": {},
   "outputs": [
    {
     "data": {
      "image/png": "[encoded data removed]",
      "text/plain": [
       "<Figure size 432x288 with 1 Axes>"
      ]
     },
     "metadata": {},
     "output_type": "display_data"
    }
   ],
   "source": [
    "# 考察x9与因变量y_new之间的关系，用散点图描绘该关系\n",
    "plt.scatter(data.x9, data.y_new)\n",
    "plt.title('correlation of x9 and y_new')\n",
    "plt.show()"
   ]
  },
  {
   "cell_type": "code",
   "execution_count": 23,
   "metadata": {},
   "outputs": [
    {
     "data": {
      "image/png": "[encoded data removed]",
      "text/plain": [
       "<Figure size 432x288 with 1 Axes>"
      ]
     },
     "metadata": {},
     "output_type": "display_data"
    }
   ],
   "source": [
    "# 考察x6与x9之间的关系，用散点图描绘该关系\n",
    "plt.scatter(data.x6, data.x9)\n",
    "plt.title('correlation of x6 and x9')\n",
    "plt.show()"
   ]
  },
  {
   "cell_type": "code",
   "execution_count": 24,
   "metadata": {},
   "outputs": [
    {
     "name": "stdout",
     "output_type": "stream",
     "text": [
      "   isExp       y_new\n",
      "0      0  287.529030\n",
      "1      1  364.309601\n"
     ]
    }
   ],
   "source": [
    "# 考察实验组、对照组之中y_new的差异\n",
    "diff = data.groupby('isExp').mean()[['y_new']].reset_index()\n",
    "print(diff)"
   ]
  },
  {
   "cell_type": "code",
   "execution_count": 25,
   "metadata": {},
   "outputs": [
    {
     "name": "stdout",
     "output_type": "stream",
     "text": [
      "                            OLS Regression Results                            \n",
      "==============================================================================\n",
      "Dep. Variable:                  y_new   R-squared:                       0.856\n",
      "Model:                            OLS   Adj. R-squared:                  0.848\n",
      "Method:                 Least Squares   F-statistic:                     111.0\n",
      "Date:                Sun, 09 Feb 2020   Prob (F-statistic):           1.53e-23\n",
      "Time:                        14:44:47   Log-Likelihood:                -300.73\n",
      "No. Observations:                  60   AIC:                             609.5\n",
      "Df Residuals:                      56   BIC:                             617.8\n",
      "Df Model:                           3                                         \n",
      "Covariance Type:            nonrobust                                         \n",
      "==============================================================================\n",
      "                 coef    std err          t      P>|t|      [0.025      0.975]\n",
      "------------------------------------------------------------------------------\n",
      "Intercept     98.3879     21.962      4.480      0.000      54.392     142.383\n",
      "x6             1.6044      0.104     15.483      0.000       1.397       1.812\n",
      "x9             0.0008      0.000      1.778      0.081   -9.77e-05       0.002\n",
      "isExp         36.0820     10.842      3.328      0.002      14.364      57.800\n",
      "==============================================================================\n",
      "Omnibus:                        2.188   Durbin-Watson:                   1.674\n",
      "Prob(Omnibus):                  0.335   Jarque-Bera (JB):                1.375\n",
      "Skew:                           0.285   Prob(JB):                        0.503\n",
      "Kurtosis:                       3.474   Cond. No.                     2.13e+05\n",
      "==============================================================================\n",
      "\n",
      "Warnings:\n",
      "[1] Standard Errors assume that the covariance matrix of the errors is correctly specified.\n",
      "[2] The condition number is large, 2.13e+05. This might indicate that there are\n",
      "strong multicollinearity or other numerical problems.\n"
     ]
    }
   ],
   "source": [
    "# 数据预处理\n",
    "model = ols('y_new ~ x6 + x9 + isExp', data=data)\n",
    "est = model.fit()\n",
    "print(est.summary())"
   ]
  },
  {
   "cell_type": "code",
   "execution_count": 26,
   "metadata": {},
   "outputs": [
    {
     "data": {
      "image/png": "[encoded data removed]",
      "text/plain": [
       "<Figure size 432x288 with 1 Axes>"
      ]
     },
     "metadata": {},
     "output_type": "display_data"
    }
   ],
   "source": [
    "# 绘制回归方程残差的分布\n",
    "plt.hist(est.resid, bins=13)\n",
    "plt.show()"
   ]
  },
  {
   "cell_type": "code",
   "execution_count": null,
   "metadata": {},
   "outputs": [],
   "source": []
  },
  {
   "cell_type": "code",
   "execution_count": null,
   "metadata": {},
   "outputs": [],
   "source": []
  },
  {
   "cell_type": "code",
   "execution_count": null,
   "metadata": {},
   "outputs": [],
   "source": []
  },
  {
   "cell_type": "code",
   "execution_count": null,
   "metadata": {},
   "outputs": [],
   "source": []
  },
  {
   "cell_type": "code",
   "execution_count": null,
   "metadata": {},
   "outputs": [],
   "source": []
  },
  {
   "cell_type": "code",
   "execution_count": null,
   "metadata": {},
   "outputs": [],
   "source": []
  },
  {
   "cell_type": "code",
   "execution_count": null,
   "metadata": {},
   "outputs": [],
   "source": []
  }
 ],
 "metadata": {
  "kernelspec": {
   "display_name": "Python 3",
   "language": "python",
   "name": "python3"
  },
  "language_info": {
   "codemirror_mode": {
    "name": "ipython",
    "version": 3
   },
   "file_extension": ".py",
   "mimetype": "text/x-python",
   "name": "python",
   "nbconvert_exporter": "python",
   "pygments_lexer": "ipython3",
   "version": "3.5.2rc1"
  }
 },
 "nbformat": 4,
 "nbformat_minor": 2
}
