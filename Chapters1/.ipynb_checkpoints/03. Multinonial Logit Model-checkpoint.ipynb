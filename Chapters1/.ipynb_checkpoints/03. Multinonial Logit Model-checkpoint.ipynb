{
 "cells": [
  {
   "cell_type": "markdown",
   "metadata": {},
   "source": [
    "## 软件包加载"
   ]
  },
  {
   "cell_type": "code",
   "execution_count": 1,
   "metadata": {},
   "outputs": [],
   "source": [
    "import numpy as np                     # 引入基础软件包numpy\n",
    "import pandas as pd                    # 引入基础软件包pandas\n",
    "from collections import OrderedDict    # OrderedDict用于记录模型的specification(声明) \n",
    "import pylogit as pl                   # 引入基础软件包logit模型软件包pylogit\n",
    "import matplotlib.pyplot as plt        # 引入绘图软件包"
   ]
  },
  {
   "cell_type": "markdown",
   "metadata": {},
   "source": [
    "## 数据读入"
   ]
  },
  {
   "cell_type": "code",
   "execution_count": 2,
   "metadata": {},
   "outputs": [
    {
     "name": "stderr",
     "output_type": "stream",
     "text": [
      "C:\\Users\\TBBack\\Anaconda3\\lib\\site-packages\\ipykernel_launcher.py:3: FutureWarning: read_table is deprecated, use read_csv instead.\n",
      "  This is separate from the ipykernel package so we can avoid doing imports until\n"
     ]
    },
    {
     "data": {
      "text/html": [
       "<div>\n",
       "<style scoped>\n",
       "    .dataframe tbody tr th:only-of-type {\n",
       "        vertical-align: middle;\n",
       "    }\n",
       "\n",
       "    .dataframe tbody tr th {\n",
       "        vertical-align: top;\n",
       "    }\n",
       "\n",
       "    .dataframe thead th {\n",
       "        text-align: right;\n",
       "    }\n",
       "</style>\n",
       "<table border=\"1\" class=\"dataframe\">\n",
       "  <thead>\n",
       "    <tr style=\"text-align: right;\">\n",
       "      <th></th>\n",
       "      <th>OBS_ID</th>\n",
       "      <th>ALT_ID</th>\n",
       "      <th>MODE</th>\n",
       "      <th>HINC</th>\n",
       "      <th>PSIZE</th>\n",
       "      <th>TTME</th>\n",
       "      <th>INVC</th>\n",
       "      <th>INVT</th>\n",
       "      <th>GC</th>\n",
       "    </tr>\n",
       "  </thead>\n",
       "  <tbody>\n",
       "    <tr>\n",
       "      <th>0</th>\n",
       "      <td>1</td>\n",
       "      <td>0</td>\n",
       "      <td>0</td>\n",
       "      <td>35</td>\n",
       "      <td>1</td>\n",
       "      <td>69</td>\n",
       "      <td>59</td>\n",
       "      <td>100</td>\n",
       "      <td>70</td>\n",
       "    </tr>\n",
       "    <tr>\n",
       "      <th>1</th>\n",
       "      <td>1</td>\n",
       "      <td>1</td>\n",
       "      <td>0</td>\n",
       "      <td>35</td>\n",
       "      <td>1</td>\n",
       "      <td>34</td>\n",
       "      <td>31</td>\n",
       "      <td>372</td>\n",
       "      <td>71</td>\n",
       "    </tr>\n",
       "    <tr>\n",
       "      <th>2</th>\n",
       "      <td>1</td>\n",
       "      <td>2</td>\n",
       "      <td>0</td>\n",
       "      <td>35</td>\n",
       "      <td>1</td>\n",
       "      <td>35</td>\n",
       "      <td>25</td>\n",
       "      <td>417</td>\n",
       "      <td>70</td>\n",
       "    </tr>\n",
       "    <tr>\n",
       "      <th>3</th>\n",
       "      <td>1</td>\n",
       "      <td>3</td>\n",
       "      <td>1</td>\n",
       "      <td>35</td>\n",
       "      <td>1</td>\n",
       "      <td>0</td>\n",
       "      <td>10</td>\n",
       "      <td>180</td>\n",
       "      <td>30</td>\n",
       "    </tr>\n",
       "    <tr>\n",
       "      <th>4</th>\n",
       "      <td>2</td>\n",
       "      <td>0</td>\n",
       "      <td>0</td>\n",
       "      <td>30</td>\n",
       "      <td>2</td>\n",
       "      <td>64</td>\n",
       "      <td>58</td>\n",
       "      <td>68</td>\n",
       "      <td>68</td>\n",
       "    </tr>\n",
       "  </tbody>\n",
       "</table>\n",
       "</div>"
      ],
      "text/plain": [
       "   OBS_ID  ALT_ID  MODE  HINC  PSIZE  TTME  INVC  INVT  GC\n",
       "0       1       0     0    35      1    69    59   100  70\n",
       "1       1       1     0    35      1    34    31   372  71\n",
       "2       1       2     0    35      1    35    25   417  70\n",
       "3       1       3     1    35      1     0    10   180  30\n",
       "4       2       0     0    30      2    64    58    68  68"
      ]
     },
     "execution_count": 2,
     "metadata": {},
     "output_type": "execute_result"
    }
   ],
   "source": [
    "# 数据读入\n",
    "data_path = u'../Chapters1_Data/long_data.csv'\n",
    "raw_data = pd.read_table(data_path, sep=',', header=0)\n",
    "raw_data.head(5)"
   ]
  },
  {
   "cell_type": "markdown",
   "metadata": {},
   "source": [
    "## 模型格式声明"
   ]
  },
  {
   "cell_type": "code",
   "execution_count": 3,
   "metadata": {},
   "outputs": [],
   "source": [
    "model_data = raw_data[['OBS_ID','ALT_ID','MODE','HINC','PSIZE','TTME','INVC','INVT']]"
   ]
  },
  {
   "cell_type": "markdown",
   "metadata": {},
   "source": [
    "## 模型搭建"
   ]
  },
  {
   "cell_type": "code",
   "execution_count": 4,
   "metadata": {},
   "outputs": [],
   "source": [
    "# NOTE: - 规范和变量名是有序字典。\n",
    "#       - 键应该是长格式数据帧中的变量。唯一的例外是截距键“intercept”。\n",
    "#       - 对于规范字典，值应该是整数列表。\n",
    "#       - 在一个列表中，或者在最内部的列表中，整数表示的备选项的ID。\n",
    "#       - 列表表示将共享系数的备选项。\n",
    "basic_specification = OrderedDict()\n",
    "basic_names = OrderedDict()\n",
    "\n",
    "# 注意截距项包含选项个数减1个\n",
    "basic_specification[\"intercept\"] = [0, 1, 2]\n",
    "basic_names[\"intercept\"] = ['ASC_air', 'ASC_train', 'ASC_bus']\n",
    "# 备选项属性的影响方式可以灵活指定\n",
    "basic_specification[\"TTME\"] = [[0, 1, 2]]\n",
    "basic_names[\"TTME\"] = ['TTME']\n",
    "basic_specification[\"INVC\"] = [[0, 1, 2, 3]]\n",
    "basic_names[\"INVC\"] = ['INVC']\n",
    "basic_specification[\"INVT\"] = [[0, 1, 2, 3]]\n",
    "basic_names[\"INVT\"] = ['INVT']\n",
    "\n",
    "# 决策者的影响方式也可以灵活指定，但需要注意的是，由于每个选项的决策者属性都一样，因此保证可估计性，只对部分选项生效\n",
    "basic_specification[\"HINC\"] = [0, 1, 2]\n",
    "basic_names[\"HINC\"] = ['HINC_air', 'HINC_train', 'HINC_bus']\n",
    "basic_specification[\"PSIZE\"] = [0, 1, 2]\n",
    "basic_names[\"PSIZE\"] = ['PSIZE_air', 'PSIZE_train', 'PSIZE_bus']"
   ]
  },
  {
   "cell_type": "code",
   "execution_count": 5,
   "metadata": {},
   "outputs": [
    {
     "name": "stderr",
     "output_type": "stream",
     "text": [
      "C:\\Users\\TBBack\\Anaconda3\\lib\\site-packages\\pylogit\\choice_tools.py:703: FutureWarning: arrays to stack must be passed as a \"sequence\" type such as list or tuple. Support for non-sequence iterables such as generators is deprecated as of NumPy 1.16 and will raise an error in the future.\n",
      "  design_matrix = np.hstack((x[:, None] for x in independent_vars))\n"
     ]
    }
   ],
   "source": [
    "# 模型创建\n",
    "mnl = pl.create_choice_model(data = model_data,\n",
    "                    alt_id_col=\"ALT_ID\",\n",
    "                    obs_id_col=\"OBS_ID\",\n",
    "                    choice_col=\"MODE\",\n",
    "                    specification=basic_specification,\n",
    "                    model_type = \"MNL\",\n",
    "                    names=basic_names)"
   ]
  },
  {
   "cell_type": "code",
   "execution_count": 6,
   "metadata": {
    "scrolled": false
   },
   "outputs": [
    {
     "name": "stdout",
     "output_type": "stream",
     "text": [
      "Log-likelihood at zero: -291.1218\n",
      "Initial Log-likelihood: -291.1218\n"
     ]
    },
    {
     "name": "stderr",
     "output_type": "stream",
     "text": [
      "C:\\Users\\TBBack\\Anaconda3\\lib\\site-packages\\scipy\\optimize\\_minimize.py:506: RuntimeWarning: Method BFGS does not use Hessian information (hess).\n",
      "  RuntimeWarning)\n"
     ]
    },
    {
     "name": "stdout",
     "output_type": "stream",
     "text": [
      "Estimation Time for Point Estimation: 0.10 seconds.\n",
      "Final log-likelihood: -172.4680\n"
     ]
    },
    {
     "data": {
      "text/html": [
       "<table class=\"simpletable\">\n",
       "<caption>Multinomial Logit Model Regression Results</caption>\n",
       "<tr>\n",
       "  <th>Dep. Variable:</th>          <td>MODE</td>           <th>  No. Observations:  </th>    <td>210</td>  \n",
       "</tr>\n",
       "<tr>\n",
       "  <th>Model:</th>         <td>Multinomial Logit Model</td> <th>  Df Residuals:      </th>    <td>198</td>  \n",
       "</tr>\n",
       "<tr>\n",
       "  <th>Method:</th>                  <td>MLE</td>           <th>  Df Model:          </th>    <td>12</td>   \n",
       "</tr>\n",
       "<tr>\n",
       "  <th>Date:</th>             <td>Fri, 07 Feb 2020</td>     <th>  Pseudo R-squ.:     </th>   <td>0.408</td> \n",
       "</tr>\n",
       "<tr>\n",
       "  <th>Time:</th>                 <td>17:02:59</td>         <th>  Pseudo R-bar-squ.: </th>   <td>0.366</td> \n",
       "</tr>\n",
       "<tr>\n",
       "  <th>AIC:</th>                   <td>368.936</td>         <th>  Log-Likelihood:    </th> <td>-172.468</td>\n",
       "</tr>\n",
       "<tr>\n",
       "  <th>BIC:</th>                   <td>409.101</td>         <th>  LL-Null:           </th> <td>-291.122</td>\n",
       "</tr>\n",
       "</table>\n",
       "<table class=\"simpletable\">\n",
       "<tr>\n",
       "       <td></td>          <th>coef</th>     <th>std err</th>      <th>z</th>      <th>P>|z|</th>  <th>[0.025</th>    <th>0.975]</th>  \n",
       "</tr>\n",
       "<tr>\n",
       "  <th>ASC_air</th>     <td>    6.0352</td> <td>    1.138</td> <td>    5.302</td> <td> 0.000</td> <td>    3.804</td> <td>    8.266</td>\n",
       "</tr>\n",
       "<tr>\n",
       "  <th>ASC_train</th>   <td>    5.5735</td> <td>    0.711</td> <td>    7.836</td> <td> 0.000</td> <td>    4.179</td> <td>    6.968</td>\n",
       "</tr>\n",
       "<tr>\n",
       "  <th>ASC_bus</th>     <td>    4.5047</td> <td>    0.796</td> <td>    5.661</td> <td> 0.000</td> <td>    2.945</td> <td>    6.064</td>\n",
       "</tr>\n",
       "<tr>\n",
       "  <th>TTME</th>        <td>   -0.1012</td> <td>    0.011</td> <td>   -9.081</td> <td> 0.000</td> <td>   -0.123</td> <td>   -0.079</td>\n",
       "</tr>\n",
       "<tr>\n",
       "  <th>INVC</th>        <td>   -0.0087</td> <td>    0.008</td> <td>   -1.101</td> <td> 0.271</td> <td>   -0.024</td> <td>    0.007</td>\n",
       "</tr>\n",
       "<tr>\n",
       "  <th>INVT</th>        <td>   -0.0041</td> <td>    0.001</td> <td>   -4.627</td> <td> 0.000</td> <td>   -0.006</td> <td>   -0.002</td>\n",
       "</tr>\n",
       "<tr>\n",
       "  <th>HINC_air</th>    <td>    0.0075</td> <td>    0.013</td> <td>    0.567</td> <td> 0.571</td> <td>   -0.018</td> <td>    0.033</td>\n",
       "</tr>\n",
       "<tr>\n",
       "  <th>HINC_train</th>  <td>   -0.0592</td> <td>    0.015</td> <td>   -3.977</td> <td> 0.000</td> <td>   -0.088</td> <td>   -0.030</td>\n",
       "</tr>\n",
       "<tr>\n",
       "  <th>HINC_bus</th>    <td>   -0.0209</td> <td>    0.016</td> <td>   -1.278</td> <td> 0.201</td> <td>   -0.053</td> <td>    0.011</td>\n",
       "</tr>\n",
       "<tr>\n",
       "  <th>PSIZE_air</th>   <td>   -0.9224</td> <td>    0.259</td> <td>   -3.568</td> <td> 0.000</td> <td>   -1.429</td> <td>   -0.416</td>\n",
       "</tr>\n",
       "<tr>\n",
       "  <th>PSIZE_train</th> <td>    0.2163</td> <td>    0.234</td> <td>    0.926</td> <td> 0.355</td> <td>   -0.242</td> <td>    0.674</td>\n",
       "</tr>\n",
       "<tr>\n",
       "  <th>PSIZE_bus</th>   <td>   -0.1479</td> <td>    0.343</td> <td>   -0.432</td> <td> 0.666</td> <td>   -0.820</td> <td>    0.524</td>\n",
       "</tr>\n",
       "</table>"
      ],
      "text/plain": [
       "<class 'statsmodels.iolib.summary.Summary'>\n",
       "\"\"\"\n",
       "                     Multinomial Logit Model Regression Results                    \n",
       "===================================================================================\n",
       "Dep. Variable:                        MODE   No. Observations:                  210\n",
       "Model:             Multinomial Logit Model   Df Residuals:                      198\n",
       "Method:                                MLE   Df Model:                           12\n",
       "Date:                     Fri, 07 Feb 2020   Pseudo R-squ.:                   0.408\n",
       "Time:                             17:02:59   Pseudo R-bar-squ.:               0.366\n",
       "AIC:                               368.936   Log-Likelihood:               -172.468\n",
       "BIC:                               409.101   LL-Null:                      -291.122\n",
       "===============================================================================\n",
       "                  coef    std err          z      P>|z|      [0.025      0.975]\n",
       "-------------------------------------------------------------------------------\n",
       "ASC_air         6.0352      1.138      5.302      0.000       3.804       8.266\n",
       "ASC_train       5.5735      0.711      7.836      0.000       4.179       6.968\n",
       "ASC_bus         4.5047      0.796      5.661      0.000       2.945       6.064\n",
       "TTME           -0.1012      0.011     -9.081      0.000      -0.123      -0.079\n",
       "INVC           -0.0087      0.008     -1.101      0.271      -0.024       0.007\n",
       "INVT           -0.0041      0.001     -4.627      0.000      -0.006      -0.002\n",
       "HINC_air        0.0075      0.013      0.567      0.571      -0.018       0.033\n",
       "HINC_train     -0.0592      0.015     -3.977      0.000      -0.088      -0.030\n",
       "HINC_bus       -0.0209      0.016     -1.278      0.201      -0.053       0.011\n",
       "PSIZE_air      -0.9224      0.259     -3.568      0.000      -1.429      -0.416\n",
       "PSIZE_train     0.2163      0.234      0.926      0.355      -0.242       0.674\n",
       "PSIZE_bus      -0.1479      0.343     -0.432      0.666      -0.820       0.524\n",
       "===============================================================================\n",
       "\"\"\""
      ]
     },
     "execution_count": 6,
     "metadata": {},
     "output_type": "execute_result"
    }
   ],
   "source": [
    "# 模型估计&模型结果\n",
    "mnl.fit_mle(np.zeros(12)) # 需要输入模型参数数量，根据之前的模型表达式即可得到\n",
    "mnl.get_statsmodels_summary()\n",
    "# | -------------------------------------------------------------\n",
    "# |               coef     std.err z       P>|z|   [0.025  0.975]\n",
    "# | -------------------------------------------------------------\n",
    "# | ASC_air       6.0352   1.138   5.302   0.000   3.804   8.266\n",
    "# | ASC_train     5.5735   0.711   7.836   0.000   4.179   6.968\n",
    "# | ASC_bus       4.5047   0.796   5.661   0.000   2.945   6.064\n",
    "# | TTME         -0.1012   0.011  -9.081   0.000  -0.123  -0.079\n",
    "# | INVC         -0.0087   0.008  -1.101   0.271  -0.024   0.007\n",
    "# | INVT         -0.0041   0.001  -4.627   0.000  -0.006  -0.002\n",
    "# | HINC_air      0.0075   0.013   0.567   0.571  -0.018   0.033\n",
    "# | HINC_train   -0.0592   0.015  -3.977   0.000  -0.088  -0.03\n",
    "# | HINC_bus     -0.0209   0.016  -1.278   0.201  -0.053   0.011\n",
    "# | PSIZE_air    -0.9224   0.259  -3.568   0.000  -1.429  -0.416\n",
    "# | PSIZE_train   0.2163   0.234   0.926   0.355  -0.242   0.674\n",
    "# | PSIZE_bus    -0.1479   0.343  -0.432   0.666  -0.820   0.524"
   ]
  },
  {
   "cell_type": "code",
   "execution_count": 7,
   "metadata": {},
   "outputs": [
    {
     "name": "stderr",
     "output_type": "stream",
     "text": [
      "C:\\Users\\TBBack\\Anaconda3\\lib\\site-packages\\pylogit\\choice_tools.py:703: FutureWarning: arrays to stack must be passed as a \"sequence\" type such as list or tuple. Support for non-sequence iterables such as generators is deprecated as of NumPy 1.16 and will raise an error in the future.\n",
      "  design_matrix = np.hstack((x[:, None] for x in independent_vars))\n"
     ]
    },
    {
     "name": "stdout",
     "output_type": "stream",
     "text": [
      "Log-likelihood at zero: -291.1218\n",
      "Initial Log-likelihood: -291.1218\n"
     ]
    },
    {
     "name": "stderr",
     "output_type": "stream",
     "text": [
      "C:\\Users\\TBBack\\Anaconda3\\lib\\site-packages\\scipy\\optimize\\_minimize.py:506: RuntimeWarning: Method BFGS does not use Hessian information (hess).\n",
      "  RuntimeWarning)\n"
     ]
    },
    {
     "name": "stdout",
     "output_type": "stream",
     "text": [
      "Estimation Time for Point Estimation: 0.03 seconds.\n",
      "Final log-likelihood: -176.3203\n"
     ]
    },
    {
     "data": {
      "text/html": [
       "<table class=\"simpletable\">\n",
       "<caption>Multinomial Logit Model Regression Results</caption>\n",
       "<tr>\n",
       "  <th>Dep. Variable:</th>          <td>MODE</td>           <th>  No. Observations:  </th>    <td>210</td>  \n",
       "</tr>\n",
       "<tr>\n",
       "  <th>Model:</th>         <td>Multinomial Logit Model</td> <th>  Df Residuals:      </th>    <td>203</td>  \n",
       "</tr>\n",
       "<tr>\n",
       "  <th>Method:</th>                  <td>MLE</td>           <th>  Df Model:          </th>     <td>7</td>   \n",
       "</tr>\n",
       "<tr>\n",
       "  <th>Date:</th>             <td>Fri, 07 Feb 2020</td>     <th>  Pseudo R-squ.:     </th>   <td>0.394</td> \n",
       "</tr>\n",
       "<tr>\n",
       "  <th>Time:</th>                 <td>17:03:01</td>         <th>  Pseudo R-bar-squ.: </th>   <td>0.370</td> \n",
       "</tr>\n",
       "<tr>\n",
       "  <th>AIC:</th>                   <td>366.641</td>         <th>  Log-Likelihood:    </th> <td>-176.320</td>\n",
       "</tr>\n",
       "<tr>\n",
       "  <th>BIC:</th>                   <td>390.070</td>         <th>  LL-Null:           </th> <td>-291.122</td>\n",
       "</tr>\n",
       "</table>\n",
       "<table class=\"simpletable\">\n",
       "<tr>\n",
       "         <td></td>           <th>coef</th>     <th>std err</th>      <th>z</th>      <th>P>|z|</th>  <th>[0.025</th>    <th>0.975]</th>  \n",
       "</tr>\n",
       "<tr>\n",
       "  <th>ASC_air</th>        <td>    5.6860</td> <td>    0.937</td> <td>    6.068</td> <td> 0.000</td> <td>    3.849</td> <td>    7.523</td>\n",
       "</tr>\n",
       "<tr>\n",
       "  <th>ASC_train</th>      <td>    5.4034</td> <td>    0.603</td> <td>    8.959</td> <td> 0.000</td> <td>    4.221</td> <td>    6.585</td>\n",
       "</tr>\n",
       "<tr>\n",
       "  <th>ASC_bus</th>        <td>    5.0128</td> <td>    0.623</td> <td>    8.051</td> <td> 0.000</td> <td>    3.792</td> <td>    6.233</td>\n",
       "</tr>\n",
       "<tr>\n",
       "  <th>TTME</th>           <td>   -0.0992</td> <td>    0.011</td> <td>   -9.428</td> <td> 0.000</td> <td>   -0.120</td> <td>   -0.079</td>\n",
       "</tr>\n",
       "<tr>\n",
       "  <th>INVT</th>           <td>   -0.0039</td> <td>    0.001</td> <td>   -4.489</td> <td> 0.000</td> <td>   -0.006</td> <td>   -0.002</td>\n",
       "</tr>\n",
       "<tr>\n",
       "  <th>HINC_train_bus</th> <td>   -0.0500</td> <td>    0.011</td> <td>   -4.484</td> <td> 0.000</td> <td>   -0.072</td> <td>   -0.028</td>\n",
       "</tr>\n",
       "<tr>\n",
       "  <th>PSIZE_air</th>      <td>   -0.8997</td> <td>    0.245</td> <td>   -3.680</td> <td> 0.000</td> <td>   -1.379</td> <td>   -0.420</td>\n",
       "</tr>\n",
       "</table>"
      ],
      "text/plain": [
       "<class 'statsmodels.iolib.summary.Summary'>\n",
       "\"\"\"\n",
       "                     Multinomial Logit Model Regression Results                    \n",
       "===================================================================================\n",
       "Dep. Variable:                        MODE   No. Observations:                  210\n",
       "Model:             Multinomial Logit Model   Df Residuals:                      203\n",
       "Method:                                MLE   Df Model:                            7\n",
       "Date:                     Fri, 07 Feb 2020   Pseudo R-squ.:                   0.394\n",
       "Time:                             17:03:01   Pseudo R-bar-squ.:               0.370\n",
       "AIC:                               366.641   Log-Likelihood:               -176.320\n",
       "BIC:                               390.070   LL-Null:                      -291.122\n",
       "==================================================================================\n",
       "                     coef    std err          z      P>|z|      [0.025      0.975]\n",
       "----------------------------------------------------------------------------------\n",
       "ASC_air            5.6860      0.937      6.068      0.000       3.849       7.523\n",
       "ASC_train          5.4034      0.603      8.959      0.000       4.221       6.585\n",
       "ASC_bus            5.0128      0.623      8.051      0.000       3.792       6.233\n",
       "TTME              -0.0992      0.011     -9.428      0.000      -0.120      -0.079\n",
       "INVT              -0.0039      0.001     -4.489      0.000      -0.006      -0.002\n",
       "HINC_train_bus    -0.0500      0.011     -4.484      0.000      -0.072      -0.028\n",
       "PSIZE_air         -0.8997      0.245     -3.680      0.000      -1.379      -0.420\n",
       "==================================================================================\n",
       "\"\"\""
      ]
     },
     "execution_count": 7,
     "metadata": {},
     "output_type": "execute_result"
    }
   ],
   "source": [
    "# NOTE: - 规范和变量名是有序字典。\n",
    "#       - 键应该是长格式数据帧中的变量。唯一的例外是截距键“intercept”。\n",
    "#       - 对于规范字典，值应该是整数列表。\n",
    "#       - 在一个列表中，或者在最内部的列表中，整数表示的备选项的ID。\n",
    "#       - 列表表示将共享系数的备选项。\n",
    "basic_specification = OrderedDict()\n",
    "basic_names = OrderedDict()\n",
    "\n",
    "# 注意截距项包含选项个数减1个\n",
    "basic_specification[\"intercept\"] = [0, 1, 2]\n",
    "basic_names[\"intercept\"] = ['ASC_air', 'ASC_train', 'ASC_bus']\n",
    "# 备选项属性的影响方式可以灵活指定\n",
    "basic_specification[\"TTME\"] = [[0, 1, 2]]\n",
    "basic_names[\"TTME\"] = ['TTME']\n",
    "basic_specification[\"INVT\"] = [[0, 1, 2, 3]]\n",
    "basic_names[\"INVT\"] = ['INVT']\n",
    "# 决策者的影响方式也可以灵活指定，但需要注意的是，由于每个选项的决策者属性都一样，因此保证可估计性，只对部分选项生效\n",
    "basic_specification[\"HINC\"] = [[1, 2]]\n",
    "basic_names[\"HINC\"] = [ 'HINC_train_bus']\n",
    "basic_specification[\"PSIZE\"] = [0]\n",
    "basic_names[\"PSIZE\"] = ['PSIZE_air']\n",
    "\n",
    "# 模型创建\n",
    "mnl = pl.create_choice_model(data = model_data,\n",
    "                    alt_id_col=\"ALT_ID\",\n",
    "                    obs_id_col=\"OBS_ID\",\n",
    "                    choice_col=\"MODE\",\n",
    "                    specification=basic_specification,\n",
    "                    model_type = \"MNL\",\n",
    "                    names=basic_names)\n",
    "\n",
    "# 模型估计&模型结果\n",
    "mnl.fit_mle(np.zeros(7))\n",
    "mnl.get_statsmodels_summary()\n",
    "\n",
    "# | -----------------------------------------------------------------\n",
    "# |                   coef     std.err z       P>|z|   [0.025  0.975]\n",
    "# | -----------------------------------------------------------------\n",
    "# | ASC_air          5.6860   0.937   6.068   0.000   3.849   7.523\n",
    "# | ASC_train        5.4034   0.603   8.959   0.000   4.221   6.585\n",
    "# | ASC_bus          5.0128   0.623   8.051   0.000   3.792   6.233\n",
    "# | TTME            -0.0992   0.011  -9.428   0.000  -0.12   -0.079\n",
    "# | INVT            -0.0039   0.001  -4.489   0.000  -0.006  -0.002\n",
    "# | HINC_train_bus  -0.0500   0.011  -4.484   0.000  -0.072  -0.028\n",
    "# | PSIZE_air       -0.8997   0.245  -3.680   0.000  -1.379  -0.420\n",
    "# |=================================================================="
   ]
  },
  {
   "cell_type": "code",
   "execution_count": 8,
   "metadata": {},
   "outputs": [
    {
     "name": "stderr",
     "output_type": "stream",
     "text": [
      "C:\\Users\\TBBack\\Anaconda3\\lib\\site-packages\\ipykernel_launcher.py:10: SettingWithCopyWarning: \n",
      "A value is trying to be set on a copy of a slice from a DataFrame.\n",
      "Try using .loc[row_indexer,col_indexer] = value instead\n",
      "\n",
      "See the caveats in the documentation: http://pandas.pydata.org/pandas-docs/stable/indexing.html#indexing-view-versus-copy\n",
      "  # Remove the CWD from sys.path while we load stuff.\n",
      "C:\\Users\\TBBack\\Anaconda3\\lib\\site-packages\\pylogit\\base_multinomial_cm_v2.py:381: SettingWithCopyWarning: \n",
      "A value is trying to be set on a copy of a slice from a DataFrame.\n",
      "Try using .loc[row_indexer,col_indexer] = value instead\n",
      "\n",
      "See the caveats in the documentation: http://pandas.pydata.org/pandas-docs/stable/indexing.html#indexing-view-versus-copy\n",
      "  dataframe[\"intercept\"] = 1.0\n",
      "C:\\Users\\TBBack\\Anaconda3\\lib\\site-packages\\pylogit\\choice_tools.py:703: FutureWarning: arrays to stack must be passed as a \"sequence\" type such as list or tuple. Support for non-sequence iterables such as generators is deprecated as of NumPy 1.16 and will raise an error in the future.\n",
      "  design_matrix = np.hstack((x[:, None] for x in independent_vars))\n"
     ]
    },
    {
     "name": "stdout",
     "output_type": "stream",
     "text": [
      "--------原概率--------\n",
      "ALT_ID\n",
      "0    0.276190\n",
      "1    0.300000\n",
      "2    0.142857\n",
      "3    0.280952\n",
      "Name: MODE, dtype: float64\n",
      "--------新概率--------\n",
      "ALT_ID\n",
      "0    0.255643\n",
      "1    0.362788\n",
      "2    0.126937\n",
      "3    0.254632\n",
      "Name: MNL_Predictions, dtype: float64\n"
     ]
    }
   ],
   "source": [
    "# 创建用于预测的df\n",
    "prediction_df = model_data[['OBS_ID', 'ALT_ID', 'MODE','TTME', 'INVT','HINC','PSIZE']]\n",
    "choice_column = \"MODE\"\n",
    "# 对火车耗时进行变化\n",
    "def INVT(x,y):\n",
    "    if x == 1:\n",
    "        return y*0.8\n",
    "    else:\n",
    "        return y\n",
    "prediction_df['INVT'] = prediction_df.apply(lambda x: INVT(x.ALT_ID, x.INVT), axis = 1)\n",
    "# 默认情况下，predict方法返回每个选择情况下每个可用备选方案的预测概率。\n",
    "prediction_array = mnl.predict(prediction_df)\n",
    "# 存储预测概率\n",
    "prediction_df[\"MNL_Predictions\"] = prediction_array\n",
    "# 对比变化前后的概率\n",
    "raw_probability = prediction_df.groupby(['ALT_ID'])['MODE'].mean()\n",
    "new_probability = prediction_df.groupby(['ALT_ID'])['MNL_Predictions'].mean()\n",
    "print(\"--------原概率--------\")\n",
    "print(raw_probability)\n",
    "print(\"--------新概率--------\")\n",
    "print(new_probability)\n",
    "\n",
    "# | --------原概率--------\n",
    "# | ALT_ID\n",
    "# | 0    0.276190\n",
    "# | 1    0.300000\n",
    "# | 2    0.142857\n",
    "# | 3    0.280952\n",
    "# | Name: MODE, dtype: float64\n",
    "# | --------新概率--------\n",
    "# | ALT_ID\n",
    "# | 0    0.255643\n",
    "# | 1    0.362788\n",
    "# | 2    0.126937\n",
    "# | 3    0.254632"
   ]
  },
  {
   "cell_type": "code",
   "execution_count": 9,
   "metadata": {},
   "outputs": [
    {
     "name": "stderr",
     "output_type": "stream",
     "text": [
      "C:\\Users\\TBBack\\Anaconda3\\lib\\site-packages\\ipykernel_launcher.py:5: SettingWithCopyWarning: \n",
      "A value is trying to be set on a copy of a slice from a DataFrame.\n",
      "Try using .loc[row_indexer,col_indexer] = value instead\n",
      "\n",
      "See the caveats in the documentation: http://pandas.pydata.org/pandas-docs/stable/indexing.html#indexing-view-versus-copy\n",
      "  \"\"\"\n"
     ]
    },
    {
     "name": "stdout",
     "output_type": "stream",
     "text": [
      "--------原概率--------\n",
      "ALT_ID\n",
      "0    0.276190\n",
      "1    0.300000\n",
      "2    0.142857\n",
      "3    0.280952\n",
      "Name: MODE, dtype: float64\n",
      "--------新概率--------\n",
      "ALT_ID\n",
      "0    0.291839\n",
      "1    0.271424\n",
      "2    0.128988\n",
      "3    0.307749\n",
      "Name: MNL_Predictions, dtype: float64\n"
     ]
    }
   ],
   "source": [
    "# 创建用于预测的df\n",
    "prediction_df = model_data[['OBS_ID', 'ALT_ID', 'MODE','TTME', 'INVT','HINC','PSIZE']]\n",
    "choice_column = \"MODE\"\n",
    "# 对家庭收入进行变化\n",
    "prediction_df['HINC'] = prediction_df['HINC']*1.2\n",
    "# 默认情况下，predict方法返回每个选择情况下每个可用备选方案的预测概率。\n",
    "prediction_array = mnl.predict(prediction_df)\n",
    "# 存储预测概率\n",
    "prediction_df[\"MNL_Predictions\"] = prediction_array\n",
    "# 对比变化前后的概率\n",
    "raw_probability = prediction_df.groupby(['ALT_ID'])['MODE'].mean()\n",
    "new_probability = prediction_df.groupby(['ALT_ID'])['MNL_Predictions'].mean()\n",
    "print(\"--------原概率--------\")\n",
    "print(raw_probability)\n",
    "print(\"--------新概率--------\")\n",
    "print(new_probability)"
   ]
  },
  {
   "cell_type": "code",
   "execution_count": null,
   "metadata": {},
   "outputs": [],
   "source": []
  }
 ],
 "metadata": {
  "kernelspec": {
   "display_name": "Python 3",
   "language": "python",
   "name": "python3"
  },
  "language_info": {
   "codemirror_mode": {
    "name": "ipython",
    "version": 3
   },
   "file_extension": ".py",
   "mimetype": "text/x-python",
   "name": "python",
   "nbconvert_exporter": "python",
   "pygments_lexer": "ipython3",
   "version": "3.7.3"
  }
 },
 "nbformat": 4,
 "nbformat_minor": 2
}
